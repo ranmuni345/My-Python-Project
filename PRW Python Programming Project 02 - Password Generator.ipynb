{
 "cells": [
  {
   "cell_type": "code",
   "execution_count": null,
   "metadata": {},
   "outputs": [],
   "source": [
    "def password_generator():    \n",
    "    import random\n",
    "\n",
    "    flag=True\n",
    "\n",
    "    while flag:\n",
    "        nc=int(input(\"Number of characters:\"))\n",
    "        nu=int(input(\"Number of upper case letters:\"))\n",
    "        nl=int(input(\"Number of lower case letters:\"))\n",
    "        nd=int(input(\"Number of digits:\"))\n",
    "        ns=int(input(\"Number of symbols:\"))\n",
    "\n",
    "        if nu+nl+nd+ns>nc:\n",
    "            print(\"character numbers do not match\")\n",
    "        else:\n",
    "            flag=False\n",
    "\n",
    "    n_extra=nc-(nu+nl+nd+ns)\n",
    "    \n",
    "    get_characters=lambda cl,n:[random.choice(cl) for i in range(n)]\n",
    "\n",
    "    digits=[str(i) for i in range(10)]\n",
    "    digit_char=get_characters(digits,nd)\n",
    "\n",
    "    upper_case_letters=[chr(i) for i in range(65,91)]\n",
    "    upper_char=get_characters(upper_case_letters,nu)\n",
    "\n",
    "    lower_case_letters=[chr(i) for i in range(97,123)]\n",
    "    lower_char=get_characters(lower_case_letters,nl)\n",
    "\n",
    "    symbols=[chr(i) for i in range(32,48)]+[chr(i) for i in range(58,65)]+[chr(i) for i in range(91,97)]+[chr(i) for i in range(123,127)]\n",
    "    symbol_char=get_characters(symbols,ns)\n",
    "\n",
    "    character_list=digits+upper_case_letters+lower_case_letters+symbols\n",
    "    extra_char=get_characters(character_list,n_extra)\n",
    "\n",
    "    password_letters=digit_char+upper_char+lower_char+symbol_char+extra_char\n",
    "    random.shuffle(password_letters)\n",
    "\n",
    "    password=\"\".join(password_letters)\n",
    "    \n",
    "    return password"
   ]
  },
  {
   "cell_type": "code",
   "execution_count": null,
   "metadata": {},
   "outputs": [],
   "source": [
    "password_generator()"
   ]
  },
  {
   "cell_type": "markdown",
   "metadata": {},
   "source": [
    "# You can work with English letters using the string module as well"
   ]
  },
  {
   "cell_type": "code",
   "execution_count": null,
   "metadata": {},
   "outputs": [],
   "source": [
    "import string"
   ]
  },
  {
   "cell_type": "code",
   "execution_count": null,
   "metadata": {},
   "outputs": [],
   "source": [
    "string.ascii_letters"
   ]
  },
  {
   "cell_type": "code",
   "execution_count": null,
   "metadata": {},
   "outputs": [],
   "source": [
    "string.ascii_lowercase"
   ]
  },
  {
   "cell_type": "markdown",
   "metadata": {},
   "source": [
    "A string can be converted to a list of letters by casting to a list"
   ]
  },
  {
   "cell_type": "code",
   "execution_count": null,
   "metadata": {},
   "outputs": [],
   "source": [
    "list(string.ascii_lowercase) "
   ]
  },
  {
   "cell_type": "code",
   "execution_count": null,
   "metadata": {},
   "outputs": [],
   "source": [
    "string.ascii_uppercase"
   ]
  },
  {
   "cell_type": "code",
   "execution_count": null,
   "metadata": {},
   "outputs": [],
   "source": [
    "string.digits"
   ]
  }
 ],
 "metadata": {
  "kernelspec": {
   "display_name": "Python 3",
   "language": "python",
   "name": "python3"
  },
  "language_info": {
   "codemirror_mode": {
    "name": "ipython",
    "version": 3
   },
   "file_extension": ".py",
   "mimetype": "text/x-python",
   "name": "python",
   "nbconvert_exporter": "python",
   "pygments_lexer": "ipython3",
   "version": "3.8.3"
  }
 },
 "nbformat": 4,
 "nbformat_minor": 4
}
