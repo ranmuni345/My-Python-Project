{
 "cells": [
  {
   "cell_type": "code",
   "execution_count": 1,
   "id": "fe8cb07f",
   "metadata": {},
   "outputs": [],
   "source": [
    "import numpy as np"
   ]
  },
  {
   "cell_type": "code",
   "execution_count": 2,
   "id": "b5f273dc",
   "metadata": {},
   "outputs": [],
   "source": [
    "o=np.array([-2,3.45,8,5,6])"
   ]
  },
  {
   "cell_type": "code",
   "execution_count": 3,
   "id": "768e4dfc",
   "metadata": {},
   "outputs": [
    {
     "data": {
      "text/plain": [
       "array([-2.  ,  3.45,  8.  ,  5.  ,  6.  ])"
      ]
     },
     "execution_count": 3,
     "metadata": {},
     "output_type": "execute_result"
    }
   ],
   "source": [
    "o"
   ]
  },
  {
   "cell_type": "code",
   "execution_count": 4,
   "id": "4bd00732",
   "metadata": {},
   "outputs": [
    {
     "data": {
      "text/plain": [
       "array([ 98.  , 103.45, 108.  , 105.  , 106.  ])"
      ]
     },
     "execution_count": 4,
     "metadata": {},
     "output_type": "execute_result"
    }
   ],
   "source": [
    "o+100"
   ]
  },
  {
   "cell_type": "code",
   "execution_count": 5,
   "id": "6098009e",
   "metadata": {},
   "outputs": [
    {
     "data": {
      "text/plain": [
       "array([-102.  ,  -96.55,  -92.  ,  -95.  ,  -94.  ])"
      ]
     },
     "execution_count": 5,
     "metadata": {},
     "output_type": "execute_result"
    }
   ],
   "source": [
    "o-100"
   ]
  },
  {
   "cell_type": "code",
   "execution_count": 7,
   "id": "be307680",
   "metadata": {},
   "outputs": [
    {
     "data": {
      "text/plain": [
       "array([-200.,  345.,  800.,  500.,  600.])"
      ]
     },
     "execution_count": 7,
     "metadata": {},
     "output_type": "execute_result"
    }
   ],
   "source": [
    "o*100"
   ]
  },
  {
   "cell_type": "code",
   "execution_count": 8,
   "id": "497d1192",
   "metadata": {},
   "outputs": [
    {
     "data": {
      "text/plain": [
       "array([1.26765060e+30, 6.05214755e+53, 2.03703598e+90, 7.88860905e+69,\n",
       "       6.53318624e+77])"
      ]
     },
     "execution_count": 8,
     "metadata": {},
     "output_type": "execute_result"
    }
   ],
   "source": [
    "o**100"
   ]
  },
  {
   "cell_type": "code",
   "execution_count": 9,
   "id": "2b0ccd0a",
   "metadata": {},
   "outputs": [
    {
     "data": {
      "text/plain": [
       "array([-2.  ,  3.45,  8.  ,  5.  ,  6.  ])"
      ]
     },
     "execution_count": 9,
     "metadata": {},
     "output_type": "execute_result"
    }
   ],
   "source": [
    "o.T"
   ]
  },
  {
   "cell_type": "code",
   "execution_count": 14,
   "id": "719a23a5",
   "metadata": {},
   "outputs": [
    {
     "data": {
      "text/plain": [
       "array([[ 1.  ,  2.  ,  0.9 ],\n",
       "       [ 2.  ,  3.  , -2.56]])"
      ]
     },
     "execution_count": 14,
     "metadata": {},
     "output_type": "execute_result"
    }
   ],
   "source": [
    "m=np.array([[1,2,9/10],[2,3,-2.56]])\n",
    "m"
   ]
  },
  {
   "cell_type": "code",
   "execution_count": 18,
   "id": "51e4c312",
   "metadata": {},
   "outputs": [
    {
     "data": {
      "text/plain": [
       "array([[ 1.  ,  2.  ],\n",
       "       [ 2.  ,  3.  ],\n",
       "       [ 0.9 , -2.56]])"
      ]
     },
     "execution_count": 18,
     "metadata": {},
     "output_type": "execute_result"
    }
   ],
   "source": [
    "np.transpose(m)"
   ]
  },
  {
   "cell_type": "code",
   "execution_count": 19,
   "id": "92c6bda0",
   "metadata": {},
   "outputs": [
    {
     "data": {
      "text/plain": [
       "array([[ 1.  ,  2.  ],\n",
       "       [ 2.  ,  3.  ],\n",
       "       [ 0.9 , -2.56]])"
      ]
     },
     "execution_count": 19,
     "metadata": {},
     "output_type": "execute_result"
    }
   ],
   "source": [
    "m.T"
   ]
  },
  {
   "cell_type": "code",
   "execution_count": 20,
   "id": "7ec74774",
   "metadata": {},
   "outputs": [
    {
     "data": {
      "text/plain": [
       "4.0"
      ]
     },
     "execution_count": 20,
     "metadata": {},
     "output_type": "execute_result"
    }
   ],
   "source": [
    "np.trace(m)"
   ]
  },
  {
   "cell_type": "code",
   "execution_count": 21,
   "id": "23b37f9c",
   "metadata": {},
   "outputs": [
    {
     "data": {
      "text/plain": [
       "4.0"
      ]
     },
     "execution_count": 21,
     "metadata": {},
     "output_type": "execute_result"
    }
   ],
   "source": [
    "np.trace(m.T)"
   ]
  },
  {
   "cell_type": "code",
   "execution_count": 22,
   "id": "70b6175e",
   "metadata": {},
   "outputs": [
    {
     "data": {
      "text/plain": [
       "array([1., 3.])"
      ]
     },
     "execution_count": 22,
     "metadata": {},
     "output_type": "execute_result"
    }
   ],
   "source": [
    "np.diag(m)"
   ]
  },
  {
   "cell_type": "code",
   "execution_count": 23,
   "id": "3f985432",
   "metadata": {},
   "outputs": [
    {
     "data": {
      "text/plain": [
       "array([ True, False,  True, False,  True])"
      ]
     },
     "execution_count": 23,
     "metadata": {},
     "output_type": "execute_result"
    }
   ],
   "source": [
    "o%2==0"
   ]
  },
  {
   "cell_type": "code",
   "execution_count": 28,
   "id": "2d3ec872",
   "metadata": {},
   "outputs": [
    {
     "data": {
      "text/plain": [
       "array([False, False, False, False,  True])"
      ]
     },
     "execution_count": 28,
     "metadata": {},
     "output_type": "execute_result"
    }
   ],
   "source": [
    "o%3==0"
   ]
  },
  {
   "cell_type": "code",
   "execution_count": 29,
   "id": "73e8b2bd",
   "metadata": {},
   "outputs": [
    {
     "data": {
      "text/plain": [
       "array([[False,  True, False],\n",
       "       [ True, False, False]])"
      ]
     },
     "execution_count": 29,
     "metadata": {},
     "output_type": "execute_result"
    }
   ],
   "source": [
    "m%2==0"
   ]
  },
  {
   "cell_type": "code",
   "execution_count": 30,
   "id": "6863bfaf",
   "metadata": {},
   "outputs": [
    {
     "data": {
      "text/plain": [
       "array([[False, False, False],\n",
       "       [False,  True, False]])"
      ]
     },
     "execution_count": 30,
     "metadata": {},
     "output_type": "execute_result"
    }
   ],
   "source": [
    "m%3==0"
   ]
  },
  {
   "cell_type": "code",
   "execution_count": 31,
   "id": "d20e893a",
   "metadata": {},
   "outputs": [],
   "source": [
    "import numpy as np"
   ]
  },
  {
   "cell_type": "code",
   "execution_count": 32,
   "id": "29c27913",
   "metadata": {},
   "outputs": [],
   "source": [
    "o=np.array([-2,3.45,8,5,6])"
   ]
  },
  {
   "cell_type": "code",
   "execution_count": 33,
   "id": "ce3a1b9e",
   "metadata": {},
   "outputs": [
    {
     "data": {
      "text/plain": [
       "array([-2.  ,  3.45,  8.  ,  5.  ,  6.  ])"
      ]
     },
     "execution_count": 33,
     "metadata": {},
     "output_type": "execute_result"
    }
   ],
   "source": [
    "o"
   ]
  },
  {
   "cell_type": "code",
   "execution_count": 35,
   "id": "6f86c0ea",
   "metadata": {},
   "outputs": [
    {
     "data": {
      "text/plain": [
       "array([ True, False,  True, False,  True])"
      ]
     },
     "execution_count": 35,
     "metadata": {},
     "output_type": "execute_result"
    }
   ],
   "source": [
    "o%2==0"
   ]
  },
  {
   "cell_type": "code",
   "execution_count": 38,
   "id": "9c05912c",
   "metadata": {},
   "outputs": [
    {
     "data": {
      "text/plain": [
       "array([-200.  ,    3.45,  800.  ,    5.  ,  600.  ])"
      ]
     },
     "execution_count": 38,
     "metadata": {},
     "output_type": "execute_result"
    }
   ],
   "source": [
    "np.where(o%2==0,o*100,o)"
   ]
  },
  {
   "cell_type": "code",
   "execution_count": 39,
   "id": "48d468ce",
   "metadata": {},
   "outputs": [
    {
     "data": {
      "text/plain": [
       "-2.0"
      ]
     },
     "execution_count": 39,
     "metadata": {},
     "output_type": "execute_result"
    }
   ],
   "source": [
    "o.min()"
   ]
  },
  {
   "cell_type": "code",
   "execution_count": 40,
   "id": "7641cceb",
   "metadata": {},
   "outputs": [
    {
     "data": {
      "text/plain": [
       "8.0"
      ]
     },
     "execution_count": 40,
     "metadata": {},
     "output_type": "execute_result"
    }
   ],
   "source": [
    "o.max()"
   ]
  },
  {
   "cell_type": "code",
   "execution_count": 41,
   "id": "a8fee94e",
   "metadata": {},
   "outputs": [
    {
     "data": {
      "text/plain": [
       "4.09"
      ]
     },
     "execution_count": 41,
     "metadata": {},
     "output_type": "execute_result"
    }
   ],
   "source": [
    "o.mean()"
   ]
  },
  {
   "cell_type": "code",
   "execution_count": 43,
   "id": "6c76b56d",
   "metadata": {},
   "outputs": [],
   "source": [
    "o.sort()"
   ]
  },
  {
   "cell_type": "code",
   "execution_count": 44,
   "id": "267c19f5",
   "metadata": {},
   "outputs": [
    {
     "data": {
      "text/plain": [
       "array([-2.  ,  3.45,  5.  ,  6.  ,  8.  ])"
      ]
     },
     "execution_count": 44,
     "metadata": {},
     "output_type": "execute_result"
    }
   ],
   "source": [
    "o"
   ]
  },
  {
   "cell_type": "code",
   "execution_count": 45,
   "id": "f06f7ae9",
   "metadata": {},
   "outputs": [
    {
     "data": {
      "text/plain": [
       "20.45"
      ]
     },
     "execution_count": 45,
     "metadata": {},
     "output_type": "execute_result"
    }
   ],
   "source": [
    "o.sum()"
   ]
  },
  {
   "cell_type": "code",
   "execution_count": 46,
   "id": "d1e4e448",
   "metadata": {},
   "outputs": [
    {
     "data": {
      "text/plain": [
       "4.09"
      ]
     },
     "execution_count": 46,
     "metadata": {},
     "output_type": "execute_result"
    }
   ],
   "source": [
    "np.mean(o)"
   ]
  },
  {
   "cell_type": "code",
   "execution_count": 47,
   "id": "b74ab959",
   "metadata": {},
   "outputs": [
    {
     "data": {
      "text/plain": [
       "-2.0"
      ]
     },
     "execution_count": 47,
     "metadata": {},
     "output_type": "execute_result"
    }
   ],
   "source": [
    "np.min(o)"
   ]
  },
  {
   "cell_type": "code",
   "execution_count": 48,
   "id": "15600c92",
   "metadata": {},
   "outputs": [
    {
     "data": {
      "text/plain": [
       "8.0"
      ]
     },
     "execution_count": 48,
     "metadata": {},
     "output_type": "execute_result"
    }
   ],
   "source": [
    "np.max(o)"
   ]
  },
  {
   "cell_type": "code",
   "execution_count": 49,
   "id": "8d7a84bd",
   "metadata": {},
   "outputs": [
    {
     "data": {
      "text/plain": [
       "5.0"
      ]
     },
     "execution_count": 49,
     "metadata": {},
     "output_type": "execute_result"
    }
   ],
   "source": [
    "np.median(o)"
   ]
  },
  {
   "cell_type": "code",
   "execution_count": 50,
   "id": "729a90c7",
   "metadata": {},
   "outputs": [
    {
     "data": {
      "text/plain": [
       "array([[ 1.  ,  2.  ,  0.9 ],\n",
       "       [ 2.  ,  3.  , -2.56]])"
      ]
     },
     "execution_count": 50,
     "metadata": {},
     "output_type": "execute_result"
    }
   ],
   "source": [
    "m=np.array([[1,2,9/10],[2,3,-2.56]])\n",
    "m"
   ]
  },
  {
   "cell_type": "code",
   "execution_count": 51,
   "id": "75488d89",
   "metadata": {},
   "outputs": [
    {
     "data": {
      "text/plain": [
       "array([[ 1.  , -2.  ,  0.9 ],\n",
       "       [ 2.  ,  3.65, -2.56]])"
      ]
     },
     "execution_count": 51,
     "metadata": {},
     "output_type": "execute_result"
    }
   ],
   "source": [
    "n=np.array([[1,-2,9/10],[2,3.65,-2.56]])\n",
    "n"
   ]
  },
  {
   "cell_type": "code",
   "execution_count": 52,
   "id": "9ffabeed",
   "metadata": {},
   "outputs": [
    {
     "data": {
      "text/plain": [
       "array([[ 1.  ,  2.  ,  0.9 ],\n",
       "       [ 2.  ,  3.  , -2.56],\n",
       "       [ 1.  , -2.  ,  0.9 ],\n",
       "       [ 2.  ,  3.65, -2.56]])"
      ]
     },
     "execution_count": 52,
     "metadata": {},
     "output_type": "execute_result"
    }
   ],
   "source": [
    "np.append(m,n,axis=0)"
   ]
  },
  {
   "cell_type": "code",
   "execution_count": 53,
   "id": "54279641",
   "metadata": {},
   "outputs": [
    {
     "data": {
      "text/plain": [
       "array([[ 1.  ,  2.  ,  0.9 ,  1.  , -2.  ,  0.9 ],\n",
       "       [ 2.  ,  3.  , -2.56,  2.  ,  3.65, -2.56]])"
      ]
     },
     "execution_count": 53,
     "metadata": {},
     "output_type": "execute_result"
    }
   ],
   "source": [
    "np.append(m,n,axis=-1)"
   ]
  },
  {
   "cell_type": "code",
   "execution_count": 54,
   "id": "0ff0ea28",
   "metadata": {},
   "outputs": [
    {
     "data": {
      "text/plain": [
       "array([[ 1.  ,  2.  ,  0.9 ,  1.  , -2.  ,  0.9 ],\n",
       "       [ 2.  ,  3.  , -2.56,  2.  ,  3.65, -2.56]])"
      ]
     },
     "execution_count": 54,
     "metadata": {},
     "output_type": "execute_result"
    }
   ],
   "source": [
    "np.append(m,n,axis=1)"
   ]
  },
  {
   "cell_type": "code",
   "execution_count": 56,
   "id": "73b585ae",
   "metadata": {},
   "outputs": [],
   "source": [
    "import numpy as np"
   ]
  },
  {
   "cell_type": "code",
   "execution_count": 58,
   "id": "cccd43a7",
   "metadata": {},
   "outputs": [
    {
     "ename": "ValueError",
     "evalue": "negative dimensions are not allowed",
     "output_type": "error",
     "traceback": [
      "\u001b[1;31m---------------------------------------------------------------------------\u001b[0m",
      "\u001b[1;31mValueError\u001b[0m                                Traceback (most recent call last)",
      "\u001b[1;32m<ipython-input-58-a54b96a5f98f>\u001b[0m in \u001b[0;36m<module>\u001b[1;34m\u001b[0m\n\u001b[1;32m----> 1\u001b[1;33m \u001b[0ma\u001b[0m\u001b[1;33m=\u001b[0m\u001b[0mnp\u001b[0m\u001b[1;33m.\u001b[0m\u001b[0mrandom\u001b[0m\u001b[1;33m.\u001b[0m\u001b[0mrandom\u001b[0m\u001b[1;33m(\u001b[0m\u001b[1;33m(\u001b[0m\u001b[1;33m-\u001b[0m\u001b[1;36m3\u001b[0m\u001b[1;33m,\u001b[0m\u001b[1;36m8\u001b[0m\u001b[1;33m)\u001b[0m\u001b[1;33m)\u001b[0m\u001b[1;33m\u001b[0m\u001b[1;33m\u001b[0m\u001b[0m\n\u001b[0m\u001b[0;32m      2\u001b[0m \u001b[0ma\u001b[0m\u001b[1;33m\u001b[0m\u001b[1;33m\u001b[0m\u001b[0m\n",
      "\u001b[1;32mmtrand.pyx\u001b[0m in \u001b[0;36mnumpy.random.mtrand.RandomState.random\u001b[1;34m()\u001b[0m\n",
      "\u001b[1;32mmtrand.pyx\u001b[0m in \u001b[0;36mnumpy.random.mtrand.RandomState.random_sample\u001b[1;34m()\u001b[0m\n",
      "\u001b[1;32m_common.pyx\u001b[0m in \u001b[0;36mnumpy.random._common.double_fill\u001b[1;34m()\u001b[0m\n",
      "\u001b[1;31mValueError\u001b[0m: negative dimensions are not allowed"
     ]
    }
   ],
   "source": [
    "a=np.random.random((-3,8))\n",
    "a"
   ]
  },
  {
   "cell_type": "code",
   "execution_count": 60,
   "id": "1c23537e",
   "metadata": {},
   "outputs": [
    {
     "data": {
      "text/plain": [
       "array([[0.88010944, 0.09267543, 0.42632974, 0.04083721, 0.12063436,\n",
       "        0.18302219, 0.70660739, 0.56309986],\n",
       "       [0.99688846, 0.95834808, 0.05495957, 0.79997714, 0.94542435,\n",
       "        0.5097852 , 0.27146315, 0.67931821],\n",
       "       [0.68973174, 0.12927585, 0.34161544, 0.46509051, 0.53002707,\n",
       "        0.64026711, 0.33989577, 0.02862787]])"
      ]
     },
     "execution_count": 60,
     "metadata": {},
     "output_type": "execute_result"
    }
   ],
   "source": [
    "a=np.random.random((3,8))\n",
    "a"
   ]
  },
  {
   "cell_type": "code",
   "execution_count": 63,
   "id": "4f790088",
   "metadata": {},
   "outputs": [
    {
     "data": {
      "text/plain": [
       "[array([[0.88010944],\n",
       "        [0.99688846],\n",
       "        [0.68973174]]),\n",
       " array([[0.09267543],\n",
       "        [0.95834808],\n",
       "        [0.12927585]]),\n",
       " array([[0.42632974],\n",
       "        [0.05495957],\n",
       "        [0.34161544]]),\n",
       " array([[0.04083721],\n",
       "        [0.79997714],\n",
       "        [0.46509051]]),\n",
       " array([[0.12063436],\n",
       "        [0.94542435],\n",
       "        [0.53002707]]),\n",
       " array([[0.18302219],\n",
       "        [0.5097852 ],\n",
       "        [0.64026711]]),\n",
       " array([[0.70660739],\n",
       "        [0.27146315],\n",
       "        [0.33989577]]),\n",
       " array([[0.56309986],\n",
       "        [0.67931821],\n",
       "        [0.02862787]])]"
      ]
     },
     "execution_count": 63,
     "metadata": {},
     "output_type": "execute_result"
    }
   ],
   "source": [
    "b=np.hsplit(a,8)\n",
    "b"
   ]
  },
  {
   "cell_type": "code",
   "execution_count": 64,
   "id": "35dfceb4",
   "metadata": {},
   "outputs": [
    {
     "data": {
      "text/plain": [
       "array([[0.88010944, 0.09267543, 0.42632974, 0.04083721, 0.12063436,\n",
       "        0.18302219, 0.70660739, 0.56309986],\n",
       "       [0.99688846, 0.95834808, 0.05495957, 0.79997714, 0.94542435,\n",
       "        0.5097852 , 0.27146315, 0.67931821],\n",
       "       [0.68973174, 0.12927585, 0.34161544, 0.46509051, 0.53002707,\n",
       "        0.64026711, 0.33989577, 0.02862787]])"
      ]
     },
     "execution_count": 64,
     "metadata": {},
     "output_type": "execute_result"
    }
   ],
   "source": [
    "np.roll(a,0)"
   ]
  },
  {
   "cell_type": "code",
   "execution_count": 65,
   "id": "374b0379",
   "metadata": {},
   "outputs": [
    {
     "data": {
      "text/plain": [
       "array([[0.88010944, 0.09267543, 0.42632974, 0.04083721, 0.12063436,\n",
       "        0.18302219, 0.70660739, 0.56309986],\n",
       "       [0.99688846, 0.95834808, 0.05495957, 0.79997714, 0.94542435,\n",
       "        0.5097852 , 0.27146315, 0.67931821],\n",
       "       [0.68973174, 0.12927585, 0.34161544, 0.46509051, 0.53002707,\n",
       "        0.64026711, 0.33989577, 0.02862787]])"
      ]
     },
     "execution_count": 65,
     "metadata": {},
     "output_type": "execute_result"
    }
   ],
   "source": [
    "a.astype(float)"
   ]
  },
  {
   "cell_type": "code",
   "execution_count": 66,
   "id": "6781a488",
   "metadata": {},
   "outputs": [],
   "source": [
    "L=[2,3,4,8,-9]"
   ]
  },
  {
   "cell_type": "code",
   "execution_count": 67,
   "id": "4dbb1949",
   "metadata": {},
   "outputs": [
    {
     "data": {
      "text/plain": [
       "['2', '3', '4', '8', '-9']"
      ]
     },
     "execution_count": 67,
     "metadata": {},
     "output_type": "execute_result"
    }
   ],
   "source": [
    "[str(i) for i in L]"
   ]
  },
  {
   "cell_type": "code",
   "execution_count": 68,
   "id": "70a7ef73",
   "metadata": {},
   "outputs": [
    {
     "data": {
      "text/plain": [
       "['2', '3', '4', '8', '-9']"
      ]
     },
     "execution_count": 68,
     "metadata": {},
     "output_type": "execute_result"
    }
   ],
   "source": [
    "list(map(str,L))"
   ]
  },
  {
   "cell_type": "code",
   "execution_count": 69,
   "id": "7f775ea0",
   "metadata": {},
   "outputs": [
    {
     "name": "stdout",
     "output_type": "stream",
     "text": [
      "imesh: Hello I am imesh. What is your Name?\n",
      "Your Name :imesh\n",
      "imesh: Hi(name)...so what do you want to know about our company?\n",
      "Your answer :Leeza(PVT)Ltd\n"
     ]
    }
   ],
   "source": [
    "print(\"imesh: Hello I am imesh. What is your Name?\")\n",
    "name=input(\"Your Name :\")\n",
    "print(f\"imesh: Hi(name)...so what do you want to know about our company?\")\n",
    "ans=input(\"Your answer :\")\n",
    "\n",
    "if all(i in ans.lower().split(\" \") for i in [\"company\",\"name\"]):\n",
    "    print(\"imesh: our company is Leeza(PVT)Ltd\")"
   ]
  },
  {
   "cell_type": "code",
   "execution_count": 121,
   "id": "9c1561a2",
   "metadata": {},
   "outputs": [
    {
     "ename": "SyntaxError",
     "evalue": "invalid syntax (<ipython-input-121-ac30beb262a6>, line 39)",
     "output_type": "error",
     "traceback": [
      "\u001b[1;36m  File \u001b[1;32m\"<ipython-input-121-ac30beb262a6>\"\u001b[1;36m, line \u001b[1;32m39\u001b[0m\n\u001b[1;33m    else:\u001b[0m\n\u001b[1;37m    ^\u001b[0m\n\u001b[1;31mSyntaxError\u001b[0m\u001b[1;31m:\u001b[0m invalid syntax\n"
     ]
    }
   ],
   "source": [
    "print(\"imesh: Hello I am imesh. What is your Name?\")\n",
    "name=input(\"Your Name :\")\n",
    "print(f\"imesh: Hi(name)...so what do you want to know about our company?\")\n",
    "ans=input(\"Your answer :\")\n",
    "\n",
    "flag=True\n",
    "\n",
    "while flag:\n",
    "\n",
    "   if all(i in ans.lower().split(\" \") for i in [\"company\",\"name\"]):\n",
    "      print(\"imesh: our company is Leeza(PVT)Ltd\")\n",
    "      print(\"imesh: Do you want to know anything else?\")\n",
    "      check=input(\"Your answer:\")\n",
    "      if any(i in check.lower().split(\" \") for i in [\"yes\",\"yeah\",\"exactly\",\"sure\"]):\n",
    "          print(\"imesh: okay, what do you want to know?\")\n",
    "          ans=input(\"Your answer:\")\n",
    "          flag=True\n",
    "      else:\n",
    "          print(f\"imesh: okay(name). Nice to chat with you. Have a nice day\")\n",
    "          flag=False\n",
    "    \n",
    "   elif all(i in ans.lower().split(\" \") for i in [\"ceo\"]):\n",
    "    print(\"imesh: our CEO is Mr.Lazy Peter\")\n",
    "    \n",
    "   elif any(i in ans.lower().split(\" \") for i in [\"address\",\"location\",\"place\",\"located\",\"where\"]):\n",
    "    print(\"imesh: our address is 175 Kaduwela Road, Malabe\")\n",
    "    \n",
    "   elif any(i in ans.lower().split(\" \") for i in [\"Contact\",\"Telephone\",\"email\",\"telephone number\"]):\n",
    "    print(\"imesh: Contact us. Our email:harsha345@gmail.com, Our telephone number:0112874646\")\n",
    "    print(\"imesh: Do you want to know anything else?\")\n",
    "    check=input(\"Your answer:\")\n",
    "    if any(i in check.lower().split(\" \") for i in [\"yes\",\"yeah\",\"exactly\",\"sure\"]):\n",
    "          print(\"imesh: okay, what do you want to know?\")\n",
    "          ans=input(\"Your answer:\")\n",
    "          flag=True   \n",
    "   else:\n",
    "          print(f\"imesh: okay(name). Nice to chat with you. Have a nice day\")\n",
    "          flag=False \n",
    "   else:\n",
    "          print(\"imesh: Sorry[name], I can't understand your question\")\n",
    "          print(\"imesh: Do you want to know anything else?\")\n",
    "   check=input(\"Your answer:\")\n",
    "      if any(i in check.lower().split(\" \") for i in [\"yes\",\"yeah\",\"exactly\",\"sure\"]):\n",
    "          print(\"imesh: okay, what do you want to know?\")\n",
    "          ans=input(\"Your answer:\")\n",
    "          flag=True\n",
    "   else:\n",
    "          print(f\"imesh: okay(name). Nice to chat with you. Have a nice day\")\n",
    "          flag=False"
   ]
  }
 ],
 "metadata": {
  "kernelspec": {
   "display_name": "Python 3",
   "language": "python",
   "name": "python3"
  },
  "language_info": {
   "codemirror_mode": {
    "name": "ipython",
    "version": 3
   },
   "file_extension": ".py",
   "mimetype": "text/x-python",
   "name": "python",
   "nbconvert_exporter": "python",
   "pygments_lexer": "ipython3",
   "version": "3.8.8"
  }
 },
 "nbformat": 4,
 "nbformat_minor": 5
}
