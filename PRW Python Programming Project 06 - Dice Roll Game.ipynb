{
 "cells": [
  {
   "cell_type": "code",
   "execution_count": null,
   "metadata": {},
   "outputs": [],
   "source": [
    "import random\n",
    "import pyttsx3\n",
    "import os\n",
    "\n",
    "eng=pyttsx3.init()\n",
    "eng.setProperty(\"rate\",125)\n",
    "\n",
    "roll_die=lambda : random.randint(1,6)\n",
    "\n",
    "def dice_game(rounds):\n",
    "    eng.say(\"Enter the name of player 1\")\n",
    "    eng.runAndWait()\n",
    "    player01=input(\"Enter the name :\")\n",
    "    \n",
    "    eng.say(\"Enter the name of player 2\")\n",
    "    eng.runAndWait()\n",
    "    player02=input(\"Enter the name :\")\n",
    "    \n",
    "    p1win=0\n",
    "    p2win=0\n",
    "    rn=1\n",
    "    \n",
    "    eng.say(\"Let's start\")\n",
    "    eng.runAndWait()\n",
    "    \n",
    "    while rn<=rounds:\n",
    "        if rn!=1:\n",
    "            input(\"Please just press ENTER key to continue the game\")\n",
    "        \n",
    "        eng.say(\"Round number {}\".format(rn))\n",
    "        eng.runAndWait()\n",
    "        p1=roll_die()\n",
    "        p2=roll_die()\n",
    "        print(\"Player 1 roll: {} & Player 2 roll: {}\".format(p1,p2))\n",
    "        \n",
    "        if p1==p2:\n",
    "            print(\"Round was drawn\")\n",
    "        elif p1>p2:\n",
    "            print(\"Round was won by {}\".format(player01))\n",
    "            p1win+=1\n",
    "        else:\n",
    "            print(\"Round was won by {}\".format(player02))\n",
    "            p2win+=1\n",
    "        \n",
    "        rn+=1\n",
    "        print(\"*******************************************************************************************\")\n",
    "    if p1win==p2win:\n",
    "        eng.say(\"Game was drawn\")\n",
    "        eng.runAndWait()\n",
    "    elif p1win>p2win:\n",
    "        print(\"Congratulations {}. You have won.\".format(player01))\n",
    "        eng.say(\"Game was won by {}. You have won, {} rounds out of {}\".format(player01,p1win,rounds))\n",
    "        eng.runAndWait()\n",
    "    else:\n",
    "        print(\"Congratulations {}. You have won.\".format(player02))\n",
    "        eng.say(\"Game was won by {}. You have won, {} rounds out of {}\".format(player02,p2win,rounds))\n",
    "        eng.runAndWait()"
   ]
  },
  {
   "cell_type": "code",
   "execution_count": null,
   "metadata": {},
   "outputs": [],
   "source": [
    "dice_game(5)"
   ]
  }
 ],
 "metadata": {
  "kernelspec": {
   "display_name": "Python 3",
   "language": "python",
   "name": "python3"
  },
  "language_info": {
   "codemirror_mode": {
    "name": "ipython",
    "version": 3
   },
   "file_extension": ".py",
   "mimetype": "text/x-python",
   "name": "python",
   "nbconvert_exporter": "python",
   "pygments_lexer": "ipython3",
   "version": "3.8.3"
  }
 },
 "nbformat": 4,
 "nbformat_minor": 4
}
