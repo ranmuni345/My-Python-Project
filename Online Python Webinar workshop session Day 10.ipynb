{
 "cells": [
  {
   "cell_type": "code",
   "execution_count": 6,
   "id": "d81d9b27",
   "metadata": {},
   "outputs": [
    {
     "name": "stdout",
     "output_type": "stream",
     "text": [
      "*\n",
      "*\n",
      "*\n",
      "*\n",
      "*\n",
      "*\n",
      "*\n",
      "*\n",
      "*\n",
      "*\n",
      "*\n",
      "*\n",
      "*\n",
      "*\n",
      "*\n"
     ]
    }
   ],
   "source": [
    "num=5\n",
    "\n",
    "\n",
    "for i in range(0,num):\n",
    "    for j in range(0,num-i):\n",
    "           print(end=\"*\")\n",
    "           print()"
   ]
  },
  {
   "cell_type": "code",
   "execution_count": 7,
   "id": "dd306b1b",
   "metadata": {},
   "outputs": [
    {
     "name": "stdout",
     "output_type": "stream",
     "text": [
      "*\n",
      "*\n",
      "*\n",
      "*\n",
      "*\n",
      "*\n",
      "*\n",
      "*\n",
      "*\n",
      "*\n"
     ]
    }
   ],
   "source": [
    "num=5\n",
    "\n",
    "\n",
    "for i in range(0,num):\n",
    "    for j in range(0,num-i-1):\n",
    "           print(end=\"*\")\n",
    "           print()"
   ]
  },
  {
   "cell_type": "code",
   "execution_count": 9,
   "id": "e28dddce",
   "metadata": {},
   "outputs": [
    {
     "name": "stdout",
     "output_type": "stream",
     "text": [
      "* \n",
      "* \n",
      "* \n",
      "* \n",
      "* \n",
      "* \n",
      "* \n",
      "* \n",
      "* \n",
      "* \n"
     ]
    }
   ],
   "source": [
    "num=5\n",
    "\n",
    "\n",
    "for i in range(0,num):\n",
    "    for j in range(0,num-i-1):\n",
    "           print(\"*\",end=\" \")\n",
    "           print()"
   ]
  },
  {
   "cell_type": "code",
   "execution_count": 13,
   "id": "21a4e7ea",
   "metadata": {},
   "outputs": [
    {
     "name": "stdout",
     "output_type": "stream",
     "text": [
      "    * \n",
      "   * * \n",
      "  * * * \n",
      " * * * * \n",
      "* * * * * \n"
     ]
    }
   ],
   "source": [
    "num=5\n",
    "\n",
    "for i in range(0,num):\n",
    "    for j in range(0,num-i-1):\n",
    "        print(end=\" \")\n",
    "    for k in range(0,i+1):\n",
    "        print(\"*\",end=\" \")\n",
    "    print()"
   ]
  },
  {
   "cell_type": "code",
   "execution_count": 38,
   "id": "f35a732a",
   "metadata": {},
   "outputs": [],
   "source": [
    "def pattern3(num):\n",
    "   for i in range(0,num):\n",
    "    \n",
    "      for j in range(0,num-i-1):\n",
    "        print(end=\" \")\n",
    "        \n",
    "      for k in range(0,i+1):\n",
    "        print(\"*\",end=\" \")\n",
    "      print()"
   ]
  },
  {
   "cell_type": "code",
   "execution_count": 39,
   "id": "7fe3aa80",
   "metadata": {},
   "outputs": [
    {
     "name": "stdout",
     "output_type": "stream",
     "text": [
      "    * \n",
      "   * * \n",
      "  * * * \n",
      " * * * * \n",
      "* * * * * \n"
     ]
    }
   ],
   "source": [
    "pattern3(5)"
   ]
  },
  {
   "cell_type": "code",
   "execution_count": 40,
   "id": "fe6aaa69",
   "metadata": {},
   "outputs": [],
   "source": [
    "def pattern3(num):\n",
    "   for i in range(0,num):\n",
    "    \n",
    "      for j in range(0,num-i-1):\n",
    "        print(end=\" \")\n",
    "        \n",
    "      for k in range(0,i+1):\n",
    "        print(\"*\",end=\" \")\n",
    "      print()"
   ]
  },
  {
   "cell_type": "code",
   "execution_count": 41,
   "id": "d1f1db89",
   "metadata": {},
   "outputs": [
    {
     "name": "stdout",
     "output_type": "stream",
     "text": [
      "         * \n",
      "        * * \n",
      "       * * * \n",
      "      * * * * \n",
      "     * * * * * \n",
      "    * * * * * * \n",
      "   * * * * * * * \n",
      "  * * * * * * * * \n",
      " * * * * * * * * * \n",
      "* * * * * * * * * * \n"
     ]
    }
   ],
   "source": [
    "pattern3(10)"
   ]
  },
  {
   "cell_type": "code",
   "execution_count": 54,
   "id": "a0f6a04c",
   "metadata": {},
   "outputs": [],
   "source": [
    "def pattern3(num):\n",
    "   for i in range(num,0,-1):\n",
    "      for j in range(0,num-i):\n",
    "        print(end=\" \")\n",
    "      for k in range(0,i):\n",
    "        print(\"*\",end=\" \")\n",
    "      print()"
   ]
  },
  {
   "cell_type": "code",
   "execution_count": 55,
   "id": "97d1bcba",
   "metadata": {},
   "outputs": [
    {
     "name": "stdout",
     "output_type": "stream",
     "text": [
      "* * * * * \n",
      " * * * * \n",
      "  * * * \n",
      "   * * \n",
      "    * \n"
     ]
    }
   ],
   "source": [
    "pattern3(5)"
   ]
  },
  {
   "cell_type": "code",
   "execution_count": 56,
   "id": "e41969a4",
   "metadata": {},
   "outputs": [],
   "source": [
    "def pattern3(num):\n",
    "   for i in range(num,0,-1):\n",
    "      for j in range(0,num-i):\n",
    "        print(end=\" \")\n",
    "      for k in range(0,i):\n",
    "        print(\"*\",end=\" \")\n",
    "      print()"
   ]
  },
  {
   "cell_type": "code",
   "execution_count": 58,
   "id": "328805e0",
   "metadata": {},
   "outputs": [
    {
     "name": "stdout",
     "output_type": "stream",
     "text": [
      "* * * * * * * * * * \n",
      " * * * * * * * * * \n",
      "  * * * * * * * * \n",
      "   * * * * * * * \n",
      "    * * * * * * \n",
      "     * * * * * \n",
      "      * * * * \n",
      "       * * * \n",
      "        * * \n",
      "         * \n"
     ]
    }
   ],
   "source": [
    "pattern3(10)"
   ]
  },
  {
   "cell_type": "code",
   "execution_count": 68,
   "id": "a6abeff1",
   "metadata": {},
   "outputs": [],
   "source": [
    "def pattern5(num):\n",
    "    pattern3(num)\n",
    "    pattern4(num)"
   ]
  },
  {
   "cell_type": "code",
   "execution_count": 69,
   "id": "6f5bdb54",
   "metadata": {},
   "outputs": [
    {
     "name": "stdout",
     "output_type": "stream",
     "text": [
      "* * * * * \n",
      " * * * * \n",
      "  * * * \n",
      "   * * \n",
      "    * \n"
     ]
    }
   ],
   "source": [
    "pattern3(5)"
   ]
  },
  {
   "cell_type": "code",
   "execution_count": 70,
   "id": "eb01f340",
   "metadata": {},
   "outputs": [
    {
     "name": "stdout",
     "output_type": "stream",
     "text": [
      "     *\n",
      "    **\n",
      "   ***\n",
      "  ****\n",
      " *****\n"
     ]
    }
   ],
   "source": [
    "num=5\n",
    "\n",
    "for i in range(num):\n",
    "    print(\" \"*(num-i)+\"*\"*(i+1))"
   ]
  },
  {
   "cell_type": "code",
   "execution_count": 71,
   "id": "3d944c32",
   "metadata": {},
   "outputs": [
    {
     "name": "stdout",
     "output_type": "stream",
     "text": [
      "     \n",
      "    \n",
      "   *\n",
      "  **\n",
      " ***\n"
     ]
    }
   ],
   "source": [
    "num=5\n",
    "\n",
    "for i in range(num):\n",
    "    print(\" \"*(num-i)+\"*\"*(i-1))"
   ]
  },
  {
   "cell_type": "code",
   "execution_count": 72,
   "id": "cd3178d2",
   "metadata": {},
   "outputs": [
    {
     "name": "stdout",
     "output_type": "stream",
     "text": [
      "     \n",
      "      \n",
      "       *\n",
      "        **\n",
      "         ***\n"
     ]
    }
   ],
   "source": [
    "num=5\n",
    "\n",
    "for i in range(num):\n",
    "    print(\" \"*(num+i)+\"*\"*(i-1))"
   ]
  },
  {
   "cell_type": "code",
   "execution_count": 73,
   "id": "4f1cf9f3",
   "metadata": {},
   "outputs": [
    {
     "name": "stdout",
     "output_type": "stream",
     "text": [
      " \n",
      "  \n",
      "   *\n",
      "    **\n",
      "     ***\n"
     ]
    }
   ],
   "source": [
    "num=5\n",
    "\n",
    "for i in range(num):\n",
    "    print(\" \"*(i+1)+\"*\"*(i-1))"
   ]
  },
  {
   "cell_type": "code",
   "execution_count": 74,
   "id": "d7badf11",
   "metadata": {},
   "outputs": [
    {
     "name": "stdout",
     "output_type": "stream",
     "text": [
      " *****\n",
      "  ****\n",
      "   ***\n",
      "    **\n",
      "     *\n"
     ]
    }
   ],
   "source": [
    "num=5\n",
    "\n",
    "for i in range(num):\n",
    "    print(\" \"*(i+1)+\"*\"*(num-i))"
   ]
  },
  {
   "cell_type": "code",
   "execution_count": 75,
   "id": "95ccafd5",
   "metadata": {},
   "outputs": [
    {
     "name": "stdout",
     "output_type": "stream",
     "text": [
      " *****\n",
      "  ******\n",
      "   *******\n",
      "    ********\n",
      "     *********\n"
     ]
    }
   ],
   "source": [
    "num=5\n",
    "\n",
    "for i in range(num):\n",
    "    print(\" \"*(i+1)+\"*\"*(num+i))"
   ]
  },
  {
   "cell_type": "code",
   "execution_count": 82,
   "id": "b68db6d7",
   "metadata": {},
   "outputs": [],
   "source": [
    "def pattern6(num):  \n",
    "  for i in range(num):\n",
    "     print(\" \"*(num-i)+\" *\"*(i+1))\n",
    "        \n",
    "  for i in range(num):\n",
    "     print(\" \"*(i+2)+\" *\"*(num-i-1))"
   ]
  },
  {
   "cell_type": "code",
   "execution_count": 83,
   "id": "1e85f821",
   "metadata": {},
   "outputs": [
    {
     "name": "stdout",
     "output_type": "stream",
     "text": [
      "      *\n",
      "     * *\n",
      "    * * *\n",
      "   * * * *\n",
      "  * * * * *\n",
      "   * * * *\n",
      "    * * *\n",
      "     * *\n",
      "      *\n",
      "      \n"
     ]
    }
   ],
   "source": [
    "pattern6(5)"
   ]
  },
  {
   "cell_type": "code",
   "execution_count": 85,
   "id": "f2d7369d",
   "metadata": {},
   "outputs": [
    {
     "name": "stdout",
     "output_type": "stream",
     "text": [
      "Please enter your credits at pass: 50\n",
      "Please enter your credits at defer: 30\n",
      "Please enter your credits at fail: 80\n",
      "C\n"
     ]
    }
   ],
   "source": [
    "Pass=int(input(\"Please enter your credits at pass: \"))\n",
    "Defer=int(input(\"Please enter your credits at defer: \"))\n",
    "Fail=int(input(\"Please enter your credits at fail: \"))\n",
    "\n",
    "if Pass==120:\n",
    "    print(\"A\")\n",
    "elif Pass==100 and (Defer==20 or Fail==20):\n",
    "    print(\"B\")\n",
    "elif (Pass==40 and Fail==80) or (Pass==20 and (Defer<=20 and Defer+Fail==100)) or (Pass==0 and (Defer<=40 and Defer+Fail==120)):\n",
    "    print(\"D\")\n",
    "else:\n",
    "    print(\"C\")"
   ]
  },
  {
   "cell_type": "code",
   "execution_count": 86,
   "id": "3ff7017d",
   "metadata": {},
   "outputs": [
    {
     "name": "stdout",
     "output_type": "stream",
     "text": [
      "Please enter your credits at pass: 120\n",
      "Please enter your credits at defer: 0\n",
      "Please enter your credits at fail: 0\n",
      "A\n"
     ]
    }
   ],
   "source": [
    "Pass=int(input(\"Please enter your credits at pass: \"))\n",
    "Defer=int(input(\"Please enter your credits at defer: \"))\n",
    "Fail=int(input(\"Please enter your credits at fail: \"))\n",
    "\n",
    "if Pass==120:\n",
    "    print(\"A\")\n",
    "elif Pass==100 and (Defer==20 or Fail==20):\n",
    "    print(\"B\")\n",
    "elif (Pass==40 and Fail==80) or (Pass==20 and (Defer<=20 and Defer+Fail==100)) or (Pass==0 and (Defer<=40 and Defer+Fail==120)):\n",
    "    print(\"D\")\n",
    "else:\n",
    "    print(\"C\")"
   ]
  },
  {
   "cell_type": "code",
   "execution_count": 87,
   "id": "f3975a12",
   "metadata": {},
   "outputs": [
    {
     "name": "stdout",
     "output_type": "stream",
     "text": [
      "Please enter your credits at pass: 20\n",
      "Please enter your credits at defer: 0\n",
      "Please enter your credits at fail: 0\n",
      "C\n"
     ]
    }
   ],
   "source": [
    "Pass=int(input(\"Please enter your credits at pass: \"))\n",
    "Defer=int(input(\"Please enter your credits at defer: \"))\n",
    "Fail=int(input(\"Please enter your credits at fail: \"))\n",
    "\n",
    "if Pass==120:\n",
    "    print(\"A\")\n",
    "elif Pass==100 and (Defer==20 or Fail==20):\n",
    "    print(\"B\")\n",
    "elif (Pass==40 and Fail==80) or (Pass==20 and (Defer<=20 and Defer+Fail==100)) or (Pass==0 and (Defer<=40 and Defer+Fail==120)):\n",
    "    print(\"D\")\n",
    "else:\n",
    "    print(\"C\")"
   ]
  },
  {
   "cell_type": "code",
   "execution_count": 88,
   "id": "259868ec",
   "metadata": {},
   "outputs": [
    {
     "name": "stdout",
     "output_type": "stream",
     "text": [
      "Please enter your credits at pass: 15\n",
      "Please enter your credits at defer: 20\n",
      "Please enter your credits at fail: 30\n",
      "C\n"
     ]
    }
   ],
   "source": [
    "Pass=int(input(\"Please enter your credits at pass: \"))\n",
    "Defer=int(input(\"Please enter your credits at defer: \"))\n",
    "Fail=int(input(\"Please enter your credits at fail: \"))\n",
    "\n",
    "if Pass==120:\n",
    "    print(\"A\")\n",
    "elif Pass==100 and (Defer==20 or Fail==20):\n",
    "    print(\"B\")\n",
    "elif (Pass==40 and Fail==80) or (Pass==20 and (Defer<=20 and Defer+Fail==100)) or (Pass==0 and (Defer<=40 and Defer+Fail==120)):\n",
    "    print(\"D\")\n",
    "else:\n",
    "    print(\"C\")"
   ]
  },
  {
   "cell_type": "code",
   "execution_count": 89,
   "id": "0b4fd8e8",
   "metadata": {},
   "outputs": [
    {
     "name": "stdout",
     "output_type": "stream",
     "text": [
      "Please enter your credits at pass: 40\n",
      "Please enter your credits at defer: 15\n",
      "Please enter your credits at fail: 25\n",
      "C\n"
     ]
    }
   ],
   "source": [
    "Pass=int(input(\"Please enter your credits at pass: \"))\n",
    "Defer=int(input(\"Please enter your credits at defer: \"))\n",
    "Fail=int(input(\"Please enter your credits at fail: \"))\n",
    "\n",
    "if Pass==120:\n",
    "    print(\"A\")\n",
    "elif Pass==100 and (Defer==20 or Fail==20):\n",
    "    print(\"B\")\n",
    "elif (Pass==40 and Fail==80) or (Pass==20 and (Defer<=20 and Defer+Fail==100)) or (Pass==0 and (Defer<=40 and Defer+Fail==120)):\n",
    "    print(\"D\")\n",
    "else:\n",
    "    print(\"C\")"
   ]
  },
  {
   "cell_type": "code",
   "execution_count": 91,
   "id": "b0af1d7b",
   "metadata": {},
   "outputs": [
    {
     "name": "stdout",
     "output_type": "stream",
     "text": [
      "Please enter your credits at pass: 100\n",
      "Please enter your credits at defer: 15\n",
      "Please enter your credits at fail: 20\n",
      "B\n"
     ]
    }
   ],
   "source": [
    "Pass=int(input(\"Please enter your credits at pass: \"))\n",
    "Defer=int(input(\"Please enter your credits at defer: \"))\n",
    "Fail=int(input(\"Please enter your credits at fail: \"))\n",
    "\n",
    "if Pass==120:\n",
    "    print(\"A\")\n",
    "elif Pass==100 and (Defer==20 or Fail==20):\n",
    "    print(\"B\")\n",
    "elif (Pass==40 and Fail==80) or (Pass==20 and (Defer<=20 and Defer+Fail==100)) or (Pass==0 and (Defer<=40 and Defer+Fail==120)):\n",
    "    print(\"D\")\n",
    "else:\n",
    "    print(\"C\")"
   ]
  },
  {
   "cell_type": "code",
   "execution_count": 96,
   "id": "65a97d4b",
   "metadata": {},
   "outputs": [
    {
     "name": "stdout",
     "output_type": "stream",
     "text": [
      "Please enter your credits at pass: 120\n",
      "Please enter your credits at defer: 50\n",
      "Please enter your credits at fail: 60\n"
     ]
    },
    {
     "ename": "AttributeError",
     "evalue": "'int' object has no attribute 'isdigit'",
     "output_type": "error",
     "traceback": [
      "\u001b[1;31m---------------------------------------------------------------------------\u001b[0m",
      "\u001b[1;31mAttributeError\u001b[0m                            Traceback (most recent call last)",
      "\u001b[1;32m<ipython-input-96-6fac00016a6e>\u001b[0m in \u001b[0;36m<module>\u001b[1;34m\u001b[0m\n\u001b[0;32m      4\u001b[0m \u001b[1;33m\u001b[0m\u001b[0m\n\u001b[0;32m      5\u001b[0m \u001b[1;33m\u001b[0m\u001b[0m\n\u001b[1;32m----> 6\u001b[1;33m \u001b[1;32mif\u001b[0m \u001b[1;32mnot\u001b[0m\u001b[1;33m(\u001b[0m\u001b[0mPass\u001b[0m\u001b[1;33m.\u001b[0m\u001b[0misdigit\u001b[0m\u001b[1;33m(\u001b[0m\u001b[1;33m)\u001b[0m \u001b[1;32mand\u001b[0m \u001b[0mDefer\u001b[0m\u001b[1;33m.\u001b[0m\u001b[0misdigit\u001b[0m\u001b[1;33m(\u001b[0m\u001b[1;33m)\u001b[0m \u001b[1;32mand\u001b[0m \u001b[0mFail\u001b[0m\u001b[1;33m.\u001b[0m\u001b[0misdigit\u001b[0m\u001b[1;33m(\u001b[0m\u001b[1;33m)\u001b[0m\u001b[1;33m)\u001b[0m\u001b[1;33m:\u001b[0m\u001b[1;33m\u001b[0m\u001b[1;33m\u001b[0m\u001b[0m\n\u001b[0m\u001b[0;32m      7\u001b[0m     \u001b[0mprint\u001b[0m\u001b[1;33m(\u001b[0m\u001b[1;34m\"integer required\"\u001b[0m\u001b[1;33m)\u001b[0m\u001b[1;33m\u001b[0m\u001b[1;33m\u001b[0m\u001b[0m\n\u001b[0;32m      8\u001b[0m \u001b[1;32melif\u001b[0m \u001b[0mint\u001b[0m\u001b[1;33m(\u001b[0m\u001b[0mPass\u001b[0m\u001b[1;33m)\u001b[0m\u001b[1;33m+\u001b[0m\u001b[0mint\u001b[0m\u001b[1;33m(\u001b[0m\u001b[0mDefer\u001b[0m\u001b[1;33m)\u001b[0m\u001b[1;33m+\u001b[0m\u001b[0mint\u001b[0m\u001b[1;33m(\u001b[0m\u001b[0mFail\u001b[0m\u001b[1;33m)\u001b[0m\u001b[1;33m!=\u001b[0m\u001b[1;36m120\u001b[0m\u001b[1;33m:\u001b[0m\u001b[1;33m\u001b[0m\u001b[1;33m\u001b[0m\u001b[0m\n",
      "\u001b[1;31mAttributeError\u001b[0m: 'int' object has no attribute 'isdigit'"
     ]
    }
   ],
   "source": [
    "Pass=int(input(\"Please enter your credits at pass: \"))\n",
    "Defer=int(input(\"Please enter your credits at defer: \"))\n",
    "Fail=int(input(\"Please enter your credits at fail: \"))\n",
    "\n",
    "\n",
    "if not(Pass.isdigit() and Defer.isdigit() and Fail.isdigit()):\n",
    "    print(\"integer required\")\n",
    "elif int(Pass)+int(Defer)+int(Fail)!=120:\n",
    "    print(\"Total incorrect\")\n",
    "elif not((int(Pass) in [0,20,40,60,80,100]) and (int(Defer) in [0,20,40,60,80,100]) and (int(Fail) in [0,20,40,60,80,100])):\n",
    "    print(\"Out of range\")\n",
    "if Pass==120:\n",
    "    print(\"A\")\n",
    "elif Pass==100 and (Defer==20 or Fail==20):\n",
    "    print(\"B\")\n",
    "elif (Pass==40 and Fail==80) or (Pass==20 and (Defer<=20 and Defer+Fail==100)) or (Pass==0 and (Defer<=40 and Defer+Fail==120)):\n",
    "    print(\"D\")\n",
    "else:\n",
    "    print(\"C\")"
   ]
  },
  {
   "cell_type": "code",
   "execution_count": 98,
   "id": "136d1f5d",
   "metadata": {},
   "outputs": [
    {
     "name": "stdout",
     "output_type": "stream",
     "text": [
      "Please enter your credits at Pass: 120\n",
      "Please enter your credits at Defer: 50\n",
      "Please enter your credits at Fail: 34\n"
     ]
    },
    {
     "ename": "AttributeError",
     "evalue": "'int' object has no attribute 'isdigit'",
     "output_type": "error",
     "traceback": [
      "\u001b[1;31m---------------------------------------------------------------------------\u001b[0m",
      "\u001b[1;31mAttributeError\u001b[0m                            Traceback (most recent call last)",
      "\u001b[1;32m<ipython-input-98-78503b8981c6>\u001b[0m in \u001b[0;36m<module>\u001b[1;34m\u001b[0m\n\u001b[0;32m      4\u001b[0m \u001b[1;33m\u001b[0m\u001b[0m\n\u001b[0;32m      5\u001b[0m \u001b[1;33m\u001b[0m\u001b[0m\n\u001b[1;32m----> 6\u001b[1;33m \u001b[1;32mif\u001b[0m \u001b[1;32mnot\u001b[0m\u001b[1;33m(\u001b[0m\u001b[0mPass\u001b[0m\u001b[1;33m.\u001b[0m\u001b[0misdigit\u001b[0m\u001b[1;33m(\u001b[0m\u001b[1;33m)\u001b[0m \u001b[1;32mand\u001b[0m \u001b[0mDefer\u001b[0m\u001b[1;33m.\u001b[0m\u001b[0misdigit\u001b[0m\u001b[1;33m(\u001b[0m\u001b[1;33m)\u001b[0m \u001b[1;32mand\u001b[0m \u001b[0mFail\u001b[0m\u001b[1;33m.\u001b[0m\u001b[0misdigit\u001b[0m\u001b[1;33m(\u001b[0m\u001b[1;33m)\u001b[0m\u001b[1;33m)\u001b[0m\u001b[1;33m:\u001b[0m\u001b[1;33m\u001b[0m\u001b[1;33m\u001b[0m\u001b[0m\n\u001b[0m\u001b[0;32m      7\u001b[0m     \u001b[0mprint\u001b[0m\u001b[1;33m(\u001b[0m\u001b[1;34m\"integer required\"\u001b[0m\u001b[1;33m)\u001b[0m\u001b[1;33m\u001b[0m\u001b[1;33m\u001b[0m\u001b[0m\n\u001b[0;32m      8\u001b[0m \u001b[1;32melif\u001b[0m \u001b[0mint\u001b[0m\u001b[1;33m(\u001b[0m\u001b[0mPass\u001b[0m\u001b[1;33m)\u001b[0m\u001b[1;33m+\u001b[0m\u001b[0mint\u001b[0m\u001b[1;33m(\u001b[0m\u001b[0mDefer\u001b[0m\u001b[1;33m)\u001b[0m\u001b[1;33m+\u001b[0m\u001b[0mint\u001b[0m\u001b[1;33m(\u001b[0m\u001b[0mFail\u001b[0m\u001b[1;33m)\u001b[0m\u001b[1;33m!=\u001b[0m\u001b[1;36m120\u001b[0m\u001b[1;33m:\u001b[0m\u001b[1;33m\u001b[0m\u001b[1;33m\u001b[0m\u001b[0m\n",
      "\u001b[1;31mAttributeError\u001b[0m: 'int' object has no attribute 'isdigit'"
     ]
    }
   ],
   "source": [
    "Pass=int(input(\"Please enter your credits at Pass: \"))\n",
    "Defer=int(input(\"Please enter your credits at Defer: \"))\n",
    "Fail=int(input(\"Please enter your credits at Fail: \"))\n",
    "\n",
    "\n",
    "if not(Pass.isdigit() and Defer.isdigit() and Fail.isdigit()):\n",
    "    print(\"integer required\")\n",
    "elif int(Pass)+int(Defer)+int(Fail)!=120:\n",
    "    print(\"Total incorrect\")\n",
    "elif not((int(Pass) in [0,20,40,60,80,100]) and (int(Defer) in [0,20,40,60,80,100]) and (int(Fail) in [0,20,40,60,80,100])):\n",
    "    print(\"Out of range\")\n",
    "if Pass==120:\n",
    "    print(\"A\")\n",
    "elif Pass==100 and (Defer==20 or Fail==20):\n",
    "    print(\"B\")\n",
    "elif (Pass==40 and Fail==80) or (Pass==20 and (Defer<=20 and Defer+Fail==100)) or (Pass==0 and (Defer<=40 and Defer+Fail==120)):\n",
    "    print(\"D\")\n",
    "else:\n",
    "    print(\"C\")"
   ]
  },
  {
   "cell_type": "code",
   "execution_count": 108,
   "id": "2f44eaa3",
   "metadata": {},
   "outputs": [],
   "source": [
    "def progression(L_test):\n",
    "    SA=0\n",
    "    SB=0\n",
    "    SC=0\n",
    "    SD=0\n",
    "    \n",
    "    for credits in L_test:\n",
    "        Pass=credits[0]\n",
    "        Defer=credits[1]\n",
    "        Fail=credits[2]\n",
    "        \n",
    "        if Pass+Defer+Fail !=120:\n",
    "            print(\"Total incorrect\")\n",
    "        elif not((int(Pass) in [0,20,40,60,80,100]) and (int(Defer) in [0,20,40,60,80,100]) and (int(Fail) in [0,20,40,60,80,100])):\n",
    "            print(\"Out of range\")\n",
    "        else:\n",
    "            \n",
    "            if Pass==120:\n",
    "                print(\"A\")\n",
    "                SA=SA+1\n",
    "            elif Pass==100 and (Defer==20 or Fail==20):\n",
    "                print(\"B\")\n",
    "                SB=SB+1\n",
    "            elif (Pass==40 and Fail==80) or (Pass==20 and (Defer<=20 and Defer+Fail==100)) or (Pass==0 and (Defer<=40 and Defer+Fail==120)):\n",
    "                print(\"D\")\n",
    "                SD=SD+1\n",
    "            else:\n",
    "                print(\"C\")\n",
    "                SC=SC+1\n",
    "                \n",
    "    print()\n",
    "    print()\n",
    "    print(f\"A {SA}   :\"+\"*\"*SA)\n",
    "    print(f\"B {SB}   :\"+\"*\"*SB)\n",
    "    print(f\"C {SC}   :\"+\"*\"*SC)\n",
    "    print(f\"D {SD}   :\"+\"*\"*SD)   "
   ]
  },
  {
   "cell_type": "code",
   "execution_count": 109,
   "id": "2da5f4ce",
   "metadata": {},
   "outputs": [],
   "source": [
    "L_test=[[120,0,0],[60,60,0],[40,40,40],[80,0,40],[80,20,20],[100,20,0]]"
   ]
  },
  {
   "cell_type": "code",
   "execution_count": 110,
   "id": "1abe7fa7",
   "metadata": {},
   "outputs": [
    {
     "name": "stdout",
     "output_type": "stream",
     "text": [
      "Out of range\n",
      "C\n",
      "C\n",
      "C\n",
      "C\n",
      "B\n",
      "\n",
      "\n",
      "A 0   :\n",
      "B 1   :*\n",
      "C 4   :****\n",
      "D 0   :\n"
     ]
    }
   ],
   "source": [
    "progression(L_test)"
   ]
  },
  {
   "cell_type": "code",
   "execution_count": 111,
   "id": "7c88388c",
   "metadata": {},
   "outputs": [],
   "source": [
    "def progression(L_test):\n",
    "    SA=0\n",
    "    SB=0\n",
    "    SC=0\n",
    "    SD=0\n",
    "    \n",
    "    for credits in L_test:\n",
    "        Pass=credits[0]\n",
    "        Defer=credits[1]\n",
    "        Fail=credits[2]\n",
    "        \n",
    "        if Pass+Defer+Fail !=120:\n",
    "            print(\"Total incorrect\")\n",
    "        elif not((int(Pass) in [0,20,40,60,80,100]) or (int(Defer) in [0,20,40,60,80,100]) or (int(Fail) in [0,20,40,60,80,100])):\n",
    "            print(\"Out of range\")\n",
    "        else:\n",
    "            \n",
    "            if Pass==120:\n",
    "                print(\"A\")\n",
    "                SA=SA+1\n",
    "            elif Pass==100 or (Defer==20 or Fail==20):\n",
    "                print(\"B\")\n",
    "                SB=SB+1\n",
    "            elif (Pass==40 or Fail==80) or (Pass==20 or (Defer<=20 or Defer+Fail==100)) or (Pass==0 or (Defer<=40 or Defer+Fail==120)):\n",
    "                print(\"D\")\n",
    "                SD=SD+1\n",
    "            else:\n",
    "                print(\"C\")\n",
    "                SC=SC+1\n",
    "                \n",
    "    print()\n",
    "    print()\n",
    "    print(f\"A {SA}   :\"+\"*\"*SA)\n",
    "    print(f\"B {SB}   :\"+\"*\"*SB)\n",
    "    print(f\"C {SC}   :\"+\"*\"*SC)\n",
    "    print(f\"D {SD}   :\"+\"*\"*SD)   "
   ]
  },
  {
   "cell_type": "code",
   "execution_count": 112,
   "id": "c62da1c3",
   "metadata": {},
   "outputs": [],
   "source": [
    "L_test=[[120,0,0],[60,60,0],[40,40,40],[80,0,40],[80,20,20],[100,20,0]]"
   ]
  },
  {
   "cell_type": "code",
   "execution_count": 113,
   "id": "ce9d7a28",
   "metadata": {},
   "outputs": [
    {
     "name": "stdout",
     "output_type": "stream",
     "text": [
      "A\n",
      "C\n",
      "D\n",
      "D\n",
      "B\n",
      "B\n",
      "\n",
      "\n",
      "A 1   :*\n",
      "B 2   :**\n",
      "C 1   :*\n",
      "D 2   :**\n"
     ]
    }
   ],
   "source": [
    "progression(L_test)"
   ]
  },
  {
   "cell_type": "code",
   "execution_count": null,
   "id": "644e21cd",
   "metadata": {},
   "outputs": [],
   "source": []
  }
 ],
 "metadata": {
  "kernelspec": {
   "display_name": "Python 3",
   "language": "python",
   "name": "python3"
  },
  "language_info": {
   "codemirror_mode": {
    "name": "ipython",
    "version": 3
   },
   "file_extension": ".py",
   "mimetype": "text/x-python",
   "name": "python",
   "nbconvert_exporter": "python",
   "pygments_lexer": "ipython3",
   "version": "3.8.8"
  }
 },
 "nbformat": 4,
 "nbformat_minor": 5
}
