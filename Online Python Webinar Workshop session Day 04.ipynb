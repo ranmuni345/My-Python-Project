{
 "cells": [
  {
   "cell_type": "code",
   "execution_count": 5,
   "id": "e34694ae",
   "metadata": {},
   "outputs": [],
   "source": [
    "i=[12,14,13,15,16,17,20]"
   ]
  },
  {
   "cell_type": "code",
   "execution_count": 6,
   "id": "4ee68ba1",
   "metadata": {},
   "outputs": [
    {
     "name": "stdout",
     "output_type": "stream",
     "text": [
      "12\n",
      "14\n",
      "13\n",
      "15\n",
      "16\n",
      "17\n",
      "20\n"
     ]
    }
   ],
   "source": [
    "for L in i:\n",
    "    print(L)"
   ]
  },
  {
   "cell_type": "code",
   "execution_count": 7,
   "id": "db2fc668",
   "metadata": {},
   "outputs": [
    {
     "name": "stdout",
     "output_type": "stream",
     "text": [
      "36\n",
      "42\n",
      "39\n",
      "45\n",
      "48\n",
      "51\n",
      "60\n"
     ]
    }
   ],
   "source": [
    "for L in i:\n",
    "    print(3*L)"
   ]
  },
  {
   "cell_type": "code",
   "execution_count": 8,
   "id": "3b54d62a",
   "metadata": {},
   "outputs": [
    {
     "name": "stdout",
     "output_type": "stream",
     "text": [
      "24\n",
      "28\n",
      "26\n",
      "30\n",
      "32\n",
      "34\n",
      "40\n"
     ]
    }
   ],
   "source": [
    "for L in i:\n",
    "    print(2*L)"
   ]
  },
  {
   "cell_type": "code",
   "execution_count": 9,
   "id": "5aa2c65d",
   "metadata": {},
   "outputs": [],
   "source": [
    "S=0\n",
    "for k in (2,5,6,8):\n",
    "     S=S+k\n"
   ]
  },
  {
   "cell_type": "code",
   "execution_count": 10,
   "id": "2d304af7",
   "metadata": {},
   "outputs": [
    {
     "data": {
      "text/plain": [
       "21"
      ]
     },
     "execution_count": 10,
     "metadata": {},
     "output_type": "execute_result"
    }
   ],
   "source": [
    "S"
   ]
  },
  {
   "cell_type": "code",
   "execution_count": 11,
   "id": "8c2ef919",
   "metadata": {},
   "outputs": [],
   "source": [
    "S=[]\n",
    "for m in (2,5,6,8):\n",
    "    S.append(2*m)"
   ]
  },
  {
   "cell_type": "code",
   "execution_count": 12,
   "id": "49ef5f75",
   "metadata": {},
   "outputs": [
    {
     "data": {
      "text/plain": [
       "8"
      ]
     },
     "execution_count": 12,
     "metadata": {},
     "output_type": "execute_result"
    }
   ],
   "source": [
    "m"
   ]
  },
  {
   "cell_type": "code",
   "execution_count": 13,
   "id": "36282eb3",
   "metadata": {},
   "outputs": [
    {
     "data": {
      "text/plain": [
       "[4, 10, 12, 16]"
      ]
     },
     "execution_count": 13,
     "metadata": {},
     "output_type": "execute_result"
    }
   ],
   "source": [
    "S"
   ]
  },
  {
   "cell_type": "code",
   "execution_count": 14,
   "id": "c36975e3",
   "metadata": {},
   "outputs": [
    {
     "data": {
      "text/plain": [
       "1"
      ]
     },
     "execution_count": 14,
     "metadata": {},
     "output_type": "execute_result"
    }
   ],
   "source": [
    "\n",
    "X=10\n",
    "\n",
    "X%3"
   ]
  },
  {
   "cell_type": "code",
   "execution_count": 15,
   "id": "e8e2ab1f",
   "metadata": {},
   "outputs": [
    {
     "data": {
      "text/plain": [
       "False"
      ]
     },
     "execution_count": 15,
     "metadata": {},
     "output_type": "execute_result"
    }
   ],
   "source": [
    "X=10\n",
    "\n",
    "X%3==0"
   ]
  },
  {
   "cell_type": "code",
   "execution_count": 16,
   "id": "d0d5c24d",
   "metadata": {},
   "outputs": [
    {
     "name": "stdout",
     "output_type": "stream",
     "text": [
      "Hi\n",
      "How are you\n"
     ]
    }
   ],
   "source": [
    "print(\"Hi\"); print(\"How are you\")"
   ]
  },
  {
   "cell_type": "code",
   "execution_count": 17,
   "id": "94baaee0",
   "metadata": {},
   "outputs": [
    {
     "name": "stdout",
     "output_type": "stream",
     "text": [
      "Hi***How are you\n"
     ]
    }
   ],
   "source": [
    "print(\"Hi\",end=\"***\")\n",
    "print(\"How are you\")"
   ]
  },
  {
   "cell_type": "code",
   "execution_count": 18,
   "id": "ffd55c27",
   "metadata": {},
   "outputs": [
    {
     "name": "stdout",
     "output_type": "stream",
     "text": [
      "Hi,How are you\n"
     ]
    }
   ],
   "source": [
    "print(\"Hi\",end=\",\")\n",
    "print(\"How are you\")"
   ]
  },
  {
   "cell_type": "code",
   "execution_count": 19,
   "id": "fe6d6d97",
   "metadata": {},
   "outputs": [
    {
     "name": "stdout",
     "output_type": "stream",
     "text": [
      "Hi , How are you\n"
     ]
    }
   ],
   "source": [
    "print(\"Hi\",end=\" , \")\n",
    "print(\"How are you\")"
   ]
  },
  {
   "cell_type": "code",
   "execution_count": 20,
   "id": "beec1cca",
   "metadata": {},
   "outputs": [],
   "source": [
    "L=[12,23,34,45,54,67]"
   ]
  },
  {
   "cell_type": "code",
   "execution_count": 21,
   "id": "2d6aff30",
   "metadata": {},
   "outputs": [
    {
     "name": "stdout",
     "output_type": "stream",
     "text": [
      "24 46 68 90 108 134 "
     ]
    }
   ],
   "source": [
    "for i in L:\n",
    "    print(2*i,end=\" \")"
   ]
  },
  {
   "cell_type": "code",
   "execution_count": 22,
   "id": "46d0056f",
   "metadata": {},
   "outputs": [],
   "source": [
    "L=[]\n",
    "for m in{2,6,7,8}:\n",
    "     L.append(2*m)"
   ]
  },
  {
   "cell_type": "code",
   "execution_count": 23,
   "id": "649540dc",
   "metadata": {},
   "outputs": [
    {
     "data": {
      "text/plain": [
       "[16, 4, 12, 14]"
      ]
     },
     "execution_count": 23,
     "metadata": {},
     "output_type": "execute_result"
    }
   ],
   "source": [
    "L"
   ]
  },
  {
   "cell_type": "code",
   "execution_count": 24,
   "id": "e6f38035",
   "metadata": {},
   "outputs": [],
   "source": [
    "L1=[14,34,25,32,65,76,43,87]"
   ]
  },
  {
   "cell_type": "code",
   "execution_count": 25,
   "id": "a2bf4fec",
   "metadata": {},
   "outputs": [
    {
     "name": "stdout",
     "output_type": "stream",
     "text": [
      "Odd    Odd    Odd    Odd    Odd    Odd    Odd    Even   "
     ]
    }
   ],
   "source": [
    "for k in L1:\n",
    "    if k%3==0:\n",
    "        print(\"Even\",end=\"   \")\n",
    "    else:\n",
    "        print(\"Odd\",end=\"    \")"
   ]
  },
  {
   "cell_type": "code",
   "execution_count": 26,
   "id": "bfe074bf",
   "metadata": {},
   "outputs": [],
   "source": [
    "n_even=0\n",
    "n_odd=0\n",
    "\n",
    "for k in L1:\n",
    "    if k%3==0:\n",
    "         n_even=n_even-1\n",
    "    else:\n",
    "        n_odd=n_odd-1"
   ]
  },
  {
   "cell_type": "code",
   "execution_count": 27,
   "id": "bd038ac6",
   "metadata": {},
   "outputs": [
    {
     "data": {
      "text/plain": [
       "-1"
      ]
     },
     "execution_count": 27,
     "metadata": {},
     "output_type": "execute_result"
    }
   ],
   "source": [
    "n_even"
   ]
  },
  {
   "cell_type": "code",
   "execution_count": 28,
   "id": "b7018179",
   "metadata": {},
   "outputs": [
    {
     "data": {
      "text/plain": [
       "-7"
      ]
     },
     "execution_count": 28,
     "metadata": {},
     "output_type": "execute_result"
    }
   ],
   "source": [
    "n_odd"
   ]
  },
  {
   "cell_type": "code",
   "execution_count": 29,
   "id": "bec78a9d",
   "metadata": {},
   "outputs": [],
   "source": [
    "n_even=0\n",
    "n_odd=0\n",
    "\n",
    "for k in L1:\n",
    "    if k%3==0:\n",
    "         n_even=n_even+1\n",
    "    else:\n",
    "        n_odd=n_odd+1"
   ]
  },
  {
   "cell_type": "code",
   "execution_count": 30,
   "id": "edc3488d",
   "metadata": {},
   "outputs": [
    {
     "data": {
      "text/plain": [
       "1"
      ]
     },
     "execution_count": 30,
     "metadata": {},
     "output_type": "execute_result"
    }
   ],
   "source": [
    "n_even"
   ]
  },
  {
   "cell_type": "code",
   "execution_count": 31,
   "id": "a84fa146",
   "metadata": {},
   "outputs": [
    {
     "data": {
      "text/plain": [
       "7"
      ]
     },
     "execution_count": 31,
     "metadata": {},
     "output_type": "execute_result"
    }
   ],
   "source": [
    "n_odd"
   ]
  },
  {
   "cell_type": "code",
   "execution_count": 32,
   "id": "930b2767",
   "metadata": {},
   "outputs": [],
   "source": [
    "n_even=0\n",
    "n_odd=0\n",
    "\n",
    "for k in L1:\n",
    "    if k%2==0:\n",
    "         n_even=n_even+1\n",
    "    else:\n",
    "        n_odd=n_odd+1"
   ]
  },
  {
   "cell_type": "code",
   "execution_count": 33,
   "id": "5b578fa5",
   "metadata": {},
   "outputs": [
    {
     "data": {
      "text/plain": [
       "4"
      ]
     },
     "execution_count": 33,
     "metadata": {},
     "output_type": "execute_result"
    }
   ],
   "source": [
    "n_even"
   ]
  },
  {
   "cell_type": "code",
   "execution_count": 34,
   "id": "15454891",
   "metadata": {},
   "outputs": [
    {
     "data": {
      "text/plain": [
       "4"
      ]
     },
     "execution_count": 34,
     "metadata": {},
     "output_type": "execute_result"
    }
   ],
   "source": [
    "n_odd"
   ]
  },
  {
   "cell_type": "code",
   "execution_count": 35,
   "id": "1d413863",
   "metadata": {},
   "outputs": [],
   "source": [
    "n_even=0\n",
    "n_odd=0\n",
    "\n",
    "for k in L1:\n",
    "    if k%2==0:\n",
    "         n_even=n_even-1\n",
    "    else:\n",
    "        n_odd=n_odd-1"
   ]
  },
  {
   "cell_type": "code",
   "execution_count": 36,
   "id": "bb572155",
   "metadata": {},
   "outputs": [
    {
     "data": {
      "text/plain": [
       "-4"
      ]
     },
     "execution_count": 36,
     "metadata": {},
     "output_type": "execute_result"
    }
   ],
   "source": [
    "n_even"
   ]
  },
  {
   "cell_type": "code",
   "execution_count": 37,
   "id": "ab7d2331",
   "metadata": {},
   "outputs": [
    {
     "data": {
      "text/plain": [
       "-4"
      ]
     },
     "execution_count": 37,
     "metadata": {},
     "output_type": "execute_result"
    }
   ],
   "source": [
    "n_odd"
   ]
  },
  {
   "cell_type": "code",
   "execution_count": 38,
   "id": "19ba3a99",
   "metadata": {},
   "outputs": [],
   "source": [
    "L1=[29,39,12,4,45]\n",
    "L2=[34,56,54,7,24]\n",
    "\n",
    "for o in L1:\n",
    "     L2.append(o)"
   ]
  },
  {
   "cell_type": "code",
   "execution_count": 39,
   "id": "40329100",
   "metadata": {},
   "outputs": [
    {
     "data": {
      "text/plain": [
       "[34, 56, 54, 7, 24, 29, 39, 12, 4, 45]"
      ]
     },
     "execution_count": 39,
     "metadata": {},
     "output_type": "execute_result"
    }
   ],
   "source": [
    "L2"
   ]
  },
  {
   "cell_type": "code",
   "execution_count": 40,
   "id": "f2cf1fa3",
   "metadata": {},
   "outputs": [
    {
     "data": {
      "text/plain": [
       "range(1, 10)"
      ]
     },
     "execution_count": 40,
     "metadata": {},
     "output_type": "execute_result"
    }
   ],
   "source": [
    "range(1,10)"
   ]
  },
  {
   "cell_type": "code",
   "execution_count": 41,
   "id": "fc2743a9",
   "metadata": {},
   "outputs": [
    {
     "data": {
      "text/plain": [
       "[1, 2, 3, 4, 5, 6, 7, 8, 9]"
      ]
     },
     "execution_count": 41,
     "metadata": {},
     "output_type": "execute_result"
    }
   ],
   "source": [
    "list(range(1,10))  "
   ]
  },
  {
   "cell_type": "code",
   "execution_count": 43,
   "id": "e38a469d",
   "metadata": {},
   "outputs": [
    {
     "name": "stdout",
     "output_type": "stream",
     "text": [
      "1\n",
      "2\n",
      "3\n",
      "4\n",
      "5\n",
      "6\n",
      "7\n",
      "8\n",
      "9\n",
      "10\n"
     ]
    }
   ],
   "source": [
    "for o in range(1,11):\n",
    "    print(o)"
   ]
  },
  {
   "cell_type": "code",
   "execution_count": 45,
   "id": "b83e498c",
   "metadata": {},
   "outputs": [
    {
     "data": {
      "text/plain": [
       "[3, 4, 5, 6, 7, 8, 9, 10, 11, 12, 13, 14, 15]"
      ]
     },
     "execution_count": 45,
     "metadata": {},
     "output_type": "execute_result"
    }
   ],
   "source": [
    "list(range(3,16))"
   ]
  },
  {
   "cell_type": "code",
   "execution_count": 46,
   "id": "5a854d92",
   "metadata": {},
   "outputs": [
    {
     "data": {
      "text/plain": [
       "[3, 10]"
      ]
     },
     "execution_count": 46,
     "metadata": {},
     "output_type": "execute_result"
    }
   ],
   "source": [
    "list(range(3,16,7))"
   ]
  },
  {
   "cell_type": "code",
   "execution_count": 47,
   "id": "cc31b38d",
   "metadata": {},
   "outputs": [
    {
     "data": {
      "text/plain": [
       "[]"
      ]
     },
     "execution_count": 47,
     "metadata": {},
     "output_type": "execute_result"
    }
   ],
   "source": [
    "list(range(3,16,-2))"
   ]
  },
  {
   "cell_type": "code",
   "execution_count": 49,
   "id": "025ed688",
   "metadata": {},
   "outputs": [
    {
     "data": {
      "text/plain": [
       "[]"
      ]
     },
     "execution_count": 49,
     "metadata": {},
     "output_type": "execute_result"
    }
   ],
   "source": [
    "list(range(3,16,-1))"
   ]
  },
  {
   "cell_type": "code",
   "execution_count": 50,
   "id": "c52e5301",
   "metadata": {},
   "outputs": [
    {
     "name": "stdout",
     "output_type": "stream",
     "text": [
      "0\n",
      "1\n",
      "2\n",
      "3\n",
      "4\n",
      "5\n",
      "6\n",
      "7\n",
      "8\n",
      "9\n"
     ]
    }
   ],
   "source": [
    "for o in range(10):\n",
    "    print(o)"
   ]
  },
  {
   "cell_type": "code",
   "execution_count": 53,
   "id": "2b676c08",
   "metadata": {},
   "outputs": [
    {
     "ename": "IndentationError",
     "evalue": "expected an indented block (<ipython-input-53-7cf6b0da1689>, line 3)",
     "output_type": "error",
     "traceback": [
      "\u001b[1;36m  File \u001b[1;32m\"<ipython-input-53-7cf6b0da1689>\"\u001b[1;36m, line \u001b[1;32m3\u001b[0m\n\u001b[1;33m    print(o)\u001b[0m\n\u001b[1;37m    ^\u001b[0m\n\u001b[1;31mIndentationError\u001b[0m\u001b[1;31m:\u001b[0m expected an indented block\n"
     ]
    }
   ],
   "source": [
    "for o in range(1,11):\n",
    "    if o%2==0:\n",
    "    print(o)"
   ]
  },
  {
   "cell_type": "code",
   "execution_count": 63,
   "id": "205ebcc5",
   "metadata": {},
   "outputs": [
    {
     "ename": "TypeError",
     "evalue": "object of type 'int' has no len()",
     "output_type": "error",
     "traceback": [
      "\u001b[1;31m---------------------------------------------------------------------------\u001b[0m",
      "\u001b[1;31mTypeError\u001b[0m                                 Traceback (most recent call last)",
      "\u001b[1;32m<ipython-input-63-f43330297f09>\u001b[0m in \u001b[0;36m<module>\u001b[1;34m\u001b[0m\n\u001b[0;32m      1\u001b[0m \u001b[0mL\u001b[0m\u001b[1;33m=\u001b[0m\u001b[1;33m[\u001b[0m\u001b[1;36m25\u001b[0m\u001b[1;33m,\u001b[0m\u001b[1;36m34\u001b[0m\u001b[1;33m,\u001b[0m\u001b[1;36m45\u001b[0m\u001b[1;33m,\u001b[0m\u001b[1;36m56\u001b[0m\u001b[1;33m,\u001b[0m\u001b[1;36m65\u001b[0m\u001b[1;33m,\u001b[0m\u001b[1;36m76\u001b[0m\u001b[1;33m]\u001b[0m\u001b[1;33m\u001b[0m\u001b[1;33m\u001b[0m\u001b[0m\n\u001b[0;32m      2\u001b[0m \u001b[1;33m\u001b[0m\u001b[0m\n\u001b[1;32m----> 3\u001b[1;33m \u001b[0mlist\u001b[0m\u001b[1;33m(\u001b[0m\u001b[0mrange\u001b[0m\u001b[1;33m(\u001b[0m\u001b[0mlen\u001b[0m\u001b[1;33m(\u001b[0m\u001b[1;36m1\u001b[0m\u001b[1;33m)\u001b[0m\u001b[1;33m)\u001b[0m\u001b[1;33m)\u001b[0m\u001b[1;33m\u001b[0m\u001b[1;33m\u001b[0m\u001b[0m\n\u001b[0m",
      "\u001b[1;31mTypeError\u001b[0m: object of type 'int' has no len()"
     ]
    }
   ],
   "source": [
    "L=[25,34,45,56,65,76]\n",
    "\n",
    "list(range(len(1)))"
   ]
  },
  {
   "cell_type": "code",
   "execution_count": null,
   "id": "fb1b7e7f",
   "metadata": {},
   "outputs": [],
   "source": []
  }
 ],
 "metadata": {
  "kernelspec": {
   "display_name": "Python 3",
   "language": "python",
   "name": "python3"
  },
  "language_info": {
   "codemirror_mode": {
    "name": "ipython",
    "version": 3
   },
   "file_extension": ".py",
   "mimetype": "text/x-python",
   "name": "python",
   "nbconvert_exporter": "python",
   "pygments_lexer": "ipython3",
   "version": "3.8.8"
  }
 },
 "nbformat": 4,
 "nbformat_minor": 5
}
