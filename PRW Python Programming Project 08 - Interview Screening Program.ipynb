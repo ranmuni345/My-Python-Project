{
 "cells": [
  {
   "cell_type": "code",
   "execution_count": 21,
   "metadata": {},
   "outputs": [],
   "source": [
    "data=[{\"name\":\"Anne\",\"experience\":2,\"age\":24,\"qualification\":\"bachelors\",\"languages\":[\"python\",\"java\",\"c#\"]},\n",
    "     {\"name\":\"Kane\",\"experience\":3,\"age\":28,\"qualification\":\"bachelor\",\"languages\":[\"java\",\"c#\",\"c++\"]},\n",
    "     {\"name\":\"Jane\",\"experience\":7,\"age\":34,\"qualification\":\"masters\",\"languages\":[\"c#\",\"html\"]},\n",
    "     {\"name\":\"John\",\"experience\":6,\"age\":28,\"qualification\":\"bachelors\",\"languages\":[\"python\",\"java\",\"html\"]},\n",
    "     {\"name\":\"Jenny\",\"experience\":5,\"age\":24,\"qualification\":\"masters\",\"languages\":[\"c#\",\"html\",\"python\",\"java\"]}]\n",
    "\n",
    "min_exp=4\n",
    "qual=[\"bachelors\",\"masters\",\"phd\"]\n",
    "min_age=22\n",
    "exp_lang=[\"python\",\"java\"]\n",
    "selected=[]\n",
    "\n",
    "for cv in data:\n",
    "    if (cv[\"experience\"]>=min_exp) and (cv[\"qualification\"] in qual) and (cv[\"age\"]>=min_age) and (set(exp_lang).issubset(set(cv[\"languages\"]))):\n",
    "        selected.append(cv[\"name\"])\n",
    "        \n",
    "selected"
   ]
  },
  {
   "cell_type": "code",
   "execution_count": 13,
   "metadata": {},
   "outputs": [],
   "source": []
  },
  {
   "cell_type": "code",
   "execution_count": 34,
   "metadata": {},
   "outputs": [
    {
     "data": {
      "text/html": [
       "<div>\n",
       "<style scoped>\n",
       "    .dataframe tbody tr th:only-of-type {\n",
       "        vertical-align: middle;\n",
       "    }\n",
       "\n",
       "    .dataframe tbody tr th {\n",
       "        vertical-align: top;\n",
       "    }\n",
       "\n",
       "    .dataframe thead th {\n",
       "        text-align: right;\n",
       "    }\n",
       "</style>\n",
       "<table border=\"1\" class=\"dataframe\">\n",
       "  <thead>\n",
       "    <tr style=\"text-align: right;\">\n",
       "      <th></th>\n",
       "      <th>name</th>\n",
       "      <th>experience</th>\n",
       "      <th>age</th>\n",
       "      <th>qualification</th>\n",
       "      <th>languages</th>\n",
       "    </tr>\n",
       "  </thead>\n",
       "  <tbody>\n",
       "    <tr>\n",
       "      <th>0</th>\n",
       "      <td>Sam</td>\n",
       "      <td>3</td>\n",
       "      <td>23</td>\n",
       "      <td>bachelors</td>\n",
       "      <td>python,java,c#</td>\n",
       "    </tr>\n",
       "    <tr>\n",
       "      <th>1</th>\n",
       "      <td>Kane</td>\n",
       "      <td>4</td>\n",
       "      <td>21</td>\n",
       "      <td>bachelors</td>\n",
       "      <td>html,java</td>\n",
       "    </tr>\n",
       "    <tr>\n",
       "      <th>2</th>\n",
       "      <td>Jane</td>\n",
       "      <td>5</td>\n",
       "      <td>22</td>\n",
       "      <td>bachelors</td>\n",
       "      <td>html,python,java</td>\n",
       "    </tr>\n",
       "    <tr>\n",
       "      <th>3</th>\n",
       "      <td>Pale</td>\n",
       "      <td>5</td>\n",
       "      <td>45</td>\n",
       "      <td>masters</td>\n",
       "      <td>java,python,c++</td>\n",
       "    </tr>\n",
       "    <tr>\n",
       "      <th>4</th>\n",
       "      <td>John</td>\n",
       "      <td>6</td>\n",
       "      <td>53</td>\n",
       "      <td>masters</td>\n",
       "      <td>c++,c#</td>\n",
       "    </tr>\n",
       "  </tbody>\n",
       "</table>\n",
       "</div>"
      ],
      "text/plain": [
       "   name  experience  age qualification         languages\n",
       "0   Sam           3   23     bachelors    python,java,c#\n",
       "1  Kane           4   21     bachelors         html,java\n",
       "2  Jane           5   22     bachelors  html,python,java\n",
       "3  Pale           5   45       masters   java,python,c++\n",
       "4  John           6   53       masters            c++,c#"
      ]
     },
     "execution_count": 34,
     "metadata": {},
     "output_type": "execute_result"
    }
   ],
   "source": [
    "import pandas as pd\n",
    "data=pd.read_csv(\"D:\\\\Workshops\\\\Python & R for Data Science Workshop\\\\Python\\\\Datasets\\\\interview_screen.CSV\")\n",
    "data.head()"
   ]
  },
  {
   "cell_type": "code",
   "execution_count": 35,
   "metadata": {},
   "outputs": [],
   "source": [
    "def interviewee_screening(df):\n",
    "    min_exp=4\n",
    "    qual=[\"bachelors\",\"masters\",\"phd\"]\n",
    "    min_age=22\n",
    "    exp_lang=[\"python\",\"java\"]\n",
    "    selected=[]\n",
    "\n",
    "    for cv in df.to_dict(orient='records'):\n",
    "        if (cv[\"experience\"]>=min_exp) and (cv[\"qualification\"] in qual) and (cv[\"age\"]>=min_age) and (set(exp_lang).issubset(set(cv[\"languages\"].split(\",\")))):\n",
    "            selected.append(cv[\"name\"])\n",
    "    return selected"
   ]
  },
  {
   "cell_type": "code",
   "execution_count": 36,
   "metadata": {},
   "outputs": [
    {
     "data": {
      "text/plain": [
       "['Jane', 'Pale']"
      ]
     },
     "execution_count": 36,
     "metadata": {},
     "output_type": "execute_result"
    }
   ],
   "source": [
    "interviewee_screening(data)"
   ]
  }
 ],
 "metadata": {
  "kernelspec": {
   "display_name": "Python 3",
   "language": "python",
   "name": "python3"
  },
  "language_info": {
   "codemirror_mode": {
    "name": "ipython",
    "version": 3
   },
   "file_extension": ".py",
   "mimetype": "text/x-python",
   "name": "python",
   "nbconvert_exporter": "python",
   "pygments_lexer": "ipython3",
   "version": "3.8.3"
  }
 },
 "nbformat": 4,
 "nbformat_minor": 4
}
