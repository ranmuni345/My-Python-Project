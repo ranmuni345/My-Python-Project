{
 "cells": [
  {
   "cell_type": "code",
   "execution_count": 76,
   "id": "1ba2d529",
   "metadata": {},
   "outputs": [
    {
     "name": "stdout",
     "output_type": "stream",
     "text": [
      "* \n",
      "* * \n",
      "* * * \n",
      "* * * * \n",
      "* * * * * \n"
     ]
    }
   ],
   "source": [
    "num=5\n",
    "\n",
    "\n",
    "for i in range(0,num):\n",
    "    for j in range(0,i+1):\n",
    "        print(\"*\",end=\" \")\n",
    "    print()"
   ]
  },
  {
   "cell_type": "code",
   "execution_count": 5,
   "id": "d0bec2fb",
   "metadata": {},
   "outputs": [],
   "source": [
    "import random"
   ]
  },
  {
   "cell_type": "code",
   "execution_count": 6,
   "id": "631763ba",
   "metadata": {},
   "outputs": [
    {
     "data": {
      "text/plain": [
       "4"
      ]
     },
     "execution_count": 6,
     "metadata": {},
     "output_type": "execute_result"
    }
   ],
   "source": [
    "random.randrange(3,10)"
   ]
  },
  {
   "cell_type": "code",
   "execution_count": 7,
   "id": "aa2e8c4e",
   "metadata": {},
   "outputs": [
    {
     "data": {
      "text/plain": [
       "26"
      ]
     },
     "execution_count": 7,
     "metadata": {},
     "output_type": "execute_result"
    }
   ],
   "source": [
    "random.randrange(20,30)"
   ]
  },
  {
   "cell_type": "code",
   "execution_count": 9,
   "id": "c79d505a",
   "metadata": {},
   "outputs": [
    {
     "data": {
      "text/plain": [
       "0.5722656359883209"
      ]
     },
     "execution_count": 9,
     "metadata": {},
     "output_type": "execute_result"
    }
   ],
   "source": [
    "random.random()"
   ]
  },
  {
   "cell_type": "code",
   "execution_count": 11,
   "id": "f1053112",
   "metadata": {},
   "outputs": [
    {
     "data": {
      "text/plain": [
       "2.1118757738579363"
      ]
     },
     "execution_count": 11,
     "metadata": {},
     "output_type": "execute_result"
    }
   ],
   "source": [
    "random.uniform(2,6)"
   ]
  },
  {
   "cell_type": "code",
   "execution_count": 12,
   "id": "f87535a7",
   "metadata": {},
   "outputs": [],
   "source": [
    "a=random.uniform(2,6)"
   ]
  },
  {
   "cell_type": "code",
   "execution_count": 14,
   "id": "3c31669d",
   "metadata": {},
   "outputs": [
    {
     "data": {
      "text/plain": [
       "2.9044226717436565"
      ]
     },
     "execution_count": 14,
     "metadata": {},
     "output_type": "execute_result"
    }
   ],
   "source": [
    "a"
   ]
  },
  {
   "cell_type": "code",
   "execution_count": 15,
   "id": "f5a044e7",
   "metadata": {},
   "outputs": [],
   "source": [
    "def fun(a,b):\n",
    "    return random.uniform(a,b)"
   ]
  },
  {
   "cell_type": "code",
   "execution_count": 17,
   "id": "56c7230b",
   "metadata": {},
   "outputs": [
    {
     "data": {
      "text/plain": [
       "5.425877675558706"
      ]
     },
     "execution_count": 17,
     "metadata": {},
     "output_type": "execute_result"
    }
   ],
   "source": [
    "fun(4,6)"
   ]
  },
  {
   "cell_type": "code",
   "execution_count": 18,
   "id": "77ba4e66",
   "metadata": {},
   "outputs": [],
   "source": [
    "import numpy as np"
   ]
  },
  {
   "cell_type": "code",
   "execution_count": 19,
   "id": "8aaebcd2",
   "metadata": {},
   "outputs": [
    {
     "ename": "TypeError",
     "evalue": "array() missing required argument 'object' (pos 1)",
     "output_type": "error",
     "traceback": [
      "\u001b[1;31m---------------------------------------------------------------------------\u001b[0m",
      "\u001b[1;31mTypeError\u001b[0m                                 Traceback (most recent call last)",
      "\u001b[1;32m<ipython-input-19-e4f3b47dc252>\u001b[0m in \u001b[0;36m<module>\u001b[1;34m\u001b[0m\n\u001b[1;32m----> 1\u001b[1;33m \u001b[0mnp\u001b[0m\u001b[1;33m.\u001b[0m\u001b[0marray\u001b[0m\u001b[1;33m(\u001b[0m\u001b[1;33m)\u001b[0m\u001b[1;33m\u001b[0m\u001b[1;33m\u001b[0m\u001b[0m\n\u001b[0m",
      "\u001b[1;31mTypeError\u001b[0m: array() missing required argument 'object' (pos 1)"
     ]
    }
   ],
   "source": [
    "np.array()"
   ]
  },
  {
   "cell_type": "code",
   "execution_count": 20,
   "id": "fbdd6424",
   "metadata": {},
   "outputs": [],
   "source": [
    "L=[10,20,30,40,50]\n",
    "T=(100,200,300,400,500)\n",
    "S=\"Today is a very beautiful day\""
   ]
  },
  {
   "cell_type": "code",
   "execution_count": 27,
   "id": "aca056fd",
   "metadata": {},
   "outputs": [
    {
     "data": {
      "text/plain": [
       "'e'"
      ]
     },
     "execution_count": 27,
     "metadata": {},
     "output_type": "execute_result"
    }
   ],
   "source": [
    "random.choice(S)"
   ]
  },
  {
   "cell_type": "code",
   "execution_count": 33,
   "id": "c41b939f",
   "metadata": {},
   "outputs": [
    {
     "data": {
      "text/plain": [
       "[50, 40, 10]"
      ]
     },
     "execution_count": 33,
     "metadata": {},
     "output_type": "execute_result"
    }
   ],
   "source": [
    "random.sample(L,3)"
   ]
  },
  {
   "cell_type": "code",
   "execution_count": 35,
   "id": "032f4c63",
   "metadata": {},
   "outputs": [
    {
     "data": {
      "text/plain": [
       "[200, 400, 500, 300]"
      ]
     },
     "execution_count": 35,
     "metadata": {},
     "output_type": "execute_result"
    }
   ],
   "source": [
    "random.sample(T,4)"
   ]
  },
  {
   "cell_type": "code",
   "execution_count": 38,
   "id": "17aeea9b",
   "metadata": {},
   "outputs": [],
   "source": [
    "random.shuffle(L)"
   ]
  },
  {
   "cell_type": "code",
   "execution_count": 40,
   "id": "39197724",
   "metadata": {},
   "outputs": [
    {
     "data": {
      "text/plain": [
       "[40, 20, 10, 50, 30]"
      ]
     },
     "execution_count": 40,
     "metadata": {},
     "output_type": "execute_result"
    }
   ],
   "source": [
    "L"
   ]
  },
  {
   "cell_type": "code",
   "execution_count": 41,
   "id": "66c4a58b",
   "metadata": {},
   "outputs": [
    {
     "ename": "TypeError",
     "evalue": "'tuple' object does not support item assignment",
     "output_type": "error",
     "traceback": [
      "\u001b[1;31m---------------------------------------------------------------------------\u001b[0m",
      "\u001b[1;31mTypeError\u001b[0m                                 Traceback (most recent call last)",
      "\u001b[1;32m<ipython-input-41-c0726393df75>\u001b[0m in \u001b[0;36m<module>\u001b[1;34m\u001b[0m\n\u001b[1;32m----> 1\u001b[1;33m \u001b[0mrandom\u001b[0m\u001b[1;33m.\u001b[0m\u001b[0mshuffle\u001b[0m\u001b[1;33m(\u001b[0m\u001b[0mT\u001b[0m\u001b[1;33m)\u001b[0m\u001b[1;33m\u001b[0m\u001b[1;33m\u001b[0m\u001b[0m\n\u001b[0m",
      "\u001b[1;32mD:\\Flutter_Projects\\flutter_app1\\.idea\\Anaconda\\lib\\random.py\u001b[0m in \u001b[0;36mshuffle\u001b[1;34m(self, x, random)\u001b[0m\n\u001b[0;32m    305\u001b[0m                 \u001b[1;31m# pick an element in x[:i+1] with which to exchange x[i]\u001b[0m\u001b[1;33m\u001b[0m\u001b[1;33m\u001b[0m\u001b[1;33m\u001b[0m\u001b[0m\n\u001b[0;32m    306\u001b[0m                 \u001b[0mj\u001b[0m \u001b[1;33m=\u001b[0m \u001b[0mrandbelow\u001b[0m\u001b[1;33m(\u001b[0m\u001b[0mi\u001b[0m\u001b[1;33m+\u001b[0m\u001b[1;36m1\u001b[0m\u001b[1;33m)\u001b[0m\u001b[1;33m\u001b[0m\u001b[1;33m\u001b[0m\u001b[0m\n\u001b[1;32m--> 307\u001b[1;33m                 \u001b[0mx\u001b[0m\u001b[1;33m[\u001b[0m\u001b[0mi\u001b[0m\u001b[1;33m]\u001b[0m\u001b[1;33m,\u001b[0m \u001b[0mx\u001b[0m\u001b[1;33m[\u001b[0m\u001b[0mj\u001b[0m\u001b[1;33m]\u001b[0m \u001b[1;33m=\u001b[0m \u001b[0mx\u001b[0m\u001b[1;33m[\u001b[0m\u001b[0mj\u001b[0m\u001b[1;33m]\u001b[0m\u001b[1;33m,\u001b[0m \u001b[0mx\u001b[0m\u001b[1;33m[\u001b[0m\u001b[0mi\u001b[0m\u001b[1;33m]\u001b[0m\u001b[1;33m\u001b[0m\u001b[1;33m\u001b[0m\u001b[0m\n\u001b[0m\u001b[0;32m    308\u001b[0m         \u001b[1;32melse\u001b[0m\u001b[1;33m:\u001b[0m\u001b[1;33m\u001b[0m\u001b[1;33m\u001b[0m\u001b[0m\n\u001b[0;32m    309\u001b[0m             \u001b[0m_int\u001b[0m \u001b[1;33m=\u001b[0m \u001b[0mint\u001b[0m\u001b[1;33m\u001b[0m\u001b[1;33m\u001b[0m\u001b[0m\n",
      "\u001b[1;31mTypeError\u001b[0m: 'tuple' object does not support item assignment"
     ]
    }
   ],
   "source": [
    "random.shuffle(T)"
   ]
  },
  {
   "cell_type": "code",
   "execution_count": 42,
   "id": "54e72691",
   "metadata": {},
   "outputs": [
    {
     "ename": "TypeError",
     "evalue": "'str' object does not support item assignment",
     "output_type": "error",
     "traceback": [
      "\u001b[1;31m---------------------------------------------------------------------------\u001b[0m",
      "\u001b[1;31mTypeError\u001b[0m                                 Traceback (most recent call last)",
      "\u001b[1;32m<ipython-input-42-52d0679bf257>\u001b[0m in \u001b[0;36m<module>\u001b[1;34m\u001b[0m\n\u001b[1;32m----> 1\u001b[1;33m \u001b[0mrandom\u001b[0m\u001b[1;33m.\u001b[0m\u001b[0mshuffle\u001b[0m\u001b[1;33m(\u001b[0m\u001b[0mS\u001b[0m\u001b[1;33m)\u001b[0m\u001b[1;33m\u001b[0m\u001b[1;33m\u001b[0m\u001b[0m\n\u001b[0m",
      "\u001b[1;32mD:\\Flutter_Projects\\flutter_app1\\.idea\\Anaconda\\lib\\random.py\u001b[0m in \u001b[0;36mshuffle\u001b[1;34m(self, x, random)\u001b[0m\n\u001b[0;32m    305\u001b[0m                 \u001b[1;31m# pick an element in x[:i+1] with which to exchange x[i]\u001b[0m\u001b[1;33m\u001b[0m\u001b[1;33m\u001b[0m\u001b[1;33m\u001b[0m\u001b[0m\n\u001b[0;32m    306\u001b[0m                 \u001b[0mj\u001b[0m \u001b[1;33m=\u001b[0m \u001b[0mrandbelow\u001b[0m\u001b[1;33m(\u001b[0m\u001b[0mi\u001b[0m\u001b[1;33m+\u001b[0m\u001b[1;36m1\u001b[0m\u001b[1;33m)\u001b[0m\u001b[1;33m\u001b[0m\u001b[1;33m\u001b[0m\u001b[0m\n\u001b[1;32m--> 307\u001b[1;33m                 \u001b[0mx\u001b[0m\u001b[1;33m[\u001b[0m\u001b[0mi\u001b[0m\u001b[1;33m]\u001b[0m\u001b[1;33m,\u001b[0m \u001b[0mx\u001b[0m\u001b[1;33m[\u001b[0m\u001b[0mj\u001b[0m\u001b[1;33m]\u001b[0m \u001b[1;33m=\u001b[0m \u001b[0mx\u001b[0m\u001b[1;33m[\u001b[0m\u001b[0mj\u001b[0m\u001b[1;33m]\u001b[0m\u001b[1;33m,\u001b[0m \u001b[0mx\u001b[0m\u001b[1;33m[\u001b[0m\u001b[0mi\u001b[0m\u001b[1;33m]\u001b[0m\u001b[1;33m\u001b[0m\u001b[1;33m\u001b[0m\u001b[0m\n\u001b[0m\u001b[0;32m    308\u001b[0m         \u001b[1;32melse\u001b[0m\u001b[1;33m:\u001b[0m\u001b[1;33m\u001b[0m\u001b[1;33m\u001b[0m\u001b[0m\n\u001b[0;32m    309\u001b[0m             \u001b[0m_int\u001b[0m \u001b[1;33m=\u001b[0m \u001b[0mint\u001b[0m\u001b[1;33m\u001b[0m\u001b[1;33m\u001b[0m\u001b[0m\n",
      "\u001b[1;31mTypeError\u001b[0m: 'str' object does not support item assignment"
     ]
    }
   ],
   "source": [
    "random.shuffle(S)"
   ]
  },
  {
   "cell_type": "code",
   "execution_count": 44,
   "id": "3169d995",
   "metadata": {},
   "outputs": [
    {
     "name": "stdout",
     "output_type": "stream",
     "text": [
      "Enter the first value:13\n",
      "Enter the second value:34\n",
      "47\n"
     ]
    }
   ],
   "source": [
    "val1=int(input(\"Enter the first value:\"))\n",
    "val2=int(input(\"Enter the second value:\"))\n",
    "\n",
    "\n",
    "if val1*val2<100:\n",
    "       print(val1*val2)\n",
    "else:\n",
    "     print(val1+val2)"
   ]
  },
  {
   "cell_type": "code",
   "execution_count": 45,
   "id": "1e355cac",
   "metadata": {},
   "outputs": [
    {
     "name": "stdout",
     "output_type": "stream",
     "text": [
      "Enter the first value:20\n",
      "Enter the second value:4\n",
      "80\n"
     ]
    }
   ],
   "source": [
    "val1=int(input(\"Enter the first value:\"))\n",
    "val2=int(input(\"Enter the second value:\"))\n",
    "\n",
    "\n",
    "if val1*val2<100:\n",
    "       print(val1*val2)\n",
    "else:\n",
    "     print(val1+val2)"
   ]
  },
  {
   "cell_type": "code",
   "execution_count": 46,
   "id": "589b90a5",
   "metadata": {},
   "outputs": [],
   "source": [
    "L=[2,3,4,5]\n",
    "L1=[2,6,12,20]"
   ]
  },
  {
   "cell_type": "code",
   "execution_count": 47,
   "id": "0e7309e6",
   "metadata": {},
   "outputs": [],
   "source": [
    "def fun(L):\n",
    "    newL=[L[0] if i==0 else L[i]*L[i-1] for i in range(len(L))]\n",
    "    return newL"
   ]
  },
  {
   "cell_type": "code",
   "execution_count": 50,
   "id": "55db2c8f",
   "metadata": {},
   "outputs": [],
   "source": [
    "def fun1(L):\n",
    "    newL=[L[0] if i==0 else L[i]*L[i-1] for i,j in enumerate(L)]\n",
    "    return newL"
   ]
  },
  {
   "cell_type": "code",
   "execution_count": 51,
   "id": "ef25508b",
   "metadata": {},
   "outputs": [
    {
     "data": {
      "text/plain": [
       "[10, 200, 600]"
      ]
     },
     "execution_count": 51,
     "metadata": {},
     "output_type": "execute_result"
    }
   ],
   "source": [
    "fun([10,20,30])"
   ]
  },
  {
   "cell_type": "code",
   "execution_count": 52,
   "id": "6557de25",
   "metadata": {},
   "outputs": [
    {
     "data": {
      "text/plain": [
       "[10, 200, 600]"
      ]
     },
     "execution_count": 52,
     "metadata": {},
     "output_type": "execute_result"
    }
   ],
   "source": [
    "fun1([10,20,30])"
   ]
  },
  {
   "cell_type": "code",
   "execution_count": 53,
   "id": "60832e54",
   "metadata": {},
   "outputs": [],
   "source": [
    "def fun2(L):\n",
    "    newL=[] \n",
    "    for i in range(len(L)):\n",
    "        if i==0:\n",
    "             newL.append(L[0])\n",
    "        else:\n",
    "            newL.append(L[i]*L[i-1])"
   ]
  },
  {
   "cell_type": "code",
   "execution_count": 55,
   "id": "429b7c5a",
   "metadata": {},
   "outputs": [
    {
     "data": {
      "text/plain": [
       "[10, 200, 600]"
      ]
     },
     "execution_count": 55,
     "metadata": {},
     "output_type": "execute_result"
    }
   ],
   "source": [
    "fun([10,20,30])"
   ]
  },
  {
   "cell_type": "code",
   "execution_count": 62,
   "id": "ad4267ae",
   "metadata": {},
   "outputs": [
    {
     "data": {
      "text/plain": [
       "[10, 200, 600]"
      ]
     },
     "execution_count": 62,
     "metadata": {},
     "output_type": "execute_result"
    }
   ],
   "source": [
    "fun1([10,20,30])"
   ]
  },
  {
   "cell_type": "code",
   "execution_count": 63,
   "id": "4ac2350f",
   "metadata": {},
   "outputs": [],
   "source": [
    "fun2([10,20,30])"
   ]
  },
  {
   "cell_type": "code",
   "execution_count": 64,
   "id": "16a0c1f5",
   "metadata": {},
   "outputs": [],
   "source": [
    "def fun(L):\n",
    "      newL=[L[i] for i in range(len(L)) if i%2==0]\n",
    "      return sum(newL)"
   ]
  },
  {
   "cell_type": "code",
   "execution_count": 67,
   "id": "da46ad2f",
   "metadata": {},
   "outputs": [],
   "source": [
    "L=[1,3,4,1,5,6,7,3,8]"
   ]
  },
  {
   "cell_type": "code",
   "execution_count": 68,
   "id": "ab29b4e2",
   "metadata": {},
   "outputs": [
    {
     "data": {
      "text/plain": [
       "25"
      ]
     },
     "execution_count": 68,
     "metadata": {},
     "output_type": "execute_result"
    }
   ],
   "source": [
    "fun(L)"
   ]
  },
  {
   "cell_type": "code",
   "execution_count": 69,
   "id": "e4e7bb09",
   "metadata": {},
   "outputs": [],
   "source": [
    "def fun1(L):\n",
    "    if L[0]==L[-1]:\n",
    "         return True\n",
    "    else:\n",
    "        return False"
   ]
  },
  {
   "cell_type": "code",
   "execution_count": 70,
   "id": "ca3e031d",
   "metadata": {},
   "outputs": [],
   "source": [
    "def fun2(L):\n",
    "      return L[0]==L[-1]"
   ]
  },
  {
   "cell_type": "code",
   "execution_count": 71,
   "id": "fcba3400",
   "metadata": {},
   "outputs": [
    {
     "data": {
      "text/plain": [
       "False"
      ]
     },
     "execution_count": 71,
     "metadata": {},
     "output_type": "execute_result"
    }
   ],
   "source": [
    "fun1([2,3,3,8])"
   ]
  },
  {
   "cell_type": "code",
   "execution_count": 72,
   "id": "0059b013",
   "metadata": {},
   "outputs": [
    {
     "data": {
      "text/plain": [
       "False"
      ]
     },
     "execution_count": 72,
     "metadata": {},
     "output_type": "execute_result"
    }
   ],
   "source": [
    "fun2([2,3,3,8])"
   ]
  },
  {
   "cell_type": "code",
   "execution_count": 73,
   "id": "adcdd684",
   "metadata": {},
   "outputs": [
    {
     "data": {
      "text/plain": [
       "[0.8888888888888888, -9, 1, 5, 4, 2]"
      ]
     },
     "execution_count": 73,
     "metadata": {},
     "output_type": "execute_result"
    }
   ],
   "source": [
    "L=[2,4,5,1,-9,8/9]\n",
    "L[::-1]"
   ]
  },
  {
   "cell_type": "code",
   "execution_count": 74,
   "id": "d470abb0",
   "metadata": {},
   "outputs": [
    {
     "data": {
      "text/plain": [
       "[0.8888888888888888, -9, 1, 5, 4, 2]"
      ]
     },
     "execution_count": 74,
     "metadata": {},
     "output_type": "execute_result"
    }
   ],
   "source": [
    "list(reversed(L))"
   ]
  },
  {
   "cell_type": "code",
   "execution_count": 75,
   "id": "429ca632",
   "metadata": {},
   "outputs": [],
   "source": [
    "def fun(L):\n",
    "    return L==list(reversed(L))"
   ]
  },
  {
   "cell_type": "code",
   "execution_count": 76,
   "id": "aa5648e8",
   "metadata": {},
   "outputs": [
    {
     "data": {
      "text/plain": [
       "True"
      ]
     },
     "execution_count": 76,
     "metadata": {},
     "output_type": "execute_result"
    }
   ],
   "source": [
    "fun([1,2,3,2,1])"
   ]
  },
  {
   "cell_type": "code",
   "execution_count": 77,
   "id": "270ed582",
   "metadata": {},
   "outputs": [
    {
     "data": {
      "text/plain": [
       "False"
      ]
     },
     "execution_count": 77,
     "metadata": {},
     "output_type": "execute_result"
    }
   ],
   "source": [
    "fun([-1,3,4,6,7/8])"
   ]
  },
  {
   "cell_type": "code",
   "execution_count": 78,
   "id": "2d10a624",
   "metadata": {},
   "outputs": [],
   "source": [
    "def fun(L1,L2):\n",
    "    return[i for i in L1 if i%3==0]+[j for j in L2 if j%5==0]"
   ]
  },
  {
   "cell_type": "code",
   "execution_count": 80,
   "id": "15331853",
   "metadata": {},
   "outputs": [
    {
     "data": {
      "text/plain": [
       "[3, 6, 12, -9, 5]"
      ]
     },
     "execution_count": 80,
     "metadata": {},
     "output_type": "execute_result"
    }
   ],
   "source": [
    "fun([2,3,6,12,-9,8/9],[5,3,4,-1,5/6])"
   ]
  },
  {
   "cell_type": "code",
   "execution_count": 81,
   "id": "b3aef566",
   "metadata": {},
   "outputs": [
    {
     "data": {
      "text/plain": [
       "[3, 6, 12, -9, 5]"
      ]
     },
     "execution_count": 81,
     "metadata": {},
     "output_type": "execute_result"
    }
   ],
   "source": [
    "(lambda L1,L2:[i for i in L1 if i%3==0]+[j for j in L2 if j%5==0])([2,3,6,12,-9,8/9],[5,3,4,-1,5/6])"
   ]
  },
  {
   "cell_type": "code",
   "execution_count": 85,
   "id": "7ff42f64",
   "metadata": {},
   "outputs": [],
   "source": [
    "def fun(L):\n",
    "    return len(L)>=1 and (L[0]==6 or L[-1]==6)"
   ]
  },
  {
   "cell_type": "code",
   "execution_count": 86,
   "id": "81a6a6e6",
   "metadata": {},
   "outputs": [
    {
     "data": {
      "text/plain": [
       "False"
      ]
     },
     "execution_count": 86,
     "metadata": {},
     "output_type": "execute_result"
    }
   ],
   "source": [
    "fun([])"
   ]
  },
  {
   "cell_type": "code",
   "execution_count": 87,
   "id": "a0d89576",
   "metadata": {},
   "outputs": [
    {
     "data": {
      "text/plain": [
       "False"
      ]
     },
     "execution_count": 87,
     "metadata": {},
     "output_type": "execute_result"
    }
   ],
   "source": [
    "fun([-1])"
   ]
  },
  {
   "cell_type": "code",
   "execution_count": 89,
   "id": "fe104e1e",
   "metadata": {},
   "outputs": [
    {
     "data": {
      "text/plain": [
       "False"
      ]
     },
     "execution_count": 89,
     "metadata": {},
     "output_type": "execute_result"
    }
   ],
   "source": [
    "fun([0])"
   ]
  }
 ],
 "metadata": {
  "kernelspec": {
   "display_name": "Python 3",
   "language": "python",
   "name": "python3"
  },
  "language_info": {
   "codemirror_mode": {
    "name": "ipython",
    "version": 3
   },
   "file_extension": ".py",
   "mimetype": "text/x-python",
   "name": "python",
   "nbconvert_exporter": "python",
   "pygments_lexer": "ipython3",
   "version": "3.8.8"
  }
 },
 "nbformat": 4,
 "nbformat_minor": 5
}
