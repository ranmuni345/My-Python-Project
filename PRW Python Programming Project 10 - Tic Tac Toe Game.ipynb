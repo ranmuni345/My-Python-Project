{
 "cells": [
  {
   "cell_type": "code",
   "execution_count": null,
   "metadata": {},
   "outputs": [],
   "source": [
    "import numpy as np\n",
    "\n",
    "board=np.zeros((3,3)).astype(int)\n",
    "dis_board=np.zeros((3,3)).astype(int).astype(str)\n",
    "dis_board[:]=\" \"\n",
    "\n",
    "def play():\n",
    "    y=int(input(\"What is {}'s row number    :\".format(turn)))\n",
    "    x=int(input(\"What is {}'s column number :\".format(turn)))\n",
    "    \n",
    "    if (x in [1,2,3]) and (y in [1,2,3]):\n",
    "        if board[y-1,x-1]==0:\n",
    "            board[y-1,x-1]=turn_fill\n",
    "            dis_board[y-1,x-1]=\"X\" if turn_fill==1 else \"O\"\n",
    "        else:\n",
    "            print(\"Already filled\")\n",
    "            play()\n",
    "    else:\n",
    "        print(\"Out of index\")\n",
    "        play()\n",
    "\n",
    "        \n",
    "def check():\n",
    "    if any(np.sum(board,axis=0)==3) or any(np.sum(board,axis=1)==3) or np.diag(board).sum()==3 or np.diag(np.fliplr(board)).sum()==3:\n",
    "        return True\n",
    "    if any(np.sum(board,axis=0)==-3) or any(np.sum(board,axis=1)==-3) or np.diag(board).sum()==-3 or np.diag(np.fliplr(board)).sum()==-3:\n",
    "        return True\n",
    "    return False\n",
    "\n",
    "p1=input(\"What is the name of player 1 (Symbol X):\")\n",
    "p2=input(\"What is the name of player 2 (Symbol O):\")\n",
    "players=[p1,p2]   \n",
    "turn=p1\n",
    "turn_fill=1\n",
    "move=9\n",
    "print(dis_board)\n",
    "while move>0:\n",
    "    play()\n",
    "    print(\"-------------------\")\n",
    "    print(dis_board)\n",
    "    print(\"-------------------\")\n",
    "    if check():\n",
    "        print(\"Player {} has won\".format(turn))\n",
    "        break\n",
    "    players.reverse()\n",
    "    turn=players[0]\n",
    "    turn_fill*=-1\n",
    "    move-=1"
   ]
  }
 ],
 "metadata": {
  "kernelspec": {
   "display_name": "Python 3",
   "language": "python",
   "name": "python3"
  },
  "language_info": {
   "codemirror_mode": {
    "name": "ipython",
    "version": 3
   },
   "file_extension": ".py",
   "mimetype": "text/x-python",
   "name": "python",
   "nbconvert_exporter": "python",
   "pygments_lexer": "ipython3",
   "version": "3.8.3"
  }
 },
 "nbformat": 4,
 "nbformat_minor": 4
}
