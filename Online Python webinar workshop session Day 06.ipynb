{
 "cells": [
  {
   "cell_type": "code",
   "execution_count": 1,
   "id": "7a2e6882",
   "metadata": {},
   "outputs": [
    {
     "name": "stdout",
     "output_type": "stream",
     "text": [
      "kane\n",
      "Happy Birth Day!!!!!!!!\n"
     ]
    }
   ],
   "source": [
    "print(\"kane\")\n",
    "print(\"Happy Birth Day!!!!!!!!\")"
   ]
  },
  {
   "cell_type": "code",
   "execution_count": 10,
   "id": "48fdc016",
   "metadata": {},
   "outputs": [],
   "source": [
    "def add_vals():\n",
    "    a=10\n",
    "    b=70\n",
    "    print(a+b)\n",
    "\n"
   ]
  },
  {
   "cell_type": "code",
   "execution_count": 11,
   "id": "2c95eff5",
   "metadata": {},
   "outputs": [
    {
     "name": "stdout",
     "output_type": "stream",
     "text": [
      "80\n"
     ]
    }
   ],
   "source": [
    "add_vals()"
   ]
  },
  {
   "cell_type": "code",
   "execution_count": 12,
   "id": "d2d3ed4d",
   "metadata": {},
   "outputs": [],
   "source": [
    "def add_vals():\n",
    "    a=10\n",
    "    b=70\n",
    "    print(a-b)\n",
    "    print(a*b)\n",
    "    print(a/b)\n"
   ]
  },
  {
   "cell_type": "code",
   "execution_count": 13,
   "id": "905b86b7",
   "metadata": {},
   "outputs": [
    {
     "name": "stdout",
     "output_type": "stream",
     "text": [
      "-60\n",
      "700\n",
      "0.14285714285714285\n"
     ]
    }
   ],
   "source": [
    "add_vals()"
   ]
  },
  {
   "cell_type": "code",
   "execution_count": 15,
   "id": "68035f45",
   "metadata": {},
   "outputs": [],
   "source": [
    "def fun(name):\n",
    "    print(\"kane  \"+name)\n",
    "    print(\"Happy Birthday!!!\")"
   ]
  },
  {
   "cell_type": "code",
   "execution_count": 16,
   "id": "fda3015b",
   "metadata": {},
   "outputs": [
    {
     "name": "stdout",
     "output_type": "stream",
     "text": [
      "kane  kane\n",
      "Happy Birthday!!!\n"
     ]
    }
   ],
   "source": [
    "fun(\"kane\")"
   ]
  },
  {
   "cell_type": "code",
   "execution_count": 17,
   "id": "85255b63",
   "metadata": {},
   "outputs": [
    {
     "name": "stdout",
     "output_type": "stream",
     "text": [
      "Enter your age:24\n"
     ]
    }
   ],
   "source": [
    "age=int(input(\"Enter your age:\"))"
   ]
  },
  {
   "cell_type": "code",
   "execution_count": 20,
   "id": "6f061a7b",
   "metadata": {},
   "outputs": [],
   "source": [
    "def add_vals(a,b):\n",
    "    print(a+b)"
   ]
  },
  {
   "cell_type": "code",
   "execution_count": 21,
   "id": "3b27e09f",
   "metadata": {},
   "outputs": [
    {
     "name": "stdout",
     "output_type": "stream",
     "text": [
      "8\n"
     ]
    }
   ],
   "source": [
    "add_vals(2,6)"
   ]
  },
  {
   "cell_type": "code",
   "execution_count": 22,
   "id": "872dfa10",
   "metadata": {},
   "outputs": [],
   "source": [
    "def add_vals(a,b,c):\n",
    "    print(a+b+c)"
   ]
  },
  {
   "cell_type": "code",
   "execution_count": 23,
   "id": "62924205",
   "metadata": {},
   "outputs": [
    {
     "name": "stdout",
     "output_type": "stream",
     "text": [
      "17\n"
     ]
    }
   ],
   "source": [
    "add_vals(2,7,8)"
   ]
  },
  {
   "cell_type": "code",
   "execution_count": 24,
   "id": "96ca4857",
   "metadata": {},
   "outputs": [],
   "source": [
    "def add_vals(a,b,c):\n",
    "    print(a+b-c)"
   ]
  },
  {
   "cell_type": "code",
   "execution_count": 25,
   "id": "14b23c16",
   "metadata": {},
   "outputs": [
    {
     "name": "stdout",
     "output_type": "stream",
     "text": [
      "12\n"
     ]
    }
   ],
   "source": [
    "add_vals(23,34,45)"
   ]
  },
  {
   "cell_type": "code",
   "execution_count": 26,
   "id": "91c94846",
   "metadata": {},
   "outputs": [],
   "source": [
    "def add_vals(a,b,c):\n",
    "    print(a-b*c)"
   ]
  },
  {
   "cell_type": "code",
   "execution_count": 27,
   "id": "ea419505",
   "metadata": {},
   "outputs": [
    {
     "name": "stdout",
     "output_type": "stream",
     "text": [
      "-1521\n"
     ]
    }
   ],
   "source": [
    "add_vals(9,34,45)"
   ]
  },
  {
   "cell_type": "code",
   "execution_count": 28,
   "id": "8474c927",
   "metadata": {},
   "outputs": [],
   "source": [
    "def fun(a,b,c):\n",
    "    if a>=b and a>=c:\n",
    "        print(\"value is the largest\")\n",
    "    elif b>=a and b>=c:\n",
    "        print(\"Second value is the largest\")\n",
    "    elif c>=a and c>=b:\n",
    "        print(\"Third value is is the largest\")\n",
    "    else:\n",
    "        print(\"accessed the value\")"
   ]
  },
  {
   "cell_type": "code",
   "execution_count": 29,
   "id": "7791a65c",
   "metadata": {},
   "outputs": [
    {
     "name": "stdout",
     "output_type": "stream",
     "text": [
      "Third value is is the largest\n"
     ]
    }
   ],
   "source": [
    "fun(12,34,78)"
   ]
  },
  {
   "cell_type": "code",
   "execution_count": 30,
   "id": "caa75210",
   "metadata": {},
   "outputs": [],
   "source": [
    "def fun(a,b,c):\n",
    "    if a>=b and a>=c:\n",
    "        print(\"value is the largest\")\n",
    "    elif b>=a and b>=c:\n",
    "        print(\"Second value is the largest\")\n",
    "    elif c>=a and c>=b:\n",
    "        print(\"Third value is is the largest\")\n",
    "    else:\n",
    "        print(\"Invalid a value\")"
   ]
  },
  {
   "cell_type": "code",
   "execution_count": 31,
   "id": "61c6bbd3",
   "metadata": {},
   "outputs": [
    {
     "name": "stdout",
     "output_type": "stream",
     "text": [
      "Third value is is the largest\n"
     ]
    }
   ],
   "source": [
    "fun(-2,2.345,98)"
   ]
  },
  {
   "cell_type": "code",
   "execution_count": 32,
   "id": "c0b4dab8",
   "metadata": {},
   "outputs": [
    {
     "name": "stdout",
     "output_type": "stream",
     "text": [
      "Second value is the largest\n"
     ]
    }
   ],
   "source": [
    "fun(0,2.345,-1)"
   ]
  },
  {
   "cell_type": "code",
   "execution_count": 34,
   "id": "4323eeb6",
   "metadata": {},
   "outputs": [
    {
     "name": "stdout",
     "output_type": "stream",
     "text": [
      "value is the largest\n"
     ]
    }
   ],
   "source": [
    "fun(10,10,6)"
   ]
  },
  {
   "cell_type": "code",
   "execution_count": 35,
   "id": "aec108f3",
   "metadata": {},
   "outputs": [
    {
     "name": "stdout",
     "output_type": "stream",
     "text": [
      "Second value is the largest\n"
     ]
    }
   ],
   "source": [
    "fun(1,3,2)"
   ]
  },
  {
   "cell_type": "code",
   "execution_count": 36,
   "id": "16d022a2",
   "metadata": {},
   "outputs": [],
   "source": [
    "def add_vals(a=20, b=60):\n",
    "    print(a+b)"
   ]
  },
  {
   "cell_type": "code",
   "execution_count": 37,
   "id": "f692c9b3",
   "metadata": {},
   "outputs": [
    {
     "name": "stdout",
     "output_type": "stream",
     "text": [
      "63\n"
     ]
    }
   ],
   "source": [
    "add_vals(3)"
   ]
  },
  {
   "cell_type": "code",
   "execution_count": 38,
   "id": "310acec1",
   "metadata": {},
   "outputs": [
    {
     "name": "stdout",
     "output_type": "stream",
     "text": [
      "120\n"
     ]
    }
   ],
   "source": [
    "add_vals(60)"
   ]
  },
  {
   "cell_type": "code",
   "execution_count": 39,
   "id": "684da8b9",
   "metadata": {},
   "outputs": [
    {
     "name": "stdout",
     "output_type": "stream",
     "text": [
      "80\n"
     ]
    }
   ],
   "source": [
    "add_vals()"
   ]
  },
  {
   "cell_type": "code",
   "execution_count": 40,
   "id": "ac6af6bc",
   "metadata": {},
   "outputs": [
    {
     "name": "stdout",
     "output_type": "stream",
     "text": [
      "100\n"
     ]
    }
   ],
   "source": [
    "add_vals(40)"
   ]
  },
  {
   "cell_type": "code",
   "execution_count": 41,
   "id": "5952a2bf",
   "metadata": {},
   "outputs": [
    {
     "name": "stdout",
     "output_type": "stream",
     "text": [
      "-60\n"
     ]
    }
   ],
   "source": [
    "add_vals(-120)"
   ]
  },
  {
   "cell_type": "code",
   "execution_count": 42,
   "id": "46153f4c",
   "metadata": {},
   "outputs": [
    {
     "name": "stdout",
     "output_type": "stream",
     "text": [
      "62.345\n"
     ]
    }
   ],
   "source": [
    "add_vals(2.345)"
   ]
  },
  {
   "cell_type": "code",
   "execution_count": 47,
   "id": "4f69cc51",
   "metadata": {},
   "outputs": [
    {
     "ename": "SyntaxError",
     "evalue": "non-default argument follows default argument (<ipython-input-47-372b17965ffa>, line 1)",
     "output_type": "error",
     "traceback": [
      "\u001b[1;36m  File \u001b[1;32m\"<ipython-input-47-372b17965ffa>\"\u001b[1;36m, line \u001b[1;32m1\u001b[0m\n\u001b[1;33m    def add_vals(a,b=10,c):\u001b[0m\n\u001b[1;37m                 ^\u001b[0m\n\u001b[1;31mSyntaxError\u001b[0m\u001b[1;31m:\u001b[0m non-default argument follows default argument\n"
     ]
    }
   ],
   "source": [
    "def add_vals(a,b=10,c):\n",
    "         print(a+b+c)"
   ]
  },
  {
   "cell_type": "code",
   "execution_count": 48,
   "id": "771522f8",
   "metadata": {},
   "outputs": [],
   "source": [
    "def add_vals(a,b=36,c=34):\n",
    "           print(a+b+c)"
   ]
  },
  {
   "cell_type": "code",
   "execution_count": 49,
   "id": "7f8a0744",
   "metadata": {},
   "outputs": [
    {
     "name": "stdout",
     "output_type": "stream",
     "text": [
      "78\n"
     ]
    }
   ],
   "source": [
    "add_vals(8)"
   ]
  },
  {
   "cell_type": "code",
   "execution_count": 50,
   "id": "1fac8eb3",
   "metadata": {},
   "outputs": [
    {
     "name": "stdout",
     "output_type": "stream",
     "text": [
      "61\n"
     ]
    }
   ],
   "source": [
    "add_vals(-9)"
   ]
  },
  {
   "cell_type": "code",
   "execution_count": 51,
   "id": "b431c5be",
   "metadata": {},
   "outputs": [],
   "source": [
    "def fun(a,b,c):\n",
    "    if a>=b or a>=c:\n",
    "        print(\"value is the largest\")\n",
    "    elif b>=a or b>=c:\n",
    "        print(\"Second value is the largest\")\n",
    "    elif c>=a and c>=b:\n",
    "        print(\"Third value is is the largest\")\n",
    "    else:\n",
    "        print(\"Invalid a value\")"
   ]
  },
  {
   "cell_type": "code",
   "execution_count": 52,
   "id": "bfa8a90b",
   "metadata": {},
   "outputs": [
    {
     "name": "stdout",
     "output_type": "stream",
     "text": [
      "value is the largest\n"
     ]
    }
   ],
   "source": [
    "fun(12,-3,2.345)"
   ]
  },
  {
   "cell_type": "code",
   "execution_count": 53,
   "id": "adb19fca",
   "metadata": {},
   "outputs": [
    {
     "name": "stdout",
     "output_type": "stream",
     "text": [
      "value is the largest\n"
     ]
    }
   ],
   "source": [
    "fun(10,10,4)"
   ]
  },
  {
   "cell_type": "code",
   "execution_count": 54,
   "id": "21fd9913",
   "metadata": {},
   "outputs": [
    {
     "name": "stdout",
     "output_type": "stream",
     "text": [
      "Second value is the largest\n"
     ]
    }
   ],
   "source": [
    "fun(1,3,2)"
   ]
  },
  {
   "cell_type": "code",
   "execution_count": 64,
   "id": "e52e7a92",
   "metadata": {},
   "outputs": [],
   "source": [
    "def add_vals(a,b):\n",
    "    return a+b"
   ]
  },
  {
   "cell_type": "code",
   "execution_count": 65,
   "id": "d16ef0c6",
   "metadata": {},
   "outputs": [
    {
     "data": {
      "text/plain": [
       "17"
      ]
     },
     "execution_count": 65,
     "metadata": {},
     "output_type": "execute_result"
    }
   ],
   "source": [
    "add_vals(2,5)+10"
   ]
  },
  {
   "cell_type": "code",
   "execution_count": 66,
   "id": "2ef99965",
   "metadata": {},
   "outputs": [
    {
     "data": {
      "text/plain": [
       "-9.55"
      ]
     },
     "execution_count": 66,
     "metadata": {},
     "output_type": "execute_result"
    }
   ],
   "source": [
    "add_vals(-3,3.45)-10"
   ]
  },
  {
   "cell_type": "code",
   "execution_count": 67,
   "id": "3e792dac",
   "metadata": {},
   "outputs": [],
   "source": [
    "def add_vals(a,b,c):\n",
    "    return a+b+c"
   ]
  },
  {
   "cell_type": "code",
   "execution_count": 68,
   "id": "7b6d010b",
   "metadata": {},
   "outputs": [
    {
     "data": {
      "text/plain": [
       "-95.44"
      ]
     },
     "execution_count": 68,
     "metadata": {},
     "output_type": "execute_result"
    }
   ],
   "source": [
    "add_vals(-3,-10,3.456)*10"
   ]
  },
  {
   "cell_type": "code",
   "execution_count": 71,
   "id": "aca1b27c",
   "metadata": {},
   "outputs": [
    {
     "data": {
      "text/plain": [
       "-21.544"
      ]
     },
     "execution_count": 71,
     "metadata": {},
     "output_type": "execute_result"
    }
   ],
   "source": [
    "add_vals(-3,-20,3.456)-2"
   ]
  },
  {
   "cell_type": "code",
   "execution_count": 72,
   "id": "ceaf052a",
   "metadata": {},
   "outputs": [
    {
     "data": {
      "text/plain": [
       "-16.3275"
      ]
     },
     "execution_count": 72,
     "metadata": {},
     "output_type": "execute_result"
    }
   ],
   "source": [
    "add_vals(-10,2.345,-25)/2"
   ]
  },
  {
   "cell_type": "code",
   "execution_count": 76,
   "id": "a921f89e",
   "metadata": {},
   "outputs": [],
   "source": [
    "def add_vals(a,b):\n",
    "    return a+b"
   ]
  },
  {
   "cell_type": "code",
   "execution_count": 77,
   "id": "2627e071",
   "metadata": {},
   "outputs": [
    {
     "data": {
      "text/plain": [
       "57"
      ]
     },
     "execution_count": 77,
     "metadata": {},
     "output_type": "execute_result"
    }
   ],
   "source": [
    "add_vals(15,add_vals(24,18))"
   ]
  },
  {
   "cell_type": "code",
   "execution_count": 78,
   "id": "93771055",
   "metadata": {},
   "outputs": [
    {
     "data": {
      "text/plain": [
       "38.456"
      ]
     },
     "execution_count": 78,
     "metadata": {},
     "output_type": "execute_result"
    }
   ],
   "source": [
    "add_vals(add_vals(15,23),add_vals(-3,3.456))"
   ]
  },
  {
   "cell_type": "code",
   "execution_count": 82,
   "id": "6faae2fc",
   "metadata": {},
   "outputs": [],
   "source": [
    "def absolute_val(a):\n",
    "    if a>=0:\n",
    "         return a\n",
    "    else:\n",
    "         return --a"
   ]
  },
  {
   "cell_type": "code",
   "execution_count": 83,
   "id": "45179ed9",
   "metadata": {},
   "outputs": [
    {
     "data": {
      "text/plain": [
       "23"
      ]
     },
     "execution_count": 83,
     "metadata": {},
     "output_type": "execute_result"
    }
   ],
   "source": [
    "absolute_val(23)"
   ]
  },
  {
   "cell_type": "code",
   "execution_count": 84,
   "id": "96d7a6b0",
   "metadata": {},
   "outputs": [
    {
     "data": {
      "text/plain": [
       "-3.456"
      ]
     },
     "execution_count": 84,
     "metadata": {},
     "output_type": "execute_result"
    }
   ],
   "source": [
    "absolute_val(-3.456)"
   ]
  },
  {
   "cell_type": "code",
   "execution_count": 87,
   "id": "c19a3cb8",
   "metadata": {},
   "outputs": [],
   "source": [
    "def absolute_val(a):\n",
    "    if a>=0:\n",
    "         return --a\n",
    "    else:\n",
    "         return a"
   ]
  },
  {
   "cell_type": "code",
   "execution_count": 88,
   "id": "694597ed",
   "metadata": {},
   "outputs": [
    {
     "data": {
      "text/plain": [
       "-6.234"
      ]
     },
     "execution_count": 88,
     "metadata": {},
     "output_type": "execute_result"
    }
   ],
   "source": [
    "absolute_val(-6.234)"
   ]
  },
  {
   "cell_type": "code",
   "execution_count": 89,
   "id": "4fe42563",
   "metadata": {},
   "outputs": [
    {
     "data": {
      "text/plain": [
       "-15"
      ]
     },
     "execution_count": 89,
     "metadata": {},
     "output_type": "execute_result"
    }
   ],
   "source": [
    "absolute_val(-15)"
   ]
  },
  {
   "cell_type": "code",
   "execution_count": 90,
   "id": "b0f88277",
   "metadata": {},
   "outputs": [],
   "source": [
    "def absolute_val(a):\n",
    "    if a>=0:\n",
    "         return a\n",
    "    else:\n",
    "         return -a"
   ]
  },
  {
   "cell_type": "code",
   "execution_count": 91,
   "id": "d8be7cb8",
   "metadata": {},
   "outputs": [
    {
     "data": {
      "text/plain": [
       "3"
      ]
     },
     "execution_count": 91,
     "metadata": {},
     "output_type": "execute_result"
    }
   ],
   "source": [
    "absolute_val(-3)"
   ]
  },
  {
   "cell_type": "code",
   "execution_count": 92,
   "id": "216cf1bc",
   "metadata": {},
   "outputs": [
    {
     "data": {
      "text/plain": [
       "4.567"
      ]
     },
     "execution_count": 92,
     "metadata": {},
     "output_type": "execute_result"
    }
   ],
   "source": [
    "absolute_val(-4.567)"
   ]
  },
  {
   "cell_type": "code",
   "execution_count": 93,
   "id": "09806789",
   "metadata": {},
   "outputs": [
    {
     "data": {
      "text/plain": [
       "3"
      ]
     },
     "execution_count": 93,
     "metadata": {},
     "output_type": "execute_result"
    }
   ],
   "source": [
    "absolute_val(3)"
   ]
  },
  {
   "cell_type": "code",
   "execution_count": 94,
   "id": "44f1e62d",
   "metadata": {},
   "outputs": [],
   "source": [
    "def val_check(n):\n",
    "    return \"Even\" if n%3==0 else \"Odd\""
   ]
  },
  {
   "cell_type": "code",
   "execution_count": 95,
   "id": "1792ba94",
   "metadata": {},
   "outputs": [
    {
     "data": {
      "text/plain": [
       "'Odd'"
      ]
     },
     "execution_count": 95,
     "metadata": {},
     "output_type": "execute_result"
    }
   ],
   "source": [
    "val_check(-34)"
   ]
  },
  {
   "cell_type": "code",
   "execution_count": 96,
   "id": "4653a56d",
   "metadata": {},
   "outputs": [
    {
     "data": {
      "text/plain": [
       "'Odd'"
      ]
     },
     "execution_count": 96,
     "metadata": {},
     "output_type": "execute_result"
    }
   ],
   "source": [
    "val_check(-3.45)"
   ]
  },
  {
   "cell_type": "code",
   "execution_count": 97,
   "id": "8501fbe3",
   "metadata": {},
   "outputs": [
    {
     "data": {
      "text/plain": [
       "'Odd'"
      ]
     },
     "execution_count": 97,
     "metadata": {},
     "output_type": "execute_result"
    }
   ],
   "source": [
    "val_check(20)"
   ]
  },
  {
   "cell_type": "code",
   "execution_count": 98,
   "id": "47943e5b",
   "metadata": {},
   "outputs": [],
   "source": [
    "def val_check(n):\n",
    "    return \"Even\" if n%2==0 else \"Odd\""
   ]
  },
  {
   "cell_type": "code",
   "execution_count": 99,
   "id": "9109e2b1",
   "metadata": {},
   "outputs": [
    {
     "data": {
      "text/plain": [
       "'Even'"
      ]
     },
     "execution_count": 99,
     "metadata": {},
     "output_type": "execute_result"
    }
   ],
   "source": [
    "val_check(20)"
   ]
  },
  {
   "cell_type": "code",
   "execution_count": 100,
   "id": "cc5c4f8b",
   "metadata": {},
   "outputs": [
    {
     "data": {
      "text/plain": [
       "'Odd'"
      ]
     },
     "execution_count": 100,
     "metadata": {},
     "output_type": "execute_result"
    }
   ],
   "source": [
    "val_check(-45)"
   ]
  },
  {
   "cell_type": "code",
   "execution_count": 101,
   "id": "95669d71",
   "metadata": {},
   "outputs": [
    {
     "data": {
      "text/plain": [
       "'Odd'"
      ]
     },
     "execution_count": 101,
     "metadata": {},
     "output_type": "execute_result"
    }
   ],
   "source": [
    "val_check(3.456)"
   ]
  },
  {
   "cell_type": "code",
   "execution_count": 123,
   "id": "38a43343",
   "metadata": {},
   "outputs": [],
   "source": [
    "def results(n):\n",
    "    result=\"Pass\" if n>=50 else \"Fail\"\n",
    "    grade = \"A\" if n>=80 else \"B\" if n>=65 else \"C\" if n>=50 else \"F\"\n",
    "    print(\"Your result is:\"+result+\"and your grade is :\" +grade)"
   ]
  },
  {
   "cell_type": "code",
   "execution_count": 126,
   "id": "17dbeb59",
   "metadata": {},
   "outputs": [
    {
     "name": "stdout",
     "output_type": "stream",
     "text": [
      "Your result is:Passand your grade is :C\n"
     ]
    }
   ],
   "source": [
    "results(56)"
   ]
  },
  {
   "cell_type": "code",
   "execution_count": 127,
   "id": "dbdd8b72",
   "metadata": {},
   "outputs": [
    {
     "name": "stdout",
     "output_type": "stream",
     "text": [
      "Your result is:Passand your grade is :A\n"
     ]
    }
   ],
   "source": [
    "results(90)"
   ]
  },
  {
   "cell_type": "code",
   "execution_count": 128,
   "id": "a29f2628",
   "metadata": {},
   "outputs": [
    {
     "name": "stdout",
     "output_type": "stream",
     "text": [
      "Your result is:Passand your grade is :B\n"
     ]
    }
   ],
   "source": [
    "results(65)"
   ]
  },
  {
   "cell_type": "code",
   "execution_count": 134,
   "id": "fc8515ad",
   "metadata": {},
   "outputs": [],
   "source": [
    "def results(n):\n",
    "    result=\"Pass\" if n>=50 else \"Fail\"\n",
    "    grade = \"A\" if n>=80 else \"B\" if n>=65 else \"C\" if n>=50 else \"F\"\n",
    "    return results,grade"
   ]
  },
  {
   "cell_type": "code",
   "execution_count": 135,
   "id": "b83d2be6",
   "metadata": {},
   "outputs": [
    {
     "data": {
      "text/plain": [
       "(<function __main__.results(n)>, 'B')"
      ]
     },
     "execution_count": 135,
     "metadata": {},
     "output_type": "execute_result"
    }
   ],
   "source": [
    "results(69)"
   ]
  },
  {
   "cell_type": "code",
   "execution_count": 136,
   "id": "ee224b84",
   "metadata": {},
   "outputs": [
    {
     "data": {
      "text/plain": [
       "(<function __main__.results(n)>, 'C')"
      ]
     },
     "execution_count": 136,
     "metadata": {},
     "output_type": "execute_result"
    }
   ],
   "source": [
    "results(55)"
   ]
  },
  {
   "cell_type": "code",
   "execution_count": 137,
   "id": "9db82df2",
   "metadata": {},
   "outputs": [
    {
     "data": {
      "text/plain": [
       "(<function __main__.results(n)>, 'F')"
      ]
     },
     "execution_count": 137,
     "metadata": {},
     "output_type": "execute_result"
    }
   ],
   "source": [
    "results(35)"
   ]
  },
  {
   "cell_type": "code",
   "execution_count": 138,
   "id": "8f4c4fae",
   "metadata": {},
   "outputs": [
    {
     "data": {
      "text/plain": [
       "(<function __main__.results(n)>, 'A')"
      ]
     },
     "execution_count": 138,
     "metadata": {},
     "output_type": "execute_result"
    }
   ],
   "source": [
    "results(89)"
   ]
  },
  {
   "cell_type": "code",
   "execution_count": 139,
   "id": "b4229686",
   "metadata": {},
   "outputs": [
    {
     "name": "stdout",
     "output_type": "stream",
     "text": [
      "30\n"
     ]
    }
   ],
   "source": [
    "def ret_val():\n",
    "      global x\n",
    "      x=20\n",
    "      return x\n",
    "    \n",
    "\n",
    "\n",
    "x=30\n",
    "\n",
    "\n",
    "print(x)"
   ]
  },
  {
   "cell_type": "code",
   "execution_count": 142,
   "id": "0cdc23f1",
   "metadata": {},
   "outputs": [
    {
     "name": "stdout",
     "output_type": "stream",
     "text": [
      "-10\n"
     ]
    }
   ],
   "source": [
    "def ret_val():\n",
    "      global x\n",
    "      x=20+40\n",
    "      return x\n",
    "    \n",
    "\n",
    "\n",
    "x=30-40\n",
    "\n",
    "\n",
    "print(x)"
   ]
  },
  {
   "cell_type": "code",
   "execution_count": 143,
   "id": "c7b7e3b8",
   "metadata": {},
   "outputs": [
    {
     "data": {
      "text/plain": [
       "60"
      ]
     },
     "execution_count": 143,
     "metadata": {},
     "output_type": "execute_result"
    }
   ],
   "source": [
    "ret_val()"
   ]
  },
  {
   "cell_type": "code",
   "execution_count": 144,
   "id": "440b9d90",
   "metadata": {},
   "outputs": [
    {
     "name": "stdout",
     "output_type": "stream",
     "text": [
      "60\n"
     ]
    }
   ],
   "source": [
    "print(x)"
   ]
  },
  {
   "cell_type": "code",
   "execution_count": 145,
   "id": "e5e5e502",
   "metadata": {},
   "outputs": [
    {
     "data": {
      "text/plain": [
       "int"
      ]
     },
     "execution_count": 145,
     "metadata": {},
     "output_type": "execute_result"
    }
   ],
   "source": [
    "type(x)"
   ]
  },
  {
   "cell_type": "code",
   "execution_count": 146,
   "id": "7fb9c479",
   "metadata": {},
   "outputs": [
    {
     "data": {
      "text/plain": [
       "True"
      ]
     },
     "execution_count": 146,
     "metadata": {},
     "output_type": "execute_result"
    }
   ],
   "source": [
    "bool(x)"
   ]
  },
  {
   "cell_type": "code",
   "execution_count": 147,
   "id": "d4659416",
   "metadata": {},
   "outputs": [
    {
     "data": {
      "text/plain": [
       "False"
      ]
     },
     "execution_count": 147,
     "metadata": {},
     "output_type": "execute_result"
    }
   ],
   "source": [
    "bool(0)"
   ]
  },
  {
   "cell_type": "code",
   "execution_count": 149,
   "id": "f18dd445",
   "metadata": {},
   "outputs": [
    {
     "data": {
      "text/plain": [
       "True"
      ]
     },
     "execution_count": 149,
     "metadata": {},
     "output_type": "execute_result"
    }
   ],
   "source": [
    "bool(1)"
   ]
  },
  {
   "cell_type": "code",
   "execution_count": 152,
   "id": "a4be4207",
   "metadata": {},
   "outputs": [],
   "source": [
    "def fun(x):\n",
    "     return 2/x"
   ]
  },
  {
   "cell_type": "code",
   "execution_count": 153,
   "id": "b4a1447b",
   "metadata": {},
   "outputs": [],
   "source": [
    "L=[12,23,34,56,67]"
   ]
  },
  {
   "cell_type": "code",
   "execution_count": 154,
   "id": "91826ad6",
   "metadata": {},
   "outputs": [],
   "source": [
    "L1=[fun(L[0]),fun(L[1]),fun(L[2]),fun(L[3]),fun(L[4])]"
   ]
  },
  {
   "cell_type": "code",
   "execution_count": 155,
   "id": "c453c58d",
   "metadata": {},
   "outputs": [
    {
     "data": {
      "text/plain": [
       "[0.16666666666666666,\n",
       " 0.08695652173913043,\n",
       " 0.058823529411764705,\n",
       " 0.03571428571428571,\n",
       " 0.029850746268656716]"
      ]
     },
     "execution_count": 155,
     "metadata": {},
     "output_type": "execute_result"
    }
   ],
   "source": [
    "L1"
   ]
  },
  {
   "cell_type": "code",
   "execution_count": 156,
   "id": "368ef2cb",
   "metadata": {},
   "outputs": [
    {
     "data": {
      "text/plain": [
       "[0.16666666666666666,\n",
       " 0.08695652173913043,\n",
       " 0.058823529411764705,\n",
       " 0.03571428571428571,\n",
       " 0.029850746268656716]"
      ]
     },
     "execution_count": 156,
     "metadata": {},
     "output_type": "execute_result"
    }
   ],
   "source": [
    "L2=[fun(i) for i in L]\n",
    "L2"
   ]
  },
  {
   "cell_type": "code",
   "execution_count": 157,
   "id": "8c8de239",
   "metadata": {},
   "outputs": [
    {
     "data": {
      "text/plain": [
       "[0.16666666666666666,\n",
       " 0.08695652173913043,\n",
       " 0.058823529411764705,\n",
       " 0.03571428571428571,\n",
       " 0.029850746268656716]"
      ]
     },
     "execution_count": 157,
     "metadata": {},
     "output_type": "execute_result"
    }
   ],
   "source": [
    "L3=map(fun,L)\n",
    "list(L3)"
   ]
  },
  {
   "cell_type": "code",
   "execution_count": 158,
   "id": "320dcb1a",
   "metadata": {},
   "outputs": [],
   "source": [
    "marks=[23,54,65,68,75,79,85]"
   ]
  },
  {
   "cell_type": "code",
   "execution_count": 160,
   "id": "be6cef87",
   "metadata": {},
   "outputs": [],
   "source": [
    "def fun_result(j):\n",
    "    result = \"Pass\" if j>=50 else \"Fail\",\"A\" if j>=80 else \"B\" if j>=65 else \"C\" if j>=50 else \"F\""
   ]
  },
  {
   "cell_type": "code",
   "execution_count": 161,
   "id": "a962e285",
   "metadata": {},
   "outputs": [],
   "source": [
    "L_results=map(fun_result,marks)"
   ]
  },
  {
   "cell_type": "code",
   "execution_count": 167,
   "id": "6e7cbe1e",
   "metadata": {},
   "outputs": [
    {
     "data": {
      "text/plain": [
       "(list, [])"
      ]
     },
     "execution_count": 167,
     "metadata": {},
     "output_type": "execute_result"
    }
   ],
   "source": [
    "list,list(L_results)"
   ]
  }
 ],
 "metadata": {
  "kernelspec": {
   "display_name": "Python 3",
   "language": "python",
   "name": "python3"
  },
  "language_info": {
   "codemirror_mode": {
    "name": "ipython",
    "version": 3
   },
   "file_extension": ".py",
   "mimetype": "text/x-python",
   "name": "python",
   "nbconvert_exporter": "python",
   "pygments_lexer": "ipython3",
   "version": "3.8.8"
  }
 },
 "nbformat": 4,
 "nbformat_minor": 5
}
