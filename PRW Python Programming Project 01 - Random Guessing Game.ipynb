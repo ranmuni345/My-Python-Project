{
 "cells": [
  {
   "cell_type": "code",
   "execution_count": null,
   "metadata": {},
   "outputs": [],
   "source": [
    "import random\n",
    "rnum=random.randint(1,10)\n",
    "unum=int(input(\"Enter your number:\"))\n",
    "guess=[]\n",
    "\n",
    "if unum>=1 and unum<=10:\n",
    "    guess.append(unum)\n",
    "    while unum != rnum:\n",
    "        if unum<rnum:\n",
    "            print(\"Please try higher value\")\n",
    "        else:\n",
    "            print(\"Please try lower value\")\n",
    "        \n",
    "        unum=int(input(\"Enter your number:\"))\n",
    "        guess.append(unum)\n",
    "        \n",
    "    else:\n",
    "        if len(guess)<=5:\n",
    "            print(\"You have won!!!\")\n",
    "        else:\n",
    "            print(f\"You have lost. You have tried {len(guess)} Try again\")\n",
    "else:\n",
    "    print(\"Restart the game and try with number within 1 to 10\")"
   ]
  },
  {
   "cell_type": "code",
   "execution_count": null,
   "metadata": {},
   "outputs": [],
   "source": [
    "import random\n",
    "\n",
    "def RandomGuessing(start_val,end_val):\n",
    "    \n",
    "    rnum=random.randint(start_val,end_val)\n",
    "    unum=int(input(\"Enter your number:\"))\n",
    "    guess=[]\n",
    "\n",
    "    if unum>=start_val and unum<=end_val:\n",
    "        guess.append(unum)\n",
    "        while unum != rnum:\n",
    "            if unum<rnum:\n",
    "                print(\"Please try higher value\")\n",
    "            else:\n",
    "                print(\"Please try lower value\")\n",
    "\n",
    "            unum=int(input(\"Enter your number:\"))\n",
    "            guess.append(unum)\n",
    "\n",
    "        else:\n",
    "            if len(guess)<=5:\n",
    "                print(\"You have won!!!\")\n",
    "            else:\n",
    "                print(f\"You have lost. You have tried {len(guess)} Try again\")\n",
    "    else:\n",
    "        print(\"Restart the game and try with number within {} to {}\".format(start_val,end_val))"
   ]
  },
  {
   "cell_type": "code",
   "execution_count": null,
   "metadata": {},
   "outputs": [],
   "source": [
    "RandomGuessing(10,20)"
   ]
  }
 ],
 "metadata": {
  "kernelspec": {
   "display_name": "Python 3",
   "language": "python",
   "name": "python3"
  },
  "language_info": {
   "codemirror_mode": {
    "name": "ipython",
    "version": 3
   },
   "file_extension": ".py",
   "mimetype": "text/x-python",
   "name": "python",
   "nbconvert_exporter": "python",
   "pygments_lexer": "ipython3",
   "version": "3.8.3"
  }
 },
 "nbformat": 4,
 "nbformat_minor": 4
}
