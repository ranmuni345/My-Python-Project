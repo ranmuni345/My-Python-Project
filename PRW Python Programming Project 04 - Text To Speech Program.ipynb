{
 "cells": [
  {
   "cell_type": "markdown",
   "metadata": {},
   "source": [
    "This is how a new library, should be installed to Anaconda"
   ]
  },
  {
   "cell_type": "code",
   "execution_count": null,
   "metadata": {},
   "outputs": [],
   "source": [
    "# import pip\n",
    "# pip.main([\"install\",\"pyttsx3\"])"
   ]
  },
  {
   "cell_type": "code",
   "execution_count": null,
   "metadata": {},
   "outputs": [],
   "source": [
    "import pyttsx3"
   ]
  },
  {
   "cell_type": "markdown",
   "metadata": {},
   "source": [
    "# Basic text To Speech Program"
   ]
  },
  {
   "cell_type": "code",
   "execution_count": null,
   "metadata": {},
   "outputs": [],
   "source": [
    "eng=pyttsx3.init()\n",
    "eng.setProperty(\"rate\",110)\n",
    "eng.say(\"Hello!! How about your day\")\n",
    "eng.runAndWait()"
   ]
  },
  {
   "cell_type": "markdown",
   "metadata": {},
   "source": [
    "# Changing Voices"
   ]
  },
  {
   "cell_type": "code",
   "execution_count": null,
   "metadata": {},
   "outputs": [],
   "source": [
    "eng=pyttsx3.init()\n",
    "voice1=eng.getProperty('voices')[0].id\n",
    "voice2=eng.getProperty('voices')[1].id\n",
    "eng.setProperty(\"rate\",125)\n",
    "eng.setProperty(\"voice\",voice2)\n",
    "eng.say(\"Hello!! How about your day\")\n",
    "eng.runAndWait()"
   ]
  },
  {
   "cell_type": "markdown",
   "metadata": {},
   "source": [
    "# A Simple Program"
   ]
  },
  {
   "cell_type": "code",
   "execution_count": null,
   "metadata": {},
   "outputs": [],
   "source": [
    "eng.say(\"What is your name\")\n",
    "eng.runAndWait()\n",
    "name=input(\"Name:\")\n",
    "\n",
    "eng.say(\"What is your age\")\n",
    "eng.runAndWait()\n",
    "age=input(\"Age:\")\n",
    "\n",
    "eng.say(\"What is your gender\")\n",
    "eng.runAndWait()\n",
    "gender=input(\"Gender (Male/Female):\")\n",
    "sex=\"he\" if gender.lower()==\"male\" else \"she\" if gender.lower()==\"female\" else \"this person\"\n",
    "\n",
    "eng.say(\"What is your hometown\")\n",
    "eng.runAndWait()\n",
    "hometown=input(\"Hometown:\")\n",
    "\n",
    "\n",
    "\n",
    "eng.say(\"{} is {} years old, and currently {} is living in {}\".format(name,age,sex,hometown))\n",
    "eng.runAndWait()"
   ]
  },
  {
   "cell_type": "markdown",
   "metadata": {},
   "source": [
    "# Applying for the Random Guessing Game"
   ]
  },
  {
   "cell_type": "code",
   "execution_count": null,
   "metadata": {},
   "outputs": [],
   "source": [
    "import pyttsx3\n",
    "import random\n",
    "\n",
    "def RandomGuessing(start_val,end_val):\n",
    "    \n",
    "    eng.say(\"Welcome to the Random Guessing Game. What is your name?\")\n",
    "    eng.runAndWait()\n",
    "    \n",
    "    player=input(\"Enter your name:\")\n",
    "    \n",
    "    rnum=random.randint(start_val,end_val)\n",
    "    \n",
    "    eng.say(\"Hello {}. Guess a number from {} to {}.\".format(player,start_val,end_val))\n",
    "    eng.runAndWait()\n",
    "    \n",
    "    unum=int(input(\"Enter your number:\"))\n",
    "    guess=[]\n",
    "\n",
    "    if unum>=start_val and unum<=end_val:\n",
    "        guess.append(unum)\n",
    "        while unum != rnum:\n",
    "            if unum<rnum:\n",
    "                eng.say(\"Please try higher value\")\n",
    "                eng.runAndWait()\n",
    "            else:\n",
    "                eng.say(\"Please try lower value\")\n",
    "                eng.runAndWait()\n",
    "\n",
    "            unum=int(input(\"Enter your number:\"))\n",
    "            guess.append(unum)\n",
    "\n",
    "        else:\n",
    "            if len(guess)<=5:\n",
    "                eng.say(\"{}, you have won the game. Congratulations.\".format(player))\n",
    "                eng.runAndWait()\n",
    "            else:\n",
    "                eng.say(\"{}, unfortunately you have lost. You have tried {} times. Try again\".format(player,len(guess)))\n",
    "                eng.runAndWait()\n",
    "    else:\n",
    "        eng.say(\"{}, Restart the game and try with a number, within {} to {}.\".format(player,start_val,end_val))\n",
    "        eng.runAndWait()"
   ]
  },
  {
   "cell_type": "code",
   "execution_count": null,
   "metadata": {},
   "outputs": [],
   "source": [
    "RandomGuessing(1,10)"
   ]
  }
 ],
 "metadata": {
  "kernelspec": {
   "display_name": "Python 3",
   "language": "python",
   "name": "python3"
  },
  "language_info": {
   "codemirror_mode": {
    "name": "ipython",
    "version": 3
   },
   "file_extension": ".py",
   "mimetype": "text/x-python",
   "name": "python",
   "nbconvert_exporter": "python",
   "pygments_lexer": "ipython3",
   "version": "3.8.3"
  }
 },
 "nbformat": 4,
 "nbformat_minor": 4
}
