{
 "cells": [
  {
   "cell_type": "code",
   "execution_count": 8,
   "id": "0d236db9",
   "metadata": {},
   "outputs": [],
   "source": [
    "def fun(a,b):\n",
    "    if (len(a)>=1 and len(b)>=1) and ((a[0]==b[0])or(a[-1]==b[-1])):\n",
    "     return True\n",
    "    else:\n",
    "     return False    "
   ]
  },
  {
   "cell_type": "code",
   "execution_count": 9,
   "id": "15db8ffd",
   "metadata": {},
   "outputs": [],
   "source": [
    "def fun(a,b):\n",
    "      return (len(a)>=1 and len(b)>=1) and ((a[0]==b[0])or(a[-1]==b[-1]))"
   ]
  },
  {
   "cell_type": "code",
   "execution_count": 10,
   "id": "38d7c349",
   "metadata": {},
   "outputs": [
    {
     "data": {
      "text/plain": [
       "False"
      ]
     },
     "execution_count": 10,
     "metadata": {},
     "output_type": "execute_result"
    }
   ],
   "source": [
    "fun([5,3,4,1,5],[2,3,7])"
   ]
  },
  {
   "cell_type": "code",
   "execution_count": 11,
   "id": "a3a40126",
   "metadata": {},
   "outputs": [
    {
     "data": {
      "text/plain": [
       "False"
      ]
     },
     "execution_count": 11,
     "metadata": {},
     "output_type": "execute_result"
    }
   ],
   "source": [
    "fun([9/8,-8,2,4,8.56],[-1,7/9,5.67])"
   ]
  },
  {
   "cell_type": "code",
   "execution_count": 12,
   "id": "f15d03ec",
   "metadata": {},
   "outputs": [],
   "source": [
    "def fun(a,b):\n",
    "    if (len(a)>=1 or len(b)>=1) or ((a[0]==b[0])or(a[-1]==b[-1])):\n",
    "     return True\n",
    "    else:\n",
    "     return False  "
   ]
  },
  {
   "cell_type": "code",
   "execution_count": 13,
   "id": "8d7850bd",
   "metadata": {},
   "outputs": [],
   "source": [
    "def fun(a,b):\n",
    "      return (len(a)>=1 or len(b)>=1) or ((a[0]==b[0])or(a[-1]==b[-1]))"
   ]
  },
  {
   "cell_type": "code",
   "execution_count": 14,
   "id": "c1136756",
   "metadata": {},
   "outputs": [
    {
     "data": {
      "text/plain": [
       "True"
      ]
     },
     "execution_count": 14,
     "metadata": {},
     "output_type": "execute_result"
    }
   ],
   "source": [
    "fun([9/8,-8,2,4,8.56],[-1,7/9,5.67])"
   ]
  },
  {
   "cell_type": "code",
   "execution_count": 15,
   "id": "166008e8",
   "metadata": {},
   "outputs": [
    {
     "data": {
      "text/plain": [
       "True"
      ]
     },
     "execution_count": 15,
     "metadata": {},
     "output_type": "execute_result"
    }
   ],
   "source": [
    "fun([5,3,4,1,5],[2,3,7])"
   ]
  },
  {
   "cell_type": "code",
   "execution_count": 16,
   "id": "b541a449",
   "metadata": {},
   "outputs": [],
   "source": [
    "def fun(L):\n",
    "     newL=[L[0] if L[0]>L[-1] else L[-1] for i in L]\n",
    "     return newL"
   ]
  },
  {
   "cell_type": "code",
   "execution_count": 17,
   "id": "8e8f3d74",
   "metadata": {},
   "outputs": [],
   "source": [
    "def fun1(L):\n",
    "    newL=[]\n",
    "    for i in L:\n",
    "         if L[0]>L[-1]:\n",
    "                newL.append(L[0])\n",
    "         else:\n",
    "                newL.append(L[-1])\n",
    "                \n",
    "    return newL"
   ]
  },
  {
   "cell_type": "code",
   "execution_count": 18,
   "id": "daf3667d",
   "metadata": {},
   "outputs": [],
   "source": [
    "def fun2(L):\n",
    "     if L[0]>L[-1]:\n",
    "            return [L[0]]*len(L)\n",
    "     else:\n",
    "            return [L[-1]]*len(L)"
   ]
  },
  {
   "cell_type": "code",
   "execution_count": 19,
   "id": "67801162",
   "metadata": {},
   "outputs": [
    {
     "data": {
      "text/plain": [
       "[2, 2, 2, 2]"
      ]
     },
     "execution_count": 19,
     "metadata": {},
     "output_type": "execute_result"
    }
   ],
   "source": [
    "fun([2,-1,-9.87,-8/9])"
   ]
  },
  {
   "cell_type": "code",
   "execution_count": 20,
   "id": "3dbf552b",
   "metadata": {},
   "outputs": [
    {
     "data": {
      "text/plain": [
       "[9, 9, 9, 9, 9, 9]"
      ]
     },
     "execution_count": 20,
     "metadata": {},
     "output_type": "execute_result"
    }
   ],
   "source": [
    "fun1([2,4,8,5,4,9])"
   ]
  },
  {
   "cell_type": "code",
   "execution_count": 21,
   "id": "ec07a27d",
   "metadata": {},
   "outputs": [
    {
     "data": {
      "text/plain": [
       "[1.125, 1.125, 1.125, 1.125, 1.125, 1.125, 1.125]"
      ]
     },
     "execution_count": 21,
     "metadata": {},
     "output_type": "execute_result"
    }
   ],
   "source": [
    "fun2([-2,9,4,5,6,5,9/8])"
   ]
  },
  {
   "cell_type": "code",
   "execution_count": 22,
   "id": "f553d2e4",
   "metadata": {},
   "outputs": [],
   "source": [
    "def fun(L):\n",
    "     count=0\n",
    "     for i in L:\n",
    "          if i%2==0:\n",
    "                count+=1\n",
    "     return count"
   ]
  },
  {
   "cell_type": "code",
   "execution_count": 25,
   "id": "2e1262c5",
   "metadata": {},
   "outputs": [],
   "source": [
    "def fun1(L):\n",
    "     newL=[i for i in L if isinstance(i,int) and i%2==0]\n",
    "     return len(newL)"
   ]
  },
  {
   "cell_type": "code",
   "execution_count": 26,
   "id": "50f91ce1",
   "metadata": {},
   "outputs": [
    {
     "data": {
      "text/plain": [
       "4"
      ]
     },
     "execution_count": 26,
     "metadata": {},
     "output_type": "execute_result"
    }
   ],
   "source": [
    "fun([2,3,4,5,4,6,9])"
   ]
  },
  {
   "cell_type": "code",
   "execution_count": 27,
   "id": "7cec4e1f",
   "metadata": {},
   "outputs": [
    {
     "data": {
      "text/plain": [
       "0"
      ]
     },
     "execution_count": 27,
     "metadata": {},
     "output_type": "execute_result"
    }
   ],
   "source": [
    "fun1([13,-13,9/8,9.85])"
   ]
  },
  {
   "cell_type": "code",
   "execution_count": 28,
   "id": "1243840a",
   "metadata": {},
   "outputs": [
    {
     "data": {
      "text/plain": [
       "2"
      ]
     },
     "execution_count": 28,
     "metadata": {},
     "output_type": "execute_result"
    }
   ],
   "source": [
    "fun1([14,24,-13,9/8,9.85])"
   ]
  },
  {
   "cell_type": "code",
   "execution_count": 29,
   "id": "aba2bc56",
   "metadata": {},
   "outputs": [],
   "source": [
    " def fun(L):\n",
    "        if len(L)>=3:\n",
    "            L.remove(min(L))\n",
    "            L.remove(max(L))\n",
    "            \n",
    "            return sum(L)/len(L)"
   ]
  },
  {
   "cell_type": "code",
   "execution_count": 32,
   "id": "09cc4710",
   "metadata": {},
   "outputs": [],
   "source": [
    "fun([5,-9/8])"
   ]
  },
  {
   "cell_type": "code",
   "execution_count": 33,
   "id": "844d3f02",
   "metadata": {},
   "outputs": [
    {
     "data": {
      "text/plain": [
       "-10"
      ]
     },
     "execution_count": 33,
     "metadata": {},
     "output_type": "execute_result"
    }
   ],
   "source": [
    "L=[2,5,4,6,5,-10]\n",
    "min(L)"
   ]
  },
  {
   "cell_type": "code",
   "execution_count": 34,
   "id": "65586016",
   "metadata": {},
   "outputs": [
    {
     "data": {
      "text/plain": [
       "5"
      ]
     },
     "execution_count": 34,
     "metadata": {},
     "output_type": "execute_result"
    }
   ],
   "source": [
    "L=[1,-3,5,5,4,4,-1,-3]\n",
    "min(L)\n",
    "max(L)"
   ]
  },
  {
   "cell_type": "code",
   "execution_count": 35,
   "id": "55c305d8",
   "metadata": {},
   "outputs": [
    {
     "data": {
      "text/plain": [
       "-3"
      ]
     },
     "execution_count": 35,
     "metadata": {},
     "output_type": "execute_result"
    }
   ],
   "source": [
    "L=[1,-3,5,5,4,4,-1,-3]\n",
    "min(L)"
   ]
  },
  {
   "cell_type": "code",
   "execution_count": 36,
   "id": "19cdfd71",
   "metadata": {},
   "outputs": [],
   "source": [
    "def fun(L):\n",
    "    for i in range(len(L)-1):\n",
    "        \n",
    "        if L[i]==L[i+1]:\n",
    "            return True"
   ]
  },
  {
   "cell_type": "code",
   "execution_count": 37,
   "id": "5b0ee54c",
   "metadata": {},
   "outputs": [
    {
     "data": {
      "text/plain": [
       "True"
      ]
     },
     "execution_count": 37,
     "metadata": {},
     "output_type": "execute_result"
    }
   ],
   "source": [
    "fun([2,4,3,5,5,6,7,8,-9,-9/8])"
   ]
  },
  {
   "cell_type": "code",
   "execution_count": 38,
   "id": "5783b96b",
   "metadata": {},
   "outputs": [
    {
     "data": {
      "text/plain": [
       "True"
      ]
     },
     "execution_count": 38,
     "metadata": {},
     "output_type": "execute_result"
    }
   ],
   "source": [
    "fun([2,-5,9/8,6,6,7,7,9/4])"
   ]
  },
  {
   "cell_type": "code",
   "execution_count": 39,
   "id": "3679d680",
   "metadata": {},
   "outputs": [
    {
     "data": {
      "text/plain": [
       "True"
      ]
     },
     "execution_count": 39,
     "metadata": {},
     "output_type": "execute_result"
    }
   ],
   "source": [
    "fun([2,-5,9/8,6,6,7,7,9/4,9.876])"
   ]
  },
  {
   "cell_type": "code",
   "execution_count": 40,
   "id": "9e4b53ea",
   "metadata": {},
   "outputs": [],
   "source": [
    "def fun_time_converter(x):\n",
    "    days,drem=x//86400,x%86400\n",
    "    hours,hrem=drem//3600,drem%3600\n",
    "    minutes,seconds=hrem//60,hrem%60\n",
    "    \n",
    "    return \"{} Days : {} Hours : {} Minutes : {} Seconds\".format(days,hours,minutes,seconds)"
   ]
  },
  {
   "cell_type": "code",
   "execution_count": 41,
   "id": "a15d9ee6",
   "metadata": {},
   "outputs": [
    {
     "data": {
      "text/plain": [
       "'37565 Days : 17 Hours : 28 Minutes : 44 Seconds'"
      ]
     },
     "execution_count": 41,
     "metadata": {},
     "output_type": "execute_result"
    }
   ],
   "source": [
    "fun_time_converter(3245678924)"
   ]
  },
  {
   "cell_type": "code",
   "execution_count": 42,
   "id": "251273b4",
   "metadata": {},
   "outputs": [
    {
     "data": {
      "text/plain": [
       "'0 Days : 0 Hours : 6 Minutes : 5 Seconds'"
      ]
     },
     "execution_count": 42,
     "metadata": {},
     "output_type": "execute_result"
    }
   ],
   "source": [
    "fun_time_converter(365)"
   ]
  },
  {
   "cell_type": "code",
   "execution_count": 43,
   "id": "9e1f7864",
   "metadata": {},
   "outputs": [
    {
     "data": {
      "text/plain": [
       "'0 Days : 0 Hours : 0 Minutes : 24 Seconds'"
      ]
     },
     "execution_count": 43,
     "metadata": {},
     "output_type": "execute_result"
    }
   ],
   "source": [
    "fun_time_converter(24)"
   ]
  },
  {
   "cell_type": "code",
   "execution_count": 45,
   "id": "dd9def62",
   "metadata": {},
   "outputs": [
    {
     "name": "stdout",
     "output_type": "stream",
     "text": [
      "Enter your message:Computer\n"
     ]
    },
    {
     "data": {
      "text/plain": [
       "'pomputer'"
      ]
     },
     "execution_count": 45,
     "metadata": {},
     "output_type": "execute_result"
    }
   ],
   "source": [
    "Lt={\"a\":\"e\",\"b\":\"g\",\"c\":\"p\",\"d\":\"r\",\"k\":\"i\"}\n",
    "\n",
    "msg=input(\"Enter your message:\").lower()\n",
    "\n",
    "encp=\"\"\n",
    "\n",
    "for i in msg:\n",
    "    if i in msg:\n",
    "       if i in Lt:\n",
    "           encp=encp+Lt[i]\n",
    "       else:\n",
    "           encp=encp+i\n",
    "encp"
   ]
  },
  {
   "cell_type": "code",
   "execution_count": 46,
   "id": "a6f81eb0",
   "metadata": {},
   "outputs": [
    {
     "data": {
      "text/plain": [
       "dict_keys(['A', 'B', 'C'])"
      ]
     },
     "execution_count": 46,
     "metadata": {},
     "output_type": "execute_result"
    }
   ],
   "source": [
    "d={\"A\":\"a\",\"B\":\"b\",\"C\":\"c\"}\n",
    "\n",
    "d.items()\n",
    "d.values()\n",
    "d.keys()"
   ]
  },
  {
   "cell_type": "code",
   "execution_count": 47,
   "id": "7a4858a9",
   "metadata": {},
   "outputs": [
    {
     "data": {
      "text/plain": [
       "dict_items([('A', 'a'), ('B', 'b'), ('C', 'c')])"
      ]
     },
     "execution_count": 47,
     "metadata": {},
     "output_type": "execute_result"
    }
   ],
   "source": [
    "d={\"A\":\"a\",\"B\":\"b\",\"C\":\"c\"}\n",
    "\n",
    "d.items()"
   ]
  },
  {
   "cell_type": "code",
   "execution_count": 48,
   "id": "ba2df425",
   "metadata": {},
   "outputs": [
    {
     "data": {
      "text/plain": [
       "dict_values(['a', 'b', 'c'])"
      ]
     },
     "execution_count": 48,
     "metadata": {},
     "output_type": "execute_result"
    }
   ],
   "source": [
    "d={\"A\":\"a\",\"B\":\"b\",\"C\":\"c\"}\n",
    "\n",
    "d.values()"
   ]
  },
  {
   "cell_type": "code",
   "execution_count": 49,
   "id": "83e7371a",
   "metadata": {},
   "outputs": [
    {
     "data": {
      "text/plain": [
       "{'a': 'A', 'b': 'B', 'c': 'C'}"
      ]
     },
     "execution_count": 49,
     "metadata": {},
     "output_type": "execute_result"
    }
   ],
   "source": [
    "d={\"A\":\"a\",\"B\":\"b\",\"C\":\"c\"}\n",
    "\n",
    "dict([(value,key) for key,value in d.items()])"
   ]
  },
  {
   "cell_type": "code",
   "execution_count": 51,
   "id": "c682d08c",
   "metadata": {},
   "outputs": [
    {
     "data": {
      "text/plain": [
       "'abcdk'"
      ]
     },
     "execution_count": 51,
     "metadata": {},
     "output_type": "execute_result"
    }
   ],
   "source": [
    "Lt={\"a\":\"e\",\"b\":\"g\",\"c\":\"p\",\"d\":\"r\",\"k\":\"i\"}\n",
    "\n",
    "RLt=dict([(value,key) for key,value in Lt.items()])\n",
    "\n",
    "dmsg=\"\"\n",
    "\n",
    "for i in RLt:\n",
    "    if i in RLt:\n",
    "       if i in RLt:\n",
    "           dmsg=dmsg+RLt[i]\n",
    "       else:\n",
    "           dmsg=dmsg+i\n",
    "dmsg"
   ]
  },
  {
   "cell_type": "code",
   "execution_count": 52,
   "id": "db413aa9",
   "metadata": {},
   "outputs": [],
   "source": [
    "def pattern2(num):\n",
    "      for i in range(num,0,-1):\n",
    "          for j in range(0,i):\n",
    "              print(\"*\",end=\" \")\n",
    "          print()"
   ]
  },
  {
   "cell_type": "code",
   "execution_count": 53,
   "id": "7c7480df",
   "metadata": {},
   "outputs": [
    {
     "name": "stdout",
     "output_type": "stream",
     "text": [
      "* * * * * \n",
      "* * * * \n",
      "* * * \n",
      "* * \n",
      "* \n"
     ]
    }
   ],
   "source": [
    "pattern2(5)"
   ]
  },
  {
   "cell_type": "code",
   "execution_count": null,
   "id": "3dd9d6a0",
   "metadata": {},
   "outputs": [],
   "source": []
  }
 ],
 "metadata": {
  "kernelspec": {
   "display_name": "Python 3",
   "language": "python",
   "name": "python3"
  },
  "language_info": {
   "codemirror_mode": {
    "name": "ipython",
    "version": 3
   },
   "file_extension": ".py",
   "mimetype": "text/x-python",
   "name": "python",
   "nbconvert_exporter": "python",
   "pygments_lexer": "ipython3",
   "version": "3.8.8"
  }
 },
 "nbformat": 4,
 "nbformat_minor": 5
}
