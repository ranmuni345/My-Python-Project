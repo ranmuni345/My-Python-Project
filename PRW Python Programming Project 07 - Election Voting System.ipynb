{
 "cells": [
  {
   "cell_type": "code",
   "execution_count": null,
   "metadata": {},
   "outputs": [],
   "source": [
    "import pandas as pd\n",
    "\n",
    "def voting_system():\n",
    "\n",
    "    candidates={\"kane\":[0],\"jane\":[0],\"sam\":[0]}\n",
    "    unacceptable=0\n",
    "    voters=[1001,1002,1003,1004,1005,1006,1007,1008,1009,1010]\n",
    "\n",
    "    for i in voters:\n",
    "        vote=input(\"Vote for :\").lower()\n",
    "\n",
    "        if vote in candidates:\n",
    "            candidates[vote][0]+=1\n",
    "        else:\n",
    "            unacceptable+=1\n",
    "            \n",
    "    voting_results=pd.DataFrame(candidates,index=[\"Votes\"])\n",
    "    voting_results[\"unacceptable\"]=unacceptable\n",
    "\n",
    "    return voting_results"
   ]
  },
  {
   "cell_type": "code",
   "execution_count": null,
   "metadata": {},
   "outputs": [],
   "source": [
    "voting_system()"
   ]
  }
 ],
 "metadata": {
  "kernelspec": {
   "display_name": "Python 3",
   "language": "python",
   "name": "python3"
  },
  "language_info": {
   "codemirror_mode": {
    "name": "ipython",
    "version": 3
   },
   "file_extension": ".py",
   "mimetype": "text/x-python",
   "name": "python",
   "nbconvert_exporter": "python",
   "pygments_lexer": "ipython3",
   "version": "3.8.3"
  }
 },
 "nbformat": 4,
 "nbformat_minor": 4
}
