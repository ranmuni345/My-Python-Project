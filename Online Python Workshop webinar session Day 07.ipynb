{
 "cells": [
  {
   "cell_type": "code",
   "execution_count": 1,
   "id": "d3470f60",
   "metadata": {},
   "outputs": [],
   "source": [
    "def fun_add(x,y):\n",
    "    return x+y"
   ]
  },
  {
   "cell_type": "code",
   "execution_count": 7,
   "id": "230e5dea",
   "metadata": {},
   "outputs": [],
   "source": [
    "def fun_cal(a,b,c):\n",
    "    return fun_add(a,b)*c"
   ]
  },
  {
   "cell_type": "code",
   "execution_count": 9,
   "id": "5a7d8a6e",
   "metadata": {},
   "outputs": [
    {
     "data": {
      "text/plain": [
       "-103.92"
      ]
     },
     "execution_count": 9,
     "metadata": {},
     "output_type": "execute_result"
    }
   ],
   "source": [
    "fun_cal(12,13.98,-4)"
   ]
  },
  {
   "cell_type": "code",
   "execution_count": 10,
   "id": "5bd687a4",
   "metadata": {},
   "outputs": [
    {
     "data": {
      "text/plain": [
       "73.33333333333333"
      ]
     },
     "execution_count": 10,
     "metadata": {},
     "output_type": "execute_result"
    }
   ],
   "source": [
    "fun_cal(12,43,4/3)"
   ]
  },
  {
   "cell_type": "code",
   "execution_count": 11,
   "id": "40c14227",
   "metadata": {},
   "outputs": [
    {
     "data": {
      "text/plain": [
       "12.0"
      ]
     },
     "execution_count": 11,
     "metadata": {},
     "output_type": "execute_result"
    }
   ],
   "source": [
    "(lambda a,b,c:(lambda x,y:x+y)(a,b)*c)(12,-3,4/3)"
   ]
  },
  {
   "cell_type": "code",
   "execution_count": 12,
   "id": "e90227d7",
   "metadata": {},
   "outputs": [
    {
     "data": {
      "text/plain": [
       "10.813333333333333"
      ]
     },
     "execution_count": 12,
     "metadata": {},
     "output_type": "execute_result"
    }
   ],
   "source": [
    "(lambda a,b,c:(lambda x,y:x+y)(a,b)*c)(12,-3.89,4/3)"
   ]
  },
  {
   "cell_type": "code",
   "execution_count": 13,
   "id": "f2462239",
   "metadata": {},
   "outputs": [],
   "source": [
    "fun=lambda x,y:x+y"
   ]
  },
  {
   "cell_type": "code",
   "execution_count": 14,
   "id": "8465d3b0",
   "metadata": {},
   "outputs": [
    {
     "data": {
      "text/plain": [
       "3.8099999999999996"
      ]
     },
     "execution_count": 14,
     "metadata": {},
     "output_type": "execute_result"
    }
   ],
   "source": [
    "(lambda x,y:x+y)(-3/4,4.56)"
   ]
  },
  {
   "cell_type": "code",
   "execution_count": 26,
   "id": "692930b1",
   "metadata": {},
   "outputs": [
    {
     "data": {
      "text/plain": [
       "38.312"
      ]
     },
     "execution_count": 26,
     "metadata": {},
     "output_type": "execute_result"
    }
   ],
   "source": [
    "(lambda a,b,c:(lambda x,y:x+y)(a,b)*c)(12,-4,4.789)"
   ]
  },
  {
   "cell_type": "code",
   "execution_count": 29,
   "id": "3de95609",
   "metadata": {},
   "outputs": [
    {
     "data": {
      "text/plain": [
       "38.312"
      ]
     },
     "execution_count": 29,
     "metadata": {},
     "output_type": "execute_result"
    }
   ],
   "source": [
    "(lambda x,y,z:(lambda x,y:x+y)(x,y)*z)(12,-4,4.789)"
   ]
  },
  {
   "cell_type": "code",
   "execution_count": 41,
   "id": "377ef3d4",
   "metadata": {},
   "outputs": [],
   "source": [
    "def factorial(x):\n",
    "     if x>=0:\n",
    "        if x==0 or x==1:\n",
    "            return 1\n",
    "        else:\n",
    "            return x*factorial(x-1)\n",
    "     else:\n",
    "        print(\"Enter a non negative value!!!\")"
   ]
  },
  {
   "cell_type": "code",
   "execution_count": 42,
   "id": "3123038d",
   "metadata": {},
   "outputs": [
    {
     "data": {
      "text/plain": [
       "120"
      ]
     },
     "execution_count": 42,
     "metadata": {},
     "output_type": "execute_result"
    }
   ],
   "source": [
    "factorial(5)"
   ]
  },
  {
   "cell_type": "code",
   "execution_count": 43,
   "id": "eecc3ca7",
   "metadata": {},
   "outputs": [
    {
     "name": "stdout",
     "output_type": "stream",
     "text": [
      "Enter a non negative value!!!\n"
     ]
    }
   ],
   "source": [
    "factorial(-18)"
   ]
  },
  {
   "cell_type": "code",
   "execution_count": 44,
   "id": "42ce366c",
   "metadata": {},
   "outputs": [
    {
     "name": "stdout",
     "output_type": "stream",
     "text": [
      "Enter a non negative value!!!\n"
     ]
    },
    {
     "ename": "TypeError",
     "evalue": "unsupported operand type(s) for *: 'float' and 'NoneType'",
     "output_type": "error",
     "traceback": [
      "\u001b[1;31m---------------------------------------------------------------------------\u001b[0m",
      "\u001b[1;31mTypeError\u001b[0m                                 Traceback (most recent call last)",
      "\u001b[1;32m<ipython-input-44-45a32e9a7c9f>\u001b[0m in \u001b[0;36m<module>\u001b[1;34m\u001b[0m\n\u001b[1;32m----> 1\u001b[1;33m \u001b[0mfactorial\u001b[0m\u001b[1;33m(\u001b[0m\u001b[1;36m7\u001b[0m\u001b[1;33m/\u001b[0m\u001b[1;36m9\u001b[0m\u001b[1;33m)\u001b[0m\u001b[1;33m\u001b[0m\u001b[1;33m\u001b[0m\u001b[0m\n\u001b[0m",
      "\u001b[1;32m<ipython-input-41-f8f0fc26ea49>\u001b[0m in \u001b[0;36mfactorial\u001b[1;34m(x)\u001b[0m\n\u001b[0;32m      4\u001b[0m             \u001b[1;32mreturn\u001b[0m \u001b[1;36m1\u001b[0m\u001b[1;33m\u001b[0m\u001b[1;33m\u001b[0m\u001b[0m\n\u001b[0;32m      5\u001b[0m         \u001b[1;32melse\u001b[0m\u001b[1;33m:\u001b[0m\u001b[1;33m\u001b[0m\u001b[1;33m\u001b[0m\u001b[0m\n\u001b[1;32m----> 6\u001b[1;33m             \u001b[1;32mreturn\u001b[0m \u001b[0mx\u001b[0m\u001b[1;33m*\u001b[0m\u001b[0mfactorial\u001b[0m\u001b[1;33m(\u001b[0m\u001b[0mx\u001b[0m\u001b[1;33m-\u001b[0m\u001b[1;36m1\u001b[0m\u001b[1;33m)\u001b[0m\u001b[1;33m\u001b[0m\u001b[1;33m\u001b[0m\u001b[0m\n\u001b[0m\u001b[0;32m      7\u001b[0m      \u001b[1;32melse\u001b[0m\u001b[1;33m:\u001b[0m\u001b[1;33m\u001b[0m\u001b[1;33m\u001b[0m\u001b[0m\n\u001b[0;32m      8\u001b[0m         \u001b[0mprint\u001b[0m\u001b[1;33m(\u001b[0m\u001b[1;34m\"Enter a non negative value!!!\"\u001b[0m\u001b[1;33m)\u001b[0m\u001b[1;33m\u001b[0m\u001b[1;33m\u001b[0m\u001b[0m\n",
      "\u001b[1;31mTypeError\u001b[0m: unsupported operand type(s) for *: 'float' and 'NoneType'"
     ]
    }
   ],
   "source": [
    "factorial(7/9)"
   ]
  },
  {
   "cell_type": "code",
   "execution_count": 45,
   "id": "0bae73c7",
   "metadata": {},
   "outputs": [],
   "source": [
    "def factorial(x):\n",
    "     if x>=0:\n",
    "        if x==0 or x==1:\n",
    "            return 1\n",
    "        else:\n",
    "            return x*factorial(x+1)\n",
    "     else:\n",
    "        print(\"Enter a non negative value!!!\")"
   ]
  },
  {
   "cell_type": "code",
   "execution_count": 46,
   "id": "ee986b62",
   "metadata": {},
   "outputs": [
    {
     "ename": "RecursionError",
     "evalue": "maximum recursion depth exceeded in comparison",
     "output_type": "error",
     "traceback": [
      "\u001b[1;31m---------------------------------------------------------------------------\u001b[0m",
      "\u001b[1;31mRecursionError\u001b[0m                            Traceback (most recent call last)",
      "\u001b[1;32m<ipython-input-46-cce4cfb62883>\u001b[0m in \u001b[0;36m<module>\u001b[1;34m\u001b[0m\n\u001b[1;32m----> 1\u001b[1;33m \u001b[0mfactorial\u001b[0m\u001b[1;33m(\u001b[0m\u001b[1;36m14\u001b[0m\u001b[1;33m)\u001b[0m\u001b[1;33m\u001b[0m\u001b[1;33m\u001b[0m\u001b[0m\n\u001b[0m",
      "\u001b[1;32m<ipython-input-45-dc1e488bac82>\u001b[0m in \u001b[0;36mfactorial\u001b[1;34m(x)\u001b[0m\n\u001b[0;32m      4\u001b[0m             \u001b[1;32mreturn\u001b[0m \u001b[1;36m1\u001b[0m\u001b[1;33m\u001b[0m\u001b[1;33m\u001b[0m\u001b[0m\n\u001b[0;32m      5\u001b[0m         \u001b[1;32melse\u001b[0m\u001b[1;33m:\u001b[0m\u001b[1;33m\u001b[0m\u001b[1;33m\u001b[0m\u001b[0m\n\u001b[1;32m----> 6\u001b[1;33m             \u001b[1;32mreturn\u001b[0m \u001b[0mx\u001b[0m\u001b[1;33m*\u001b[0m\u001b[0mfactorial\u001b[0m\u001b[1;33m(\u001b[0m\u001b[0mx\u001b[0m\u001b[1;33m+\u001b[0m\u001b[1;36m1\u001b[0m\u001b[1;33m)\u001b[0m\u001b[1;33m\u001b[0m\u001b[1;33m\u001b[0m\u001b[0m\n\u001b[0m\u001b[0;32m      7\u001b[0m      \u001b[1;32melse\u001b[0m\u001b[1;33m:\u001b[0m\u001b[1;33m\u001b[0m\u001b[1;33m\u001b[0m\u001b[0m\n\u001b[0;32m      8\u001b[0m         \u001b[0mprint\u001b[0m\u001b[1;33m(\u001b[0m\u001b[1;34m\"Enter a non negative value!!!\"\u001b[0m\u001b[1;33m)\u001b[0m\u001b[1;33m\u001b[0m\u001b[1;33m\u001b[0m\u001b[0m\n",
      "... last 1 frames repeated, from the frame below ...\n",
      "\u001b[1;32m<ipython-input-45-dc1e488bac82>\u001b[0m in \u001b[0;36mfactorial\u001b[1;34m(x)\u001b[0m\n\u001b[0;32m      4\u001b[0m             \u001b[1;32mreturn\u001b[0m \u001b[1;36m1\u001b[0m\u001b[1;33m\u001b[0m\u001b[1;33m\u001b[0m\u001b[0m\n\u001b[0;32m      5\u001b[0m         \u001b[1;32melse\u001b[0m\u001b[1;33m:\u001b[0m\u001b[1;33m\u001b[0m\u001b[1;33m\u001b[0m\u001b[0m\n\u001b[1;32m----> 6\u001b[1;33m             \u001b[1;32mreturn\u001b[0m \u001b[0mx\u001b[0m\u001b[1;33m*\u001b[0m\u001b[0mfactorial\u001b[0m\u001b[1;33m(\u001b[0m\u001b[0mx\u001b[0m\u001b[1;33m+\u001b[0m\u001b[1;36m1\u001b[0m\u001b[1;33m)\u001b[0m\u001b[1;33m\u001b[0m\u001b[1;33m\u001b[0m\u001b[0m\n\u001b[0m\u001b[0;32m      7\u001b[0m      \u001b[1;32melse\u001b[0m\u001b[1;33m:\u001b[0m\u001b[1;33m\u001b[0m\u001b[1;33m\u001b[0m\u001b[0m\n\u001b[0;32m      8\u001b[0m         \u001b[0mprint\u001b[0m\u001b[1;33m(\u001b[0m\u001b[1;34m\"Enter a non negative value!!!\"\u001b[0m\u001b[1;33m)\u001b[0m\u001b[1;33m\u001b[0m\u001b[1;33m\u001b[0m\u001b[0m\n",
      "\u001b[1;31mRecursionError\u001b[0m: maximum recursion depth exceeded in comparison"
     ]
    }
   ],
   "source": [
    "factorial(14)"
   ]
  },
  {
   "cell_type": "code",
   "execution_count": 47,
   "id": "5b7f0677",
   "metadata": {},
   "outputs": [],
   "source": [
    "def fun_add(x):\n",
    "    if x>=1 and isinstance(x,int):\n",
    "        if x==1:\n",
    "            return 1\n",
    "        else:\n",
    "            return x+fun_add(x-1)\n",
    "    else:\n",
    "         print(\"Enter a non negative Integer value!!!\")"
   ]
  },
  {
   "cell_type": "code",
   "execution_count": 48,
   "id": "75defda9",
   "metadata": {},
   "outputs": [
    {
     "data": {
      "text/plain": [
       "55"
      ]
     },
     "execution_count": 48,
     "metadata": {},
     "output_type": "execute_result"
    }
   ],
   "source": [
    "fun_add(10)"
   ]
  },
  {
   "cell_type": "code",
   "execution_count": 49,
   "id": "b66bdad5",
   "metadata": {},
   "outputs": [],
   "source": [
    "def fun_add(x):\n",
    "    if x>=1 and isinstance(x,int):\n",
    "        if x==1:\n",
    "            return 1\n",
    "        else:\n",
    "            return x-fun_add(x-1)\n",
    "    else:\n",
    "         print(\"Enter a non negative Integer value!!!\")"
   ]
  },
  {
   "cell_type": "code",
   "execution_count": 50,
   "id": "2d257167",
   "metadata": {},
   "outputs": [
    {
     "data": {
      "text/plain": [
       "8"
      ]
     },
     "execution_count": 50,
     "metadata": {},
     "output_type": "execute_result"
    }
   ],
   "source": [
    "fun_add(15)"
   ]
  },
  {
   "cell_type": "code",
   "execution_count": 51,
   "id": "42720ea6",
   "metadata": {},
   "outputs": [
    {
     "data": {
      "text/plain": [
       "6"
      ]
     },
     "execution_count": 51,
     "metadata": {},
     "output_type": "execute_result"
    }
   ],
   "source": [
    "fun_add(12)"
   ]
  },
  {
   "cell_type": "code",
   "execution_count": 52,
   "id": "9305b8a9",
   "metadata": {},
   "outputs": [
    {
     "name": "stdout",
     "output_type": "stream",
     "text": [
      "Enter a non negative Integer value!!!\n"
     ]
    }
   ],
   "source": [
    "fun_add(-11)"
   ]
  },
  {
   "cell_type": "code",
   "execution_count": 53,
   "id": "ec06a69b",
   "metadata": {},
   "outputs": [
    {
     "name": "stdout",
     "output_type": "stream",
     "text": [
      "Enter a non negative Integer value!!!\n"
     ]
    }
   ],
   "source": [
    "fun_add(3/4)"
   ]
  },
  {
   "cell_type": "code",
   "execution_count": 54,
   "id": "8802d653",
   "metadata": {},
   "outputs": [
    {
     "name": "stdout",
     "output_type": "stream",
     "text": [
      "Enter a non negative Integer value!!!\n"
     ]
    }
   ],
   "source": [
    "fun_add(-3/4)"
   ]
  },
  {
   "cell_type": "code",
   "execution_count": 55,
   "id": "3591613c",
   "metadata": {},
   "outputs": [],
   "source": [
    "def fun(a):\n",
    "    if n<15:\n",
    "        print(n)\n",
    "    else:\n",
    "        print(n)\n",
    "        fun(a/15)"
   ]
  },
  {
   "cell_type": "code",
   "execution_count": 56,
   "id": "0b1e64ae",
   "metadata": {},
   "outputs": [
    {
     "ename": "NameError",
     "evalue": "name 'n' is not defined",
     "output_type": "error",
     "traceback": [
      "\u001b[1;31m---------------------------------------------------------------------------\u001b[0m",
      "\u001b[1;31mNameError\u001b[0m                                 Traceback (most recent call last)",
      "\u001b[1;32m<ipython-input-56-299e0e269dcf>\u001b[0m in \u001b[0;36m<module>\u001b[1;34m\u001b[0m\n\u001b[1;32m----> 1\u001b[1;33m \u001b[0mfun\u001b[0m\u001b[1;33m(\u001b[0m\u001b[1;36m10000\u001b[0m\u001b[1;33m)\u001b[0m\u001b[1;33m\u001b[0m\u001b[1;33m\u001b[0m\u001b[0m\n\u001b[0m",
      "\u001b[1;32m<ipython-input-55-d6ec035a17b7>\u001b[0m in \u001b[0;36mfun\u001b[1;34m(a)\u001b[0m\n\u001b[0;32m      1\u001b[0m \u001b[1;32mdef\u001b[0m \u001b[0mfun\u001b[0m\u001b[1;33m(\u001b[0m\u001b[0ma\u001b[0m\u001b[1;33m)\u001b[0m\u001b[1;33m:\u001b[0m\u001b[1;33m\u001b[0m\u001b[1;33m\u001b[0m\u001b[0m\n\u001b[1;32m----> 2\u001b[1;33m     \u001b[1;32mif\u001b[0m \u001b[0mn\u001b[0m\u001b[1;33m<\u001b[0m\u001b[1;36m15\u001b[0m\u001b[1;33m:\u001b[0m\u001b[1;33m\u001b[0m\u001b[1;33m\u001b[0m\u001b[0m\n\u001b[0m\u001b[0;32m      3\u001b[0m         \u001b[0mprint\u001b[0m\u001b[1;33m(\u001b[0m\u001b[0mn\u001b[0m\u001b[1;33m)\u001b[0m\u001b[1;33m\u001b[0m\u001b[1;33m\u001b[0m\u001b[0m\n\u001b[0;32m      4\u001b[0m     \u001b[1;32melse\u001b[0m\u001b[1;33m:\u001b[0m\u001b[1;33m\u001b[0m\u001b[1;33m\u001b[0m\u001b[0m\n\u001b[0;32m      5\u001b[0m         \u001b[0mprint\u001b[0m\u001b[1;33m(\u001b[0m\u001b[0mn\u001b[0m\u001b[1;33m)\u001b[0m\u001b[1;33m\u001b[0m\u001b[1;33m\u001b[0m\u001b[0m\n",
      "\u001b[1;31mNameError\u001b[0m: name 'n' is not defined"
     ]
    }
   ],
   "source": [
    "fun(10000)"
   ]
  },
  {
   "cell_type": "code",
   "execution_count": 59,
   "id": "1fb6c92f",
   "metadata": {},
   "outputs": [],
   "source": [
    "def fun(a):\n",
    "    if a<15:\n",
    "        print(a)\n",
    "    else:\n",
    "        print(a)\n",
    "        fun(a/15)"
   ]
  },
  {
   "cell_type": "code",
   "execution_count": 60,
   "id": "704374fc",
   "metadata": {},
   "outputs": [
    {
     "name": "stdout",
     "output_type": "stream",
     "text": [
      "10000\n",
      "666.6666666666666\n",
      "44.44444444444444\n",
      "2.962962962962963\n"
     ]
    }
   ],
   "source": [
    "fun(10000)"
   ]
  },
  {
   "cell_type": "code",
   "execution_count": 61,
   "id": "450e0e55",
   "metadata": {},
   "outputs": [],
   "source": [
    "def fun(a):\n",
    "    if a<15:\n",
    "        print(a)\n",
    "    else:\n",
    "        print(a)\n",
    "        fun(a/15)\n",
    "        print(a)"
   ]
  },
  {
   "cell_type": "code",
   "execution_count": 62,
   "id": "607a1c1f",
   "metadata": {},
   "outputs": [
    {
     "name": "stdout",
     "output_type": "stream",
     "text": [
      "10000\n",
      "666.6666666666666\n",
      "44.44444444444444\n",
      "2.962962962962963\n",
      "44.44444444444444\n",
      "666.6666666666666\n",
      "10000\n"
     ]
    }
   ],
   "source": [
    "fun(10000)"
   ]
  },
  {
   "cell_type": "code",
   "execution_count": 63,
   "id": "032023c9",
   "metadata": {},
   "outputs": [],
   "source": [
    "def fun(n):\n",
    "    return 2*n"
   ]
  },
  {
   "cell_type": "code",
   "execution_count": 64,
   "id": "e88f849c",
   "metadata": {},
   "outputs": [
    {
     "data": {
      "text/plain": [
       "20"
      ]
     },
     "execution_count": 64,
     "metadata": {},
     "output_type": "execute_result"
    }
   ],
   "source": [
    "fun(10)"
   ]
  },
  {
   "cell_type": "code",
   "execution_count": 65,
   "id": "7dbc2ccc",
   "metadata": {},
   "outputs": [],
   "source": [
    "def fun(*n):\n",
    "    return 2*n"
   ]
  },
  {
   "cell_type": "code",
   "execution_count": 66,
   "id": "425810d9",
   "metadata": {},
   "outputs": [
    {
     "data": {
      "text/plain": [
       "(2, 2)"
      ]
     },
     "execution_count": 66,
     "metadata": {},
     "output_type": "execute_result"
    }
   ],
   "source": [
    "fun(2)"
   ]
  },
  {
   "cell_type": "code",
   "execution_count": 67,
   "id": "3c56415c",
   "metadata": {},
   "outputs": [
    {
     "data": {
      "text/plain": [
       "(2, 4, 2, 4)"
      ]
     },
     "execution_count": 67,
     "metadata": {},
     "output_type": "execute_result"
    }
   ],
   "source": [
    "fun(2,4)"
   ]
  },
  {
   "cell_type": "code",
   "execution_count": 70,
   "id": "e9ec54f3",
   "metadata": {},
   "outputs": [],
   "source": [
    "def fun(*n):\n",
    "    return n"
   ]
  },
  {
   "cell_type": "code",
   "execution_count": 71,
   "id": "f6f95f51",
   "metadata": {},
   "outputs": [
    {
     "data": {
      "text/plain": [
       "(2, 4, 5, 6)"
      ]
     },
     "execution_count": 71,
     "metadata": {},
     "output_type": "execute_result"
    }
   ],
   "source": [
    "fun(2,4,5,6)"
   ]
  },
  {
   "cell_type": "code",
   "execution_count": 72,
   "id": "ff30afcb",
   "metadata": {},
   "outputs": [],
   "source": [
    "def fun(*n):\n",
    "    return n"
   ]
  },
  {
   "cell_type": "code",
   "execution_count": 73,
   "id": "4cbd5ba8",
   "metadata": {},
   "outputs": [],
   "source": [
    "T=fun(1,34,45,23)"
   ]
  },
  {
   "cell_type": "code",
   "execution_count": 74,
   "id": "daaacdeb",
   "metadata": {},
   "outputs": [
    {
     "data": {
      "text/plain": [
       "(1, 34, 45, 23)"
      ]
     },
     "execution_count": 74,
     "metadata": {},
     "output_type": "execute_result"
    }
   ],
   "source": [
    "T"
   ]
  },
  {
   "cell_type": "code",
   "execution_count": 75,
   "id": "2c97fda2",
   "metadata": {},
   "outputs": [],
   "source": [
    "def result(*mark):\n",
    "     return mark"
   ]
  },
  {
   "cell_type": "code",
   "execution_count": 76,
   "id": "499cbb5c",
   "metadata": {},
   "outputs": [
    {
     "data": {
      "text/plain": [
       "(13, 34, 56)"
      ]
     },
     "execution_count": 76,
     "metadata": {},
     "output_type": "execute_result"
    }
   ],
   "source": [
    "result(13,34,56)"
   ]
  },
  {
   "cell_type": "code",
   "execution_count": 77,
   "id": "4e0933c5",
   "metadata": {},
   "outputs": [],
   "source": [
    "def result(*mark):\n",
    "    return[\"Pass\" if m>=50 else \"Fail\" for m in mark]"
   ]
  },
  {
   "cell_type": "code",
   "execution_count": 79,
   "id": "7b741af8",
   "metadata": {},
   "outputs": [
    {
     "data": {
      "text/plain": [
       "['Fail', 'Fail', 'Pass', 'Pass', 'Pass', 'Pass', 'Pass', 'Pass']"
      ]
     },
     "execution_count": 79,
     "metadata": {},
     "output_type": "execute_result"
    }
   ],
   "source": [
    "result(25,34,56,67,68,75,85,95)"
   ]
  },
  {
   "cell_type": "code",
   "execution_count": 80,
   "id": "2a4312aa",
   "metadata": {},
   "outputs": [
    {
     "data": {
      "text/plain": [
       "int"
      ]
     },
     "execution_count": 80,
     "metadata": {},
     "output_type": "execute_result"
    }
   ],
   "source": [
    "type(25)"
   ]
  },
  {
   "cell_type": "code",
   "execution_count": 81,
   "id": "d2843f93",
   "metadata": {},
   "outputs": [
    {
     "data": {
      "text/plain": [
       "function"
      ]
     },
     "execution_count": 81,
     "metadata": {},
     "output_type": "execute_result"
    }
   ],
   "source": [
    "type(result)"
   ]
  },
  {
   "cell_type": "code",
   "execution_count": 83,
   "id": "be4dd690",
   "metadata": {},
   "outputs": [],
   "source": [
    "def fun(**n):\n",
    "    return n"
   ]
  },
  {
   "cell_type": "code",
   "execution_count": 84,
   "id": "4f074e9d",
   "metadata": {},
   "outputs": [
    {
     "data": {
      "text/plain": [
       "{'a': 34, 'b': 67, 'c': -67, 'd': 1.3333333333333333}"
      ]
     },
     "execution_count": 84,
     "metadata": {},
     "output_type": "execute_result"
    }
   ],
   "source": [
    "fun(a=34,b=67,c=-67,d=4/3)"
   ]
  },
  {
   "cell_type": "code",
   "execution_count": 85,
   "id": "f478f427",
   "metadata": {},
   "outputs": [
    {
     "data": {
      "text/plain": [
       "function"
      ]
     },
     "execution_count": 85,
     "metadata": {},
     "output_type": "execute_result"
    }
   ],
   "source": [
    "type(fun)"
   ]
  },
  {
   "cell_type": "code",
   "execution_count": 86,
   "id": "bbed85e7",
   "metadata": {},
   "outputs": [],
   "source": [
    "e=fun(a=34,b=67,c=-67,d=4/3)"
   ]
  },
  {
   "cell_type": "code",
   "execution_count": 87,
   "id": "c52d9fac",
   "metadata": {},
   "outputs": [
    {
     "data": {
      "text/plain": [
       "dict_items([('a', 34), ('b', 67), ('c', -67), ('d', 1.3333333333333333)])"
      ]
     },
     "execution_count": 87,
     "metadata": {},
     "output_type": "execute_result"
    }
   ],
   "source": [
    "e.items()"
   ]
  },
  {
   "cell_type": "code",
   "execution_count": 89,
   "id": "a4fa292d",
   "metadata": {},
   "outputs": [
    {
     "data": {
      "text/plain": [
       "dict_values([34, 67, -67, 1.3333333333333333])"
      ]
     },
     "execution_count": 89,
     "metadata": {},
     "output_type": "execute_result"
    }
   ],
   "source": [
    "e.values()"
   ]
  },
  {
   "cell_type": "code",
   "execution_count": 92,
   "id": "ea113b39",
   "metadata": {},
   "outputs": [
    {
     "data": {
      "text/plain": [
       "dict_keys(['a', 'b', 'c', 'd'])"
      ]
     },
     "execution_count": 92,
     "metadata": {},
     "output_type": "execute_result"
    }
   ],
   "source": [
    "e.keys()"
   ]
  },
  {
   "cell_type": "code",
   "execution_count": 93,
   "id": "aaa7fbd8",
   "metadata": {},
   "outputs": [
    {
     "ename": "AttributeError",
     "evalue": "'dict' object has no attribute 'extend'",
     "output_type": "error",
     "traceback": [
      "\u001b[1;31m---------------------------------------------------------------------------\u001b[0m",
      "\u001b[1;31mAttributeError\u001b[0m                            Traceback (most recent call last)",
      "\u001b[1;32m<ipython-input-93-c49d9c7e9e05>\u001b[0m in \u001b[0;36m<module>\u001b[1;34m\u001b[0m\n\u001b[1;32m----> 1\u001b[1;33m \u001b[0me\u001b[0m\u001b[1;33m.\u001b[0m\u001b[0mextend\u001b[0m\u001b[1;33m(\u001b[0m\u001b[1;33m)\u001b[0m\u001b[1;33m\u001b[0m\u001b[1;33m\u001b[0m\u001b[0m\n\u001b[0m",
      "\u001b[1;31mAttributeError\u001b[0m: 'dict' object has no attribute 'extend'"
     ]
    }
   ],
   "source": [
    "e.extend()"
   ]
  },
  {
   "cell_type": "code",
   "execution_count": 94,
   "id": "975351a7",
   "metadata": {},
   "outputs": [
    {
     "ename": "TypeError",
     "evalue": "pop expected at least 1 argument, got 0",
     "output_type": "error",
     "traceback": [
      "\u001b[1;31m---------------------------------------------------------------------------\u001b[0m",
      "\u001b[1;31mTypeError\u001b[0m                                 Traceback (most recent call last)",
      "\u001b[1;32m<ipython-input-94-989a81765e0d>\u001b[0m in \u001b[0;36m<module>\u001b[1;34m\u001b[0m\n\u001b[1;32m----> 1\u001b[1;33m \u001b[0me\u001b[0m\u001b[1;33m.\u001b[0m\u001b[0mpop\u001b[0m\u001b[1;33m(\u001b[0m\u001b[1;33m)\u001b[0m\u001b[1;33m\u001b[0m\u001b[1;33m\u001b[0m\u001b[0m\n\u001b[0m",
      "\u001b[1;31mTypeError\u001b[0m: pop expected at least 1 argument, got 0"
     ]
    }
   ],
   "source": [
    "e.pop()"
   ]
  },
  {
   "cell_type": "code",
   "execution_count": 95,
   "id": "d10367f8",
   "metadata": {},
   "outputs": [],
   "source": [
    "a=\"Boy\"\n",
    "r=\"Cat\"\n",
    "s=\"Cat is catching the mouse\""
   ]
  },
  {
   "cell_type": "code",
   "execution_count": 96,
   "id": "91d3e21e",
   "metadata": {},
   "outputs": [
    {
     "data": {
      "text/plain": [
       "str"
      ]
     },
     "execution_count": 96,
     "metadata": {},
     "output_type": "execute_result"
    }
   ],
   "source": [
    "type(a)"
   ]
  },
  {
   "cell_type": "code",
   "execution_count": 98,
   "id": "261169c4",
   "metadata": {},
   "outputs": [
    {
     "data": {
      "text/plain": [
       "str"
      ]
     },
     "execution_count": 98,
     "metadata": {},
     "output_type": "execute_result"
    }
   ],
   "source": [
    "type(r)"
   ]
  },
  {
   "cell_type": "code",
   "execution_count": 99,
   "id": "d9d44347",
   "metadata": {},
   "outputs": [
    {
     "data": {
      "text/plain": [
       "str"
      ]
     },
     "execution_count": 99,
     "metadata": {},
     "output_type": "execute_result"
    }
   ],
   "source": [
    "type(s)"
   ]
  },
  {
   "cell_type": "code",
   "execution_count": 100,
   "id": "39a737b0",
   "metadata": {},
   "outputs": [],
   "source": [
    "x=\"Kane is a nice boy\""
   ]
  },
  {
   "cell_type": "code",
   "execution_count": 101,
   "id": "765374fe",
   "metadata": {},
   "outputs": [
    {
     "data": {
      "text/plain": [
       "18"
      ]
     },
     "execution_count": 101,
     "metadata": {},
     "output_type": "execute_result"
    }
   ],
   "source": [
    "len(x)"
   ]
  },
  {
   "cell_type": "code",
   "execution_count": 102,
   "id": "48aa4ca9",
   "metadata": {},
   "outputs": [
    {
     "data": {
      "text/plain": [
       "2"
      ]
     },
     "execution_count": 102,
     "metadata": {},
     "output_type": "execute_result"
    }
   ],
   "source": [
    "len(\"  \")"
   ]
  },
  {
   "cell_type": "code",
   "execution_count": 103,
   "id": "59f5758f",
   "metadata": {},
   "outputs": [
    {
     "data": {
      "text/plain": [
       "1"
      ]
     },
     "execution_count": 103,
     "metadata": {},
     "output_type": "execute_result"
    }
   ],
   "source": [
    "len(\" \")"
   ]
  },
  {
   "cell_type": "code",
   "execution_count": 104,
   "id": "e561f4cc",
   "metadata": {},
   "outputs": [
    {
     "data": {
      "text/plain": [
       "str"
      ]
     },
     "execution_count": 104,
     "metadata": {},
     "output_type": "execute_result"
    }
   ],
   "source": [
    "type(\" \")"
   ]
  },
  {
   "cell_type": "code",
   "execution_count": 105,
   "id": "bc0c611b",
   "metadata": {},
   "outputs": [
    {
     "name": "stdout",
     "output_type": "stream",
     "text": [
      " \n"
     ]
    }
   ],
   "source": [
    "print(\" \")"
   ]
  },
  {
   "cell_type": "code",
   "execution_count": 106,
   "id": "b97d171d",
   "metadata": {},
   "outputs": [
    {
     "name": "stdout",
     "output_type": "stream",
     "text": [
      "K\n"
     ]
    }
   ],
   "source": [
    "print(\"K\")"
   ]
  },
  {
   "cell_type": "code",
   "execution_count": 107,
   "id": "1e4ff497",
   "metadata": {},
   "outputs": [
    {
     "ename": "AttributeError",
     "evalue": "'str' object has no attribute 'pop'",
     "output_type": "error",
     "traceback": [
      "\u001b[1;31m---------------------------------------------------------------------------\u001b[0m",
      "\u001b[1;31mAttributeError\u001b[0m                            Traceback (most recent call last)",
      "\u001b[1;32m<ipython-input-107-22e0729a7b70>\u001b[0m in \u001b[0;36m<module>\u001b[1;34m\u001b[0m\n\u001b[1;32m----> 1\u001b[1;33m \u001b[0mx\u001b[0m\u001b[1;33m.\u001b[0m\u001b[0mpop\u001b[0m\u001b[1;33m(\u001b[0m\u001b[1;33m)\u001b[0m\u001b[1;33m\u001b[0m\u001b[1;33m\u001b[0m\u001b[0m\n\u001b[0m",
      "\u001b[1;31mAttributeError\u001b[0m: 'str' object has no attribute 'pop'"
     ]
    }
   ],
   "source": [
    "x.pop()"
   ]
  },
  {
   "cell_type": "code",
   "execution_count": 108,
   "id": "b1ede3af",
   "metadata": {},
   "outputs": [
    {
     "ename": "AttributeError",
     "evalue": "'str' object has no attribute 'append'",
     "output_type": "error",
     "traceback": [
      "\u001b[1;31m---------------------------------------------------------------------------\u001b[0m",
      "\u001b[1;31mAttributeError\u001b[0m                            Traceback (most recent call last)",
      "\u001b[1;32m<ipython-input-108-e10906a455ed>\u001b[0m in \u001b[0;36m<module>\u001b[1;34m\u001b[0m\n\u001b[1;32m----> 1\u001b[1;33m \u001b[0mx\u001b[0m\u001b[1;33m.\u001b[0m\u001b[0mappend\u001b[0m\u001b[1;33m(\u001b[0m\u001b[1;33m)\u001b[0m\u001b[1;33m\u001b[0m\u001b[1;33m\u001b[0m\u001b[0m\n\u001b[0m",
      "\u001b[1;31mAttributeError\u001b[0m: 'str' object has no attribute 'append'"
     ]
    }
   ],
   "source": [
    "x.append()"
   ]
  },
  {
   "cell_type": "code",
   "execution_count": 109,
   "id": "12aba57e",
   "metadata": {},
   "outputs": [
    {
     "ename": "AttributeError",
     "evalue": "'str' object has no attribute 'add'",
     "output_type": "error",
     "traceback": [
      "\u001b[1;31m---------------------------------------------------------------------------\u001b[0m",
      "\u001b[1;31mAttributeError\u001b[0m                            Traceback (most recent call last)",
      "\u001b[1;32m<ipython-input-109-a52e8c41c7d1>\u001b[0m in \u001b[0;36m<module>\u001b[1;34m\u001b[0m\n\u001b[1;32m----> 1\u001b[1;33m \u001b[0mx\u001b[0m\u001b[1;33m.\u001b[0m\u001b[0madd\u001b[0m\u001b[1;33m(\u001b[0m\u001b[1;33m)\u001b[0m\u001b[1;33m\u001b[0m\u001b[1;33m\u001b[0m\u001b[0m\n\u001b[0m",
      "\u001b[1;31mAttributeError\u001b[0m: 'str' object has no attribute 'add'"
     ]
    }
   ],
   "source": [
    "x.add()"
   ]
  },
  {
   "cell_type": "code",
   "execution_count": 124,
   "id": "2ffa0848",
   "metadata": {},
   "outputs": [],
   "source": [
    "x=\"Kane is a nice boy\" \n",
    "y=\"Sam is a good boy\""
   ]
  },
  {
   "cell_type": "code",
   "execution_count": 118,
   "id": "d9b4e886",
   "metadata": {},
   "outputs": [
    {
     "name": "stdout",
     "output_type": "stream",
     "text": [
      "Today is a beautiful day\n"
     ]
    }
   ],
   "source": [
    "print(\"Today is a \"+\"beautiful day\")"
   ]
  },
  {
   "cell_type": "code",
   "execution_count": 119,
   "id": "d531d4a4",
   "metadata": {},
   "outputs": [
    {
     "name": "stdout",
     "output_type": "stream",
     "text": [
      "Today is a  beautiful day\n"
     ]
    }
   ],
   "source": [
    "print(\"Today is a \",\"beautiful day\")"
   ]
  },
  {
   "cell_type": "code",
   "execution_count": 126,
   "id": "4ccec595",
   "metadata": {},
   "outputs": [
    {
     "data": {
      "text/plain": [
       "'Kane is a nice boySam is a good boy'"
      ]
     },
     "execution_count": 126,
     "metadata": {},
     "output_type": "execute_result"
    }
   ],
   "source": [
    "x+y"
   ]
  },
  {
   "cell_type": "code",
   "execution_count": 127,
   "id": "85a1bcd7",
   "metadata": {},
   "outputs": [],
   "source": [
    "m=x+y"
   ]
  },
  {
   "cell_type": "code",
   "execution_count": 128,
   "id": "9bc2f390",
   "metadata": {},
   "outputs": [
    {
     "data": {
      "text/plain": [
       "'Kane is a nice boySam is a good boy'"
      ]
     },
     "execution_count": 128,
     "metadata": {},
     "output_type": "execute_result"
    }
   ],
   "source": [
    "m"
   ]
  },
  {
   "cell_type": "code",
   "execution_count": 129,
   "id": "454f4293",
   "metadata": {},
   "outputs": [
    {
     "data": {
      "text/plain": [
       "'Kane is a nice boyKane is a nice boyKane is a nice boy'"
      ]
     },
     "execution_count": 129,
     "metadata": {},
     "output_type": "execute_result"
    }
   ],
   "source": [
    "x*3"
   ]
  },
  {
   "cell_type": "code",
   "execution_count": 130,
   "id": "bebd5051",
   "metadata": {},
   "outputs": [
    {
     "ename": "TypeError",
     "evalue": "can only concatenate str (not \"int\") to str",
     "output_type": "error",
     "traceback": [
      "\u001b[1;31m---------------------------------------------------------------------------\u001b[0m",
      "\u001b[1;31mTypeError\u001b[0m                                 Traceback (most recent call last)",
      "\u001b[1;32m<ipython-input-130-abe093c6df9c>\u001b[0m in \u001b[0;36m<module>\u001b[1;34m\u001b[0m\n\u001b[1;32m----> 1\u001b[1;33m \u001b[0mx\u001b[0m\u001b[1;33m+\u001b[0m\u001b[1;36m3\u001b[0m\u001b[1;33m\u001b[0m\u001b[1;33m\u001b[0m\u001b[0m\n\u001b[0m",
      "\u001b[1;31mTypeError\u001b[0m: can only concatenate str (not \"int\") to str"
     ]
    }
   ],
   "source": [
    "x+3"
   ]
  },
  {
   "cell_type": "code",
   "execution_count": 132,
   "id": "d964bef9",
   "metadata": {},
   "outputs": [
    {
     "data": {
      "text/plain": [
       "'Sam is a good boySam is a good boySam is a good boy'"
      ]
     },
     "execution_count": 132,
     "metadata": {},
     "output_type": "execute_result"
    }
   ],
   "source": [
    "y*3"
   ]
  },
  {
   "cell_type": "code",
   "execution_count": 133,
   "id": "e0e0e954",
   "metadata": {},
   "outputs": [],
   "source": [
    "n=\"Today is a sunny day\""
   ]
  },
  {
   "cell_type": "code",
   "execution_count": 134,
   "id": "53f586d9",
   "metadata": {},
   "outputs": [
    {
     "data": {
      "text/plain": [
       "'Kane is a nice boySam is a good boy'"
      ]
     },
     "execution_count": 134,
     "metadata": {},
     "output_type": "execute_result"
    }
   ],
   "source": [
    "m"
   ]
  },
  {
   "cell_type": "code",
   "execution_count": 135,
   "id": "f6145c53",
   "metadata": {},
   "outputs": [
    {
     "data": {
      "text/plain": [
       "'K'"
      ]
     },
     "execution_count": 135,
     "metadata": {},
     "output_type": "execute_result"
    }
   ],
   "source": [
    "m[0]"
   ]
  },
  {
   "cell_type": "code",
   "execution_count": 136,
   "id": "23279183",
   "metadata": {},
   "outputs": [
    {
     "data": {
      "text/plain": [
       "'s'"
      ]
     },
     "execution_count": 136,
     "metadata": {},
     "output_type": "execute_result"
    }
   ],
   "source": [
    "m[6]"
   ]
  },
  {
   "cell_type": "code",
   "execution_count": 137,
   "id": "f7a88dd8",
   "metadata": {},
   "outputs": [
    {
     "data": {
      "text/plain": [
       "'i'"
      ]
     },
     "execution_count": 137,
     "metadata": {},
     "output_type": "execute_result"
    }
   ],
   "source": [
    "m[5]"
   ]
  },
  {
   "cell_type": "code",
   "execution_count": 138,
   "id": "8dc5aed9",
   "metadata": {},
   "outputs": [
    {
     "data": {
      "text/plain": [
       "'Ka'"
      ]
     },
     "execution_count": 138,
     "metadata": {},
     "output_type": "execute_result"
    }
   ],
   "source": [
    "m[:2]"
   ]
  },
  {
   "cell_type": "code",
   "execution_count": 139,
   "id": "5dfb6a7d",
   "metadata": {},
   "outputs": [
    {
     "data": {
      "text/plain": [
       "'an'"
      ]
     },
     "execution_count": 139,
     "metadata": {},
     "output_type": "execute_result"
    }
   ],
   "source": [
    "m[1:3]"
   ]
  },
  {
   "cell_type": "code",
   "execution_count": 140,
   "id": "cd632145",
   "metadata": {},
   "outputs": [
    {
     "data": {
      "text/plain": [
       "'y'"
      ]
     },
     "execution_count": 140,
     "metadata": {},
     "output_type": "execute_result"
    }
   ],
   "source": [
    "m[-1]"
   ]
  },
  {
   "cell_type": "code",
   "execution_count": 141,
   "id": "ca29f904",
   "metadata": {},
   "outputs": [
    {
     "data": {
      "text/plain": [
       "' '"
      ]
     },
     "execution_count": 141,
     "metadata": {},
     "output_type": "execute_result"
    }
   ],
   "source": [
    "m[-4]"
   ]
  },
  {
   "cell_type": "code",
   "execution_count": 142,
   "id": "13c8998f",
   "metadata": {},
   "outputs": [
    {
     "data": {
      "text/plain": [
       "'s'"
      ]
     },
     "execution_count": 142,
     "metadata": {},
     "output_type": "execute_result"
    }
   ],
   "source": [
    "m[6]"
   ]
  },
  {
   "cell_type": "code",
   "execution_count": 144,
   "id": "c0d0e1d7",
   "metadata": {},
   "outputs": [
    {
     "data": {
      "text/plain": [
       "True"
      ]
     },
     "execution_count": 144,
     "metadata": {},
     "output_type": "execute_result"
    }
   ],
   "source": [
    "  not \"t\" in n"
   ]
  },
  {
   "cell_type": "code",
   "execution_count": 145,
   "id": "5d7b382d",
   "metadata": {},
   "outputs": [],
   "source": [
    "s=\"Dog\"\n",
    "k=\"-67\"\n",
    "f=\"5/6\""
   ]
  },
  {
   "cell_type": "code",
   "execution_count": 146,
   "id": "4dba5e39",
   "metadata": {},
   "outputs": [
    {
     "data": {
      "text/plain": [
       "'5/6'"
      ]
     },
     "execution_count": 146,
     "metadata": {},
     "output_type": "execute_result"
    }
   ],
   "source": [
    "str(f)"
   ]
  },
  {
   "cell_type": "code",
   "execution_count": 147,
   "id": "407162d1",
   "metadata": {},
   "outputs": [
    {
     "data": {
      "text/plain": [
       "-67"
      ]
     },
     "execution_count": 147,
     "metadata": {},
     "output_type": "execute_result"
    }
   ],
   "source": [
    "int(k)"
   ]
  },
  {
   "cell_type": "code",
   "execution_count": 148,
   "id": "8201f112",
   "metadata": {},
   "outputs": [],
   "source": [
    "v=\"8.976\""
   ]
  },
  {
   "cell_type": "code",
   "execution_count": 149,
   "id": "9e6be07b",
   "metadata": {},
   "outputs": [
    {
     "data": {
      "text/plain": [
       "8.976"
      ]
     },
     "execution_count": 149,
     "metadata": {},
     "output_type": "execute_result"
    }
   ],
   "source": [
    "float(v)"
   ]
  },
  {
   "cell_type": "code",
   "execution_count": 150,
   "id": "caf91d14",
   "metadata": {},
   "outputs": [
    {
     "data": {
      "text/plain": [
       "8"
      ]
     },
     "execution_count": 150,
     "metadata": {},
     "output_type": "execute_result"
    }
   ],
   "source": [
    "int(float(v))"
   ]
  },
  {
   "cell_type": "code",
   "execution_count": 153,
   "id": "e8f02d95",
   "metadata": {},
   "outputs": [
    {
     "name": "stdout",
     "output_type": "stream",
     "text": [
      "Enter your name:Ranmuni\n",
      "Enter your age:24\n"
     ]
    },
    {
     "data": {
      "text/plain": [
       "'Ranmuni Is a good boy and he is 24 years old'"
      ]
     },
     "execution_count": 153,
     "metadata": {},
     "output_type": "execute_result"
    }
   ],
   "source": [
    "name=input(\"Enter your name:\")\n",
    "age=input(\"Enter your age:\")\n",
    "msg=name+\" Is a good boy\"+\" and he is \"+age+\" years old\"\n",
    "msg"
   ]
  },
  {
   "cell_type": "code",
   "execution_count": 157,
   "id": "9a7cdadd",
   "metadata": {},
   "outputs": [
    {
     "data": {
      "text/plain": [
       "'Hello (name), are you (age) years old?'"
      ]
     },
     "execution_count": 157,
     "metadata": {},
     "output_type": "execute_result"
    }
   ],
   "source": [
    "name=\"Harry\"\n",
    "age=29\n",
    "\n",
    "msg=\"Hello (name), are you (age) years old?\"\n",
    "msg"
   ]
  },
  {
   "cell_type": "code",
   "execution_count": 156,
   "id": "868c2028",
   "metadata": {},
   "outputs": [
    {
     "name": "stdout",
     "output_type": "stream",
     "text": [
      "Enter your name:Nadun\n"
     ]
    },
    {
     "data": {
      "text/plain": [
       "'Nadun Is a good boy and he is 21 years old'"
      ]
     },
     "execution_count": 156,
     "metadata": {},
     "output_type": "execute_result"
    }
   ],
   "source": [
    "name=input(\"Enter your name:\")\n",
    "age=21\n",
    "msg=name+\" Is a good boy\"+\" and he is \"+str(age)+\" years old\"\n",
    "msg"
   ]
  },
  {
   "cell_type": "code",
   "execution_count": 159,
   "id": "c7287327",
   "metadata": {},
   "outputs": [
    {
     "data": {
      "text/plain": [
       "'Hello (Harry), are you (29) years old?'"
      ]
     },
     "execution_count": 159,
     "metadata": {},
     "output_type": "execute_result"
    }
   ],
   "source": [
    "name=\"Harry\"\n",
    "age=29\n",
    "\n",
    "msg=\"Hello (Harry), are you (29) years old?\" .format(name,age)\n",
    "msg"
   ]
  },
  {
   "cell_type": "code",
   "execution_count": 160,
   "id": "b2f30c0c",
   "metadata": {},
   "outputs": [
    {
     "data": {
      "text/plain": [
       "46"
      ]
     },
     "execution_count": 160,
     "metadata": {},
     "output_type": "execute_result"
    }
   ],
   "source": [
    "12+34"
   ]
  },
  {
   "cell_type": "code",
   "execution_count": 161,
   "id": "8f029010",
   "metadata": {},
   "outputs": [],
   "source": [
    "a=86"
   ]
  },
  {
   "cell_type": "code",
   "execution_count": 162,
   "id": "fd245710",
   "metadata": {},
   "outputs": [
    {
     "data": {
      "text/plain": [
       "65"
      ]
     },
     "execution_count": 162,
     "metadata": {},
     "output_type": "execute_result"
    }
   ],
   "source": [
    "ord(\"A\")"
   ]
  },
  {
   "cell_type": "code",
   "execution_count": 163,
   "id": "3e7c9ff1",
   "metadata": {},
   "outputs": [
    {
     "data": {
      "text/plain": [
       "66"
      ]
     },
     "execution_count": 163,
     "metadata": {},
     "output_type": "execute_result"
    }
   ],
   "source": [
    "ord(\"B\")"
   ]
  },
  {
   "cell_type": "code",
   "execution_count": 164,
   "id": "ad493a56",
   "metadata": {},
   "outputs": [
    {
     "data": {
      "text/plain": [
       "38"
      ]
     },
     "execution_count": 164,
     "metadata": {},
     "output_type": "execute_result"
    }
   ],
   "source": [
    "ord(\"&\")"
   ]
  },
  {
   "cell_type": "code",
   "execution_count": 165,
   "id": "0becab98",
   "metadata": {},
   "outputs": [
    {
     "data": {
      "text/plain": [
       "42"
      ]
     },
     "execution_count": 165,
     "metadata": {},
     "output_type": "execute_result"
    }
   ],
   "source": [
    "ord(\"*\")"
   ]
  },
  {
   "cell_type": "code",
   "execution_count": 166,
   "id": "d88c8dad",
   "metadata": {},
   "outputs": [
    {
     "data": {
      "text/plain": [
       "94"
      ]
     },
     "execution_count": 166,
     "metadata": {},
     "output_type": "execute_result"
    }
   ],
   "source": [
    "ord(\"^\")"
   ]
  },
  {
   "cell_type": "code",
   "execution_count": 167,
   "id": "4c412583",
   "metadata": {},
   "outputs": [
    {
     "data": {
      "text/plain": [
       "37"
      ]
     },
     "execution_count": 167,
     "metadata": {},
     "output_type": "execute_result"
    }
   ],
   "source": [
    "ord(\"%\")"
   ]
  },
  {
   "cell_type": "code",
   "execution_count": 168,
   "id": "d3c562a9",
   "metadata": {},
   "outputs": [
    {
     "data": {
      "text/plain": [
       "35"
      ]
     },
     "execution_count": 168,
     "metadata": {},
     "output_type": "execute_result"
    }
   ],
   "source": [
    "ord(\"#\")"
   ]
  },
  {
   "cell_type": "code",
   "execution_count": 169,
   "id": "2627b565",
   "metadata": {},
   "outputs": [
    {
     "data": {
      "text/plain": [
       "64"
      ]
     },
     "execution_count": 169,
     "metadata": {},
     "output_type": "execute_result"
    }
   ],
   "source": [
    "ord(\"@\")"
   ]
  },
  {
   "cell_type": "code",
   "execution_count": 170,
   "id": "b0c07dd5",
   "metadata": {},
   "outputs": [
    {
     "data": {
      "text/plain": [
       "33"
      ]
     },
     "execution_count": 170,
     "metadata": {},
     "output_type": "execute_result"
    }
   ],
   "source": [
    "ord(\"!\")"
   ]
  },
  {
   "cell_type": "code",
   "execution_count": 171,
   "id": "c147bfa7",
   "metadata": {},
   "outputs": [
    {
     "data": {
      "text/plain": [
       "'!'"
      ]
     },
     "execution_count": 171,
     "metadata": {},
     "output_type": "execute_result"
    }
   ],
   "source": [
    "chr(33)"
   ]
  },
  {
   "cell_type": "code",
   "execution_count": 172,
   "id": "90354f15",
   "metadata": {},
   "outputs": [],
   "source": [
    "y=\"My name is kane\""
   ]
  },
  {
   "cell_type": "code",
   "execution_count": 173,
   "id": "b80bb911",
   "metadata": {},
   "outputs": [
    {
     "data": {
      "text/plain": [
       "'My name ip kane'"
      ]
     },
     "execution_count": 173,
     "metadata": {},
     "output_type": "execute_result"
    }
   ],
   "source": [
    "y.replace(\"s\",\"p\")"
   ]
  },
  {
   "cell_type": "code",
   "execution_count": 174,
   "id": "049fb683",
   "metadata": {},
   "outputs": [
    {
     "ename": "AttributeError",
     "evalue": "'str' object has no attribute 'add'",
     "output_type": "error",
     "traceback": [
      "\u001b[1;31m---------------------------------------------------------------------------\u001b[0m",
      "\u001b[1;31mAttributeError\u001b[0m                            Traceback (most recent call last)",
      "\u001b[1;32m<ipython-input-174-9088369c4fe6>\u001b[0m in \u001b[0;36m<module>\u001b[1;34m\u001b[0m\n\u001b[1;32m----> 1\u001b[1;33m \u001b[0my\u001b[0m\u001b[1;33m.\u001b[0m\u001b[0madd\u001b[0m\u001b[1;33m(\u001b[0m\u001b[1;34m\"name\"\u001b[0m\u001b[1;33m,\u001b[0m\u001b[1;34m\"names\"\u001b[0m\u001b[1;33m)\u001b[0m\u001b[1;33m\u001b[0m\u001b[1;33m\u001b[0m\u001b[0m\n\u001b[0m",
      "\u001b[1;31mAttributeError\u001b[0m: 'str' object has no attribute 'add'"
     ]
    }
   ],
   "source": [
    "y.add(\"name\",\"names\")"
   ]
  },
  {
   "cell_type": "code",
   "execution_count": 175,
   "id": "172f9248",
   "metadata": {},
   "outputs": [
    {
     "ename": "AttributeError",
     "evalue": "'str' object has no attribute 'app'",
     "output_type": "error",
     "traceback": [
      "\u001b[1;31m---------------------------------------------------------------------------\u001b[0m",
      "\u001b[1;31mAttributeError\u001b[0m                            Traceback (most recent call last)",
      "\u001b[1;32m<ipython-input-175-31e3b1fc7586>\u001b[0m in \u001b[0;36m<module>\u001b[1;34m\u001b[0m\n\u001b[1;32m----> 1\u001b[1;33m \u001b[0my\u001b[0m\u001b[1;33m.\u001b[0m\u001b[0mapp\u001b[0m\u001b[1;33m(\u001b[0m\u001b[1;34m\"s\"\u001b[0m\u001b[1;33m,\u001b[0m\u001b[1;34m\"p\"\u001b[0m\u001b[1;33m)\u001b[0m\u001b[1;33m\u001b[0m\u001b[1;33m\u001b[0m\u001b[0m\n\u001b[0m",
      "\u001b[1;31mAttributeError\u001b[0m: 'str' object has no attribute 'app'"
     ]
    }
   ],
   "source": [
    "y.app(\"s\",\"p\")"
   ]
  },
  {
   "cell_type": "code",
   "execution_count": 176,
   "id": "d9c6cf42",
   "metadata": {},
   "outputs": [
    {
     "ename": "TypeError",
     "evalue": "replace expected at least 2 arguments, got 1",
     "output_type": "error",
     "traceback": [
      "\u001b[1;31m---------------------------------------------------------------------------\u001b[0m",
      "\u001b[1;31mTypeError\u001b[0m                                 Traceback (most recent call last)",
      "\u001b[1;32m<ipython-input-176-a451a4bf5d08>\u001b[0m in \u001b[0;36m<module>\u001b[1;34m\u001b[0m\n\u001b[1;32m----> 1\u001b[1;33m \u001b[0my\u001b[0m\u001b[1;33m.\u001b[0m\u001b[0mreplace\u001b[0m\u001b[1;33m(\u001b[0m\u001b[1;34m\"s\"\u001b[0m\u001b[1;33m+\u001b[0m\u001b[1;34m\"p\"\u001b[0m\u001b[1;33m)\u001b[0m\u001b[1;33m\u001b[0m\u001b[1;33m\u001b[0m\u001b[0m\n\u001b[0m",
      "\u001b[1;31mTypeError\u001b[0m: replace expected at least 2 arguments, got 1"
     ]
    }
   ],
   "source": [
    "y.replace(\"s\"+\"p\")"
   ]
  },
  {
   "cell_type": "code",
   "execution_count": 177,
   "id": "72440a89",
   "metadata": {},
   "outputs": [
    {
     "data": {
      "text/plain": [
       "'MY NAME IS KANE'"
      ]
     },
     "execution_count": 177,
     "metadata": {},
     "output_type": "execute_result"
    }
   ],
   "source": [
    "y.upper()"
   ]
  },
  {
   "cell_type": "code",
   "execution_count": 178,
   "id": "7633f399",
   "metadata": {},
   "outputs": [
    {
     "data": {
      "text/plain": [
       "'my name is kane'"
      ]
     },
     "execution_count": 178,
     "metadata": {},
     "output_type": "execute_result"
    }
   ],
   "source": [
    "y.lower()"
   ]
  },
  {
   "cell_type": "code",
   "execution_count": 179,
   "id": "ffc4c6cb",
   "metadata": {},
   "outputs": [
    {
     "data": {
      "text/plain": [
       "'mY NAME IS KANE'"
      ]
     },
     "execution_count": 179,
     "metadata": {},
     "output_type": "execute_result"
    }
   ],
   "source": [
    "y.swapcase()"
   ]
  },
  {
   "cell_type": "code",
   "execution_count": 181,
   "id": "5e04e509",
   "metadata": {},
   "outputs": [
    {
     "data": {
      "text/plain": [
       "'My Name Is Kane'"
      ]
     },
     "execution_count": 181,
     "metadata": {},
     "output_type": "execute_result"
    }
   ],
   "source": [
    "y.title()"
   ]
  },
  {
   "cell_type": "code",
   "execution_count": 183,
   "id": "eb8e489b",
   "metadata": {},
   "outputs": [
    {
     "data": {
      "text/plain": [
       "0"
      ]
     },
     "execution_count": 183,
     "metadata": {},
     "output_type": "execute_result"
    }
   ],
   "source": [
    "y.count(\"Name\")"
   ]
  },
  {
   "cell_type": "code",
   "execution_count": 184,
   "id": "6f85c96f",
   "metadata": {},
   "outputs": [
    {
     "data": {
      "text/plain": [
       "1"
      ]
     },
     "execution_count": 184,
     "metadata": {},
     "output_type": "execute_result"
    }
   ],
   "source": [
    "y.count(\"name\")"
   ]
  },
  {
   "cell_type": "code",
   "execution_count": 185,
   "id": "01c8e5ab",
   "metadata": {},
   "outputs": [
    {
     "data": {
      "text/plain": [
       "3"
      ]
     },
     "execution_count": 185,
     "metadata": {},
     "output_type": "execute_result"
    }
   ],
   "source": [
    "y.find(\"name\")"
   ]
  },
  {
   "cell_type": "code",
   "execution_count": 186,
   "id": "be4bf194",
   "metadata": {},
   "outputs": [],
   "source": [
    "x=\"Happy birth day\""
   ]
  },
  {
   "cell_type": "code",
   "execution_count": 187,
   "id": "0c341527",
   "metadata": {},
   "outputs": [
    {
     "data": {
      "text/plain": [
       "False"
      ]
     },
     "execution_count": 187,
     "metadata": {},
     "output_type": "execute_result"
    }
   ],
   "source": [
    "x.startswith(\"day\")"
   ]
  },
  {
   "cell_type": "code",
   "execution_count": 188,
   "id": "0f75aa11",
   "metadata": {},
   "outputs": [
    {
     "data": {
      "text/plain": [
       "False"
      ]
     },
     "execution_count": 188,
     "metadata": {},
     "output_type": "execute_result"
    }
   ],
   "source": [
    "x.endswith(\"Happy\")"
   ]
  },
  {
   "cell_type": "code",
   "execution_count": 189,
   "id": "dde98caf",
   "metadata": {},
   "outputs": [
    {
     "data": {
      "text/plain": [
       "False"
      ]
     },
     "execution_count": 189,
     "metadata": {},
     "output_type": "execute_result"
    }
   ],
   "source": [
    "x.isalnum()"
   ]
  },
  {
   "cell_type": "code",
   "execution_count": 190,
   "id": "f2fcda9e",
   "metadata": {},
   "outputs": [
    {
     "data": {
      "text/plain": [
       "False"
      ]
     },
     "execution_count": 190,
     "metadata": {},
     "output_type": "execute_result"
    }
   ],
   "source": [
    "x.isalpha()"
   ]
  },
  {
   "cell_type": "code",
   "execution_count": 191,
   "id": "6cd6cbd2",
   "metadata": {},
   "outputs": [
    {
     "data": {
      "text/plain": [
       "False"
      ]
     },
     "execution_count": 191,
     "metadata": {},
     "output_type": "execute_result"
    }
   ],
   "source": [
    "x.isdigit()"
   ]
  },
  {
   "cell_type": "code",
   "execution_count": 192,
   "id": "5bd9835b",
   "metadata": {},
   "outputs": [
    {
     "data": {
      "text/plain": [
       "False"
      ]
     },
     "execution_count": 192,
     "metadata": {},
     "output_type": "execute_result"
    }
   ],
   "source": [
    "x.islower()"
   ]
  },
  {
   "cell_type": "code",
   "execution_count": 193,
   "id": "5f3a484e",
   "metadata": {},
   "outputs": [
    {
     "data": {
      "text/plain": [
       "False"
      ]
     },
     "execution_count": 193,
     "metadata": {},
     "output_type": "execute_result"
    }
   ],
   "source": [
    "x.isupper()"
   ]
  },
  {
   "cell_type": "code",
   "execution_count": 194,
   "id": "5c3a38a6",
   "metadata": {},
   "outputs": [],
   "source": [
    "msg=\"Today,is,a,rainy,day\""
   ]
  },
  {
   "cell_type": "code",
   "execution_count": 195,
   "id": "7bb1ac47",
   "metadata": {},
   "outputs": [
    {
     "data": {
      "text/plain": [
       "['Tod', 'y,is,', ',r', 'iny,d', 'y']"
      ]
     },
     "execution_count": 195,
     "metadata": {},
     "output_type": "execute_result"
    }
   ],
   "source": [
    "msg.split(\"a\")"
   ]
  },
  {
   "cell_type": "code",
   "execution_count": 196,
   "id": "b3dc1fce",
   "metadata": {},
   "outputs": [
    {
     "data": {
      "text/plain": [
       "['Today', 'is', 'a', 'rainy', 'day']"
      ]
     },
     "execution_count": 196,
     "metadata": {},
     "output_type": "execute_result"
    }
   ],
   "source": [
    "msg.split(\",\")"
   ]
  },
  {
   "cell_type": "code",
   "execution_count": 197,
   "id": "c54c7cfa",
   "metadata": {},
   "outputs": [
    {
     "data": {
      "text/plain": [
       "'T,o,d,a,y,,,i,s,,,a,,,r,a,i,n,y,,,d,a,y'"
      ]
     },
     "execution_count": 197,
     "metadata": {},
     "output_type": "execute_result"
    }
   ],
   "source": [
    "\",\".join(msg)"
   ]
  },
  {
   "cell_type": "code",
   "execution_count": 198,
   "id": "6b208b0a",
   "metadata": {},
   "outputs": [
    {
     "data": {
      "text/plain": [
       "'T****o****d****a****y****,****i****s****,****a****,****r****a****i****n****y****,****d****a****y'"
      ]
     },
     "execution_count": 198,
     "metadata": {},
     "output_type": "execute_result"
    }
   ],
   "source": [
    "\"****\".join(msg)"
   ]
  },
  {
   "cell_type": "code",
   "execution_count": 199,
   "id": "94159d2e",
   "metadata": {},
   "outputs": [],
   "source": [
    "msg=\"Today is a rainy day.But it may be sun shining in the evening\""
   ]
  },
  {
   "cell_type": "code",
   "execution_count": 200,
   "id": "8ce5004b",
   "metadata": {},
   "outputs": [
    {
     "data": {
      "text/plain": [
       "'Today is a rainy day.But it may be sun shining in the evening'"
      ]
     },
     "execution_count": 200,
     "metadata": {},
     "output_type": "execute_result"
    }
   ],
   "source": [
    "msg"
   ]
  },
  {
   "cell_type": "code",
   "execution_count": 203,
   "id": "c5963cf7",
   "metadata": {},
   "outputs": [],
   "source": [
    "msg=\"Today is a rainy day.\\b But it may be sun shining in the evening\""
   ]
  },
  {
   "cell_type": "code",
   "execution_count": 207,
   "id": "e56808b7",
   "metadata": {},
   "outputs": [
    {
     "name": "stdout",
     "output_type": "stream",
     "text": [
      "Today is a rainy day.\n",
      " But it may be sun shining in the evening\n"
     ]
    }
   ],
   "source": [
    "print(msg)"
   ]
  },
  {
   "cell_type": "code",
   "execution_count": 209,
   "id": "a7fc7ee5",
   "metadata": {},
   "outputs": [],
   "source": [
    "msg=\"Today is a rainy day.\\n But it may be sun shining in the evening\""
   ]
  },
  {
   "cell_type": "code",
   "execution_count": 210,
   "id": "d11e3f74",
   "metadata": {},
   "outputs": [
    {
     "name": "stdout",
     "output_type": "stream",
     "text": [
      "Today is a rainy day.\n",
      " But it may be sun shining in the evening\n"
     ]
    }
   ],
   "source": [
    "print(msg)"
   ]
  },
  {
   "cell_type": "code",
   "execution_count": 211,
   "id": "2d81b311",
   "metadata": {},
   "outputs": [],
   "source": [
    "msg=\"Today is a rainy day.\\t But it may be sun shining in the evening\""
   ]
  },
  {
   "cell_type": "code",
   "execution_count": 212,
   "id": "983cc5a4",
   "metadata": {},
   "outputs": [
    {
     "name": "stdout",
     "output_type": "stream",
     "text": [
      "Today is a rainy day.\t But it may be sun shining in the evening\n"
     ]
    }
   ],
   "source": [
    "print(msg)"
   ]
  },
  {
   "cell_type": "code",
   "execution_count": 213,
   "id": "f79ffbe8",
   "metadata": {},
   "outputs": [],
   "source": [
    "msg=\"Today is a rainy day.\\\\ But it may be sun shining in the evening\""
   ]
  },
  {
   "cell_type": "code",
   "execution_count": 214,
   "id": "00bb5c06",
   "metadata": {},
   "outputs": [
    {
     "name": "stdout",
     "output_type": "stream",
     "text": [
      "Today is a rainy day.\\ But it may be sun shining in the evening\n"
     ]
    }
   ],
   "source": [
    "print(msg)"
   ]
  }
 ],
 "metadata": {
  "kernelspec": {
   "display_name": "Python 3",
   "language": "python",
   "name": "python3"
  },
  "language_info": {
   "codemirror_mode": {
    "name": "ipython",
    "version": 3
   },
   "file_extension": ".py",
   "mimetype": "text/x-python",
   "name": "python",
   "nbconvert_exporter": "python",
   "pygments_lexer": "ipython3",
   "version": "3.8.8"
  }
 },
 "nbformat": 4,
 "nbformat_minor": 5
}
