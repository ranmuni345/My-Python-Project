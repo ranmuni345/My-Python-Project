{
 "cells": [
  {
   "cell_type": "code",
   "execution_count": 10,
   "id": "54a41cd8",
   "metadata": {},
   "outputs": [
    {
     "name": "stdout",
     "output_type": "stream",
     "text": [
      "Enter of characters: 10\n",
      "At least, how many upper case letters: 4\n",
      "At least,how many lower case letters: 3\n",
      "At least, how many digits: 2\n",
      "At least, how many symbols: 10\n",
      "Character numbers do not match\n",
      "Enter of characters: 20\n",
      "At least, how many upper case letters: 1\n",
      "At least,how many lower case letters: 3\n",
      "At least, how many digits: 5\n",
      "At least, how many symbols: 6\n"
     ]
    }
   ],
   "source": [
    "flag=True\n",
    "\n",
    "while flag:\n",
    "     nc=int(input(\"Enter of characters: \"))\n",
    "     nu=int(input(\"At least, how many upper case letters: \"))\n",
    "     nl=int(input(\"At least,how many lower case letters: \"))\n",
    "     nd=int(input(\"At least, how many digits: \"))\n",
    "     ns=int(input(\"At least, how many symbols: \"))\n",
    "\n",
    "     if nu+nl+nd+ns>nc:\n",
    "         print(\"Character numbers do not match\")\n",
    "     else:\n",
    "         flag=False"
   ]
  },
  {
   "cell_type": "code",
   "execution_count": 11,
   "id": "dfe21019",
   "metadata": {},
   "outputs": [
    {
     "name": "stdout",
     "output_type": "stream",
     "text": [
      "Enter of characters: 10\n",
      "At least, how many upper case letters: 2\n",
      "At least,how many lower case letters: 3\n",
      "At least, how many digits: 4\n",
      "At least, how many symbols: 2\n",
      "Character numbers do not match\n",
      "Enter of characters: 20\n",
      "At least, how many upper case letters: 4\n",
      "At least,how many lower case letters: 5\n",
      "At least, how many digits: 7\n",
      "At least, how many symbols: 8\n",
      "Character numbers do not match\n",
      "Enter of characters: 20\n",
      "At least, how many upper case letters: 25\n",
      "At least,how many lower case letters: 30\n",
      "At least, how many digits: 34\n",
      "At least, how many symbols: 45\n",
      "Character numbers do not match\n",
      "Enter of characters: 20\n",
      "At least, how many upper case letters: 3\n",
      "At least,how many lower case letters: 2\n",
      "At least, how many digits: 1\n",
      "At least, how many symbols: 4\n"
     ]
    }
   ],
   "source": [
    "flag=True\n",
    "\n",
    "while flag:\n",
    "     nc=int(input(\"Enter of characters: \"))\n",
    "     nu=int(input(\"At least, how many upper case letters: \"))\n",
    "     nl=int(input(\"At least,how many lower case letters: \"))\n",
    "     nd=int(input(\"At least, how many digits: \"))\n",
    "     ns=int(input(\"At least, how many symbols: \"))\n",
    "\n",
    "     if nu+nl+nd+ns>nc:\n",
    "         print(\"Character numbers do not match\")\n",
    "     else:\n",
    "         flag=False\n",
    "            \n",
    "n_extra=nc-(nu+nl+nd+ns)\n",
    "\n",
    "digits=[str(i) for i in range(10)]"
   ]
  },
  {
   "cell_type": "code",
   "execution_count": 12,
   "id": "a6d10b1c",
   "metadata": {},
   "outputs": [
    {
     "data": {
      "text/plain": [
       "['0', '1', '2', '3', '4', '5', '6', '7', '8', '9']"
      ]
     },
     "execution_count": 12,
     "metadata": {},
     "output_type": "execute_result"
    }
   ],
   "source": [
    "digits=[str(i) for i in range(10)]\n",
    "digits"
   ]
  },
  {
   "cell_type": "code",
   "execution_count": 14,
   "id": "fcf9df29",
   "metadata": {},
   "outputs": [],
   "source": [
    "upper_case_letters=[chr(i) for i in range(65,91)]"
   ]
  },
  {
   "cell_type": "code",
   "execution_count": 15,
   "id": "66d2aae1",
   "metadata": {},
   "outputs": [
    {
     "data": {
      "text/plain": [
       "'A'"
      ]
     },
     "execution_count": 15,
     "metadata": {},
     "output_type": "execute_result"
    }
   ],
   "source": [
    "chr(65)"
   ]
  },
  {
   "cell_type": "code",
   "execution_count": 16,
   "id": "3110c0f2",
   "metadata": {},
   "outputs": [
    {
     "data": {
      "text/plain": [
       "65"
      ]
     },
     "execution_count": 16,
     "metadata": {},
     "output_type": "execute_result"
    }
   ],
   "source": [
    "ord(\"A\")"
   ]
  },
  {
   "cell_type": "code",
   "execution_count": 17,
   "id": "3a5e83da",
   "metadata": {},
   "outputs": [
    {
     "data": {
      "text/plain": [
       "'['"
      ]
     },
     "execution_count": 17,
     "metadata": {},
     "output_type": "execute_result"
    }
   ],
   "source": [
    "chr(91)"
   ]
  },
  {
   "cell_type": "code",
   "execution_count": 18,
   "id": "249565a4",
   "metadata": {},
   "outputs": [
    {
     "data": {
      "text/plain": [
       "66"
      ]
     },
     "execution_count": 18,
     "metadata": {},
     "output_type": "execute_result"
    }
   ],
   "source": [
    "ord(\"B\")"
   ]
  },
  {
   "cell_type": "code",
   "execution_count": 19,
   "id": "07c7c0bb",
   "metadata": {},
   "outputs": [
    {
     "data": {
      "text/plain": [
       "['A',\n",
       " 'B',\n",
       " 'C',\n",
       " 'D',\n",
       " 'E',\n",
       " 'F',\n",
       " 'G',\n",
       " 'H',\n",
       " 'I',\n",
       " 'J',\n",
       " 'K',\n",
       " 'L',\n",
       " 'M',\n",
       " 'N',\n",
       " 'O',\n",
       " 'P',\n",
       " 'Q',\n",
       " 'R',\n",
       " 'S',\n",
       " 'T',\n",
       " 'U',\n",
       " 'V',\n",
       " 'W',\n",
       " 'X',\n",
       " 'Y',\n",
       " 'Z']"
      ]
     },
     "execution_count": 19,
     "metadata": {},
     "output_type": "execute_result"
    }
   ],
   "source": [
    "upper_case_letters=[chr(i) for i in range(65,91)]\n",
    "upper_case_letters"
   ]
  },
  {
   "cell_type": "code",
   "execution_count": 20,
   "id": "186fc769",
   "metadata": {},
   "outputs": [
    {
     "data": {
      "text/plain": [
       "['a',\n",
       " 'b',\n",
       " 'c',\n",
       " 'd',\n",
       " 'e',\n",
       " 'f',\n",
       " 'g',\n",
       " 'h',\n",
       " 'i',\n",
       " 'j',\n",
       " 'k',\n",
       " 'l',\n",
       " 'm',\n",
       " 'n',\n",
       " 'o',\n",
       " 'p',\n",
       " 'q',\n",
       " 'r',\n",
       " 's',\n",
       " 't',\n",
       " 'u',\n",
       " 'v',\n",
       " 'w',\n",
       " 'x',\n",
       " 'y']"
      ]
     },
     "execution_count": 20,
     "metadata": {},
     "output_type": "execute_result"
    }
   ],
   "source": [
    "lower_case_letters=[chr(i) for i in range(97,122)]\n",
    "lower_case_letters"
   ]
  },
  {
   "cell_type": "code",
   "execution_count": 42,
   "id": "cdf79a23",
   "metadata": {},
   "outputs": [
    {
     "name": "stdout",
     "output_type": "stream",
     "text": [
      "Enter of characters: 20\n",
      "At least, how many upper case letters: 1\n",
      "At least,how many lower case letters: 3\n",
      "At least, how many digits: 4\n",
      "At least, how many symbols: 2\n"
     ]
    }
   ],
   "source": [
    "import random\n",
    "flag=True\n",
    "\n",
    "while flag:\n",
    "     nc=int(input(\"Enter of characters: \"))\n",
    "     nu=int(input(\"At least, how many upper case letters: \"))\n",
    "     nl=int(input(\"At least,how many lower case letters: \"))\n",
    "     nd=int(input(\"At least, how many digits: \"))\n",
    "     ns=int(input(\"At least, how many symbols: \"))\n",
    "\n",
    "     if nu+nl+nd+ns>nc:\n",
    "         print(\"Character numbers do not match\")\n",
    "     else:\n",
    "         flag=False\n",
    "            \n",
    "n_extra=nc-(nu+nl+nd+ns)\n",
    "\n",
    "digits=[str(i) for i in range(10)]\n",
    "\n",
    "upper_case_letters=[chr(i) for i in range(65,91)]\n",
    "\n",
    "lower_case_letters=[chr(i) for i in range(97,122)]"
   ]
  },
  {
   "cell_type": "code",
   "execution_count": 22,
   "id": "a21b0980",
   "metadata": {},
   "outputs": [],
   "source": [
    "import string"
   ]
  },
  {
   "cell_type": "code",
   "execution_count": 23,
   "id": "1a353b74",
   "metadata": {},
   "outputs": [
    {
     "data": {
      "text/plain": [
       "'abcdefghijklmnopqrstuvwxyzABCDEFGHIJKLMNOPQRSTUVWXYZ'"
      ]
     },
     "execution_count": 23,
     "metadata": {},
     "output_type": "execute_result"
    }
   ],
   "source": [
    "string.ascii_letters"
   ]
  },
  {
   "cell_type": "code",
   "execution_count": 24,
   "id": "9a35621d",
   "metadata": {},
   "outputs": [
    {
     "data": {
      "text/plain": [
       "'ABCDEFGHIJKLMNOPQRSTUVWXYZ'"
      ]
     },
     "execution_count": 24,
     "metadata": {},
     "output_type": "execute_result"
    }
   ],
   "source": [
    "string.ascii_uppercase"
   ]
  },
  {
   "cell_type": "code",
   "execution_count": 26,
   "id": "e2c1c1d1",
   "metadata": {},
   "outputs": [
    {
     "data": {
      "text/plain": [
       "'abcdefghijklmnopqrstuvwxyz'"
      ]
     },
     "execution_count": 26,
     "metadata": {},
     "output_type": "execute_result"
    }
   ],
   "source": [
    "string.ascii_lowercase"
   ]
  },
  {
   "cell_type": "code",
   "execution_count": 31,
   "id": "7e0bfb5d",
   "metadata": {},
   "outputs": [
    {
     "data": {
      "text/plain": [
       "['abcdefghijklmnopqrstuvwxyz']"
      ]
     },
     "execution_count": 31,
     "metadata": {},
     "output_type": "execute_result"
    }
   ],
   "source": [
    "string.ascii_lowercase.split(\"  \")"
   ]
  },
  {
   "cell_type": "code",
   "execution_count": 33,
   "id": "ef8bde79",
   "metadata": {},
   "outputs": [
    {
     "data": {
      "text/plain": [
       "['a',\n",
       " 'b',\n",
       " 'c',\n",
       " 'd',\n",
       " 'e',\n",
       " 'f',\n",
       " 'g',\n",
       " 'h',\n",
       " 'i',\n",
       " 'j',\n",
       " 'k',\n",
       " 'l',\n",
       " 'm',\n",
       " 'n',\n",
       " 'o',\n",
       " 'p',\n",
       " 'q',\n",
       " 'r',\n",
       " 's',\n",
       " 't',\n",
       " 'u',\n",
       " 'v',\n",
       " 'w',\n",
       " 'x',\n",
       " 'y',\n",
       " 'z']"
      ]
     },
     "execution_count": 33,
     "metadata": {},
     "output_type": "execute_result"
    }
   ],
   "source": [
    "list(string.ascii_lowercase)"
   ]
  },
  {
   "cell_type": "code",
   "execution_count": 34,
   "id": "96290f4e",
   "metadata": {},
   "outputs": [
    {
     "data": {
      "text/plain": [
       "str"
      ]
     },
     "execution_count": 34,
     "metadata": {},
     "output_type": "execute_result"
    }
   ],
   "source": [
    "type(string.ascii_lowercase)"
   ]
  },
  {
   "cell_type": "code",
   "execution_count": 35,
   "id": "d88c91a1",
   "metadata": {},
   "outputs": [
    {
     "name": "stdout",
     "output_type": "stream",
     "text": [
      "abcdefghijklmnopqrstuvwxyz\n"
     ]
    }
   ],
   "source": [
    "print(string.ascii_lowercase)"
   ]
  },
  {
   "cell_type": "code",
   "execution_count": 36,
   "id": "06be7583",
   "metadata": {},
   "outputs": [],
   "source": [
    "import random\n",
    "get_charcter=lambda c1,n:[random.choice(c1) for i in range(n)]"
   ]
  },
  {
   "cell_type": "code",
   "execution_count": 37,
   "id": "4da6a31a",
   "metadata": {},
   "outputs": [
    {
     "data": {
      "text/plain": [
       "['e', 'd', 'a']"
      ]
     },
     "execution_count": 37,
     "metadata": {},
     "output_type": "execute_result"
    }
   ],
   "source": [
    "L=[\"a\",\"b\",\"c\",\"d\",\"e\"]\n",
    "get_charcter(L,3)"
   ]
  },
  {
   "cell_type": "code",
   "execution_count": 38,
   "id": "3cc27db5",
   "metadata": {},
   "outputs": [
    {
     "data": {
      "text/plain": [
       "[]"
      ]
     },
     "execution_count": 38,
     "metadata": {},
     "output_type": "execute_result"
    }
   ],
   "source": [
    "L=[\"a\",\"b\",\"c\",\"d\",\"e\"]\n",
    "get_charcter(L,-1)"
   ]
  },
  {
   "cell_type": "code",
   "execution_count": 39,
   "id": "312b610c",
   "metadata": {},
   "outputs": [
    {
     "data": {
      "text/plain": [
       "[]"
      ]
     },
     "execution_count": 39,
     "metadata": {},
     "output_type": "execute_result"
    }
   ],
   "source": [
    "L=[\"a\",\"b\",\"c\",\"d\",\"e\"]\n",
    "get_charcter(L,0)"
   ]
  },
  {
   "cell_type": "code",
   "execution_count": 49,
   "id": "b387f3c2",
   "metadata": {},
   "outputs": [
    {
     "name": "stdout",
     "output_type": "stream",
     "text": [
      "Enter of characters: 12\n",
      "At least, how many upper case letters: 3\n",
      "At least,how many lower case letters: 3\n",
      "At least, how many digits: 1\n",
      "At least, how many symbols: 2\n"
     ]
    },
    {
     "ename": "NameError",
     "evalue": "name 'symbols' is not defined",
     "output_type": "error",
     "traceback": [
      "\u001b[1;31m---------------------------------------------------------------------------\u001b[0m",
      "\u001b[1;31mNameError\u001b[0m                                 Traceback (most recent call last)",
      "\u001b[1;32m<ipython-input-49-221e745bda69>\u001b[0m in \u001b[0;36m<module>\u001b[1;34m\u001b[0m\n\u001b[0;32m     27\u001b[0m \u001b[0mlower_char\u001b[0m\u001b[1;33m=\u001b[0m\u001b[0mget_character\u001b[0m\u001b[1;33m(\u001b[0m\u001b[0mlower_case_letters\u001b[0m\u001b[1;33m,\u001b[0m\u001b[0mnl\u001b[0m\u001b[1;33m)\u001b[0m\u001b[1;33m\u001b[0m\u001b[1;33m\u001b[0m\u001b[0m\n\u001b[0;32m     28\u001b[0m \u001b[1;33m\u001b[0m\u001b[0m\n\u001b[1;32m---> 29\u001b[1;33m \u001b[0msymbols\u001b[0m\u001b[1;33m[\u001b[0m\u001b[1;33m[\u001b[0m\u001b[0mchr\u001b[0m\u001b[1;33m(\u001b[0m\u001b[0mi\u001b[0m\u001b[1;33m)\u001b[0m \u001b[1;32mfor\u001b[0m \u001b[0mi\u001b[0m \u001b[1;32min\u001b[0m \u001b[0mrange\u001b[0m\u001b[1;33m(\u001b[0m\u001b[1;36m32\u001b[0m\u001b[1;33m,\u001b[0m\u001b[1;36m49\u001b[0m\u001b[1;33m)\u001b[0m\u001b[1;33m]\u001b[0m\u001b[1;33m+\u001b[0m\u001b[1;33m[\u001b[0m\u001b[0mchr\u001b[0m\u001b[1;33m(\u001b[0m\u001b[0mi\u001b[0m\u001b[1;33m)\u001b[0m \u001b[1;32mfor\u001b[0m \u001b[0mi\u001b[0m \u001b[1;32min\u001b[0m \u001b[0mrange\u001b[0m\u001b[1;33m(\u001b[0m\u001b[1;36m58\u001b[0m\u001b[1;33m,\u001b[0m\u001b[1;33m-\u001b[0m\u001b[1;36m65\u001b[0m\u001b[1;33m)\u001b[0m\u001b[1;33m]\u001b[0m\u001b[1;33m+\u001b[0m\u001b[1;33m[\u001b[0m\u001b[0mchr\u001b[0m\u001b[1;33m(\u001b[0m\u001b[0mi\u001b[0m\u001b[1;33m)\u001b[0m \u001b[1;32mfor\u001b[0m \u001b[0mi\u001b[0m \u001b[1;32min\u001b[0m \u001b[0mrange\u001b[0m\u001b[1;33m(\u001b[0m\u001b[1;36m91\u001b[0m\u001b[1;33m,\u001b[0m\u001b[1;36m97\u001b[0m\u001b[1;33m)\u001b[0m\u001b[1;33m]\u001b[0m\u001b[1;33m+\u001b[0m\u001b[1;33m[\u001b[0m\u001b[0mchr\u001b[0m\u001b[1;33m(\u001b[0m\u001b[0mi\u001b[0m\u001b[1;33m)\u001b[0m \u001b[1;32mfor\u001b[0m \u001b[0mi\u001b[0m \u001b[1;32min\u001b[0m \u001b[0mrange\u001b[0m\u001b[1;33m(\u001b[0m\u001b[1;36m32\u001b[0m\u001b[1;33m,\u001b[0m\u001b[1;33m-\u001b[0m\u001b[1;36m31\u001b[0m\u001b[1;33m)\u001b[0m\u001b[1;33m]\u001b[0m\u001b[1;33m]\u001b[0m\u001b[1;33m\u001b[0m\u001b[1;33m\u001b[0m\u001b[0m\n\u001b[0m\u001b[0;32m     30\u001b[0m \u001b[0msymbol_char\u001b[0m\u001b[1;33m=\u001b[0m\u001b[0mget_character\u001b[0m\u001b[1;33m(\u001b[0m\u001b[0msymbols\u001b[0m\u001b[1;33m,\u001b[0m\u001b[0mns\u001b[0m\u001b[1;33m)\u001b[0m\u001b[1;33m\u001b[0m\u001b[1;33m\u001b[0m\u001b[0m\n\u001b[0;32m     31\u001b[0m \u001b[1;33m\u001b[0m\u001b[0m\n",
      "\u001b[1;31mNameError\u001b[0m: name 'symbols' is not defined"
     ]
    }
   ],
   "source": [
    "import random\n",
    "flag=True\n",
    "\n",
    "while flag:\n",
    "     nc=int(input(\"Enter of characters: \"))\n",
    "     nu=int(input(\"At least, how many upper case letters: \"))\n",
    "     nl=int(input(\"At least,how many lower case letters: \"))\n",
    "     nd=int(input(\"At least, how many digits: \"))\n",
    "     ns=int(input(\"At least, how many symbols: \"))\n",
    "\n",
    "     if nu+nl+nd+ns>nc:\n",
    "         print(\"Character numbers do not match\")\n",
    "     else:\n",
    "         flag=False\n",
    "            \n",
    "n_extra=nc-(nu+nl+nd+ns)\n",
    "\n",
    "get_character=lambda cl,n:[random.choice(cl) for i in range(n)]\n",
    "\n",
    "digits=[str(i) for i in range(10)]\n",
    "digit_char=get_character(digits,nd)\n",
    "\n",
    "upper_case_letters=[chr(i) for i in range(65,91)]\n",
    "upper_char=get_character(upper_case_letters,nu)\n",
    "\n",
    "lower_case_letters=[chr(i) for i in range(97,122)]\n",
    "lower_char=get_character(lower_case_letters,nl)\n",
    "\n",
    "symbols[[chr(i) for i in range(32,49)]+[chr(i) for i in range(58,-65)]+[chr(i) for i in range(91,97)]+[chr(i) for i in range(32,-31)]]\n",
    "symbol_char=get_character(symbols,ns)\n",
    "\n",
    "character_list=digits+upper_case_letters+lower_case_letters+symbols\n",
    "extra_chr=get_character(character_list,n_extra)\n",
    "\n",
    "password_chars=digits+upper_case_letters+lower_case_letters+symbol_char+extra_char\n",
    "password_chars"
   ]
  },
  {
   "cell_type": "code",
   "execution_count": 51,
   "id": "92595bce",
   "metadata": {},
   "outputs": [
    {
     "name": "stdout",
     "output_type": "stream",
     "text": [
      "Enter of characters: 12\n",
      "At least, how many upper case letters: 3\n",
      "At least,how many lower case letters: 3\n",
      "At least, how many digits: 4\n",
      "At least, how many symbols: 2\n"
     ]
    },
    {
     "ename": "NameError",
     "evalue": "name 'symbols' is not defined",
     "output_type": "error",
     "traceback": [
      "\u001b[1;31m---------------------------------------------------------------------------\u001b[0m",
      "\u001b[1;31mNameError\u001b[0m                                 Traceback (most recent call last)",
      "\u001b[1;32m<ipython-input-51-585ce97a3ea5>\u001b[0m in \u001b[0;36m<module>\u001b[1;34m\u001b[0m\n\u001b[0;32m     27\u001b[0m \u001b[0mlower_char\u001b[0m\u001b[1;33m=\u001b[0m\u001b[0mget_character\u001b[0m\u001b[1;33m(\u001b[0m\u001b[0mlower_case_letters\u001b[0m\u001b[1;33m,\u001b[0m\u001b[0mnl\u001b[0m\u001b[1;33m)\u001b[0m\u001b[1;33m\u001b[0m\u001b[1;33m\u001b[0m\u001b[0m\n\u001b[0;32m     28\u001b[0m \u001b[1;33m\u001b[0m\u001b[0m\n\u001b[1;32m---> 29\u001b[1;33m \u001b[0msymbols\u001b[0m\u001b[1;33m[\u001b[0m\u001b[1;33m[\u001b[0m\u001b[0mchr\u001b[0m\u001b[1;33m(\u001b[0m\u001b[0mi\u001b[0m\u001b[1;33m)\u001b[0m \u001b[1;32mfor\u001b[0m \u001b[0mi\u001b[0m \u001b[1;32min\u001b[0m \u001b[0mrange\u001b[0m\u001b[1;33m(\u001b[0m\u001b[1;36m32\u001b[0m\u001b[1;33m,\u001b[0m\u001b[1;36m49\u001b[0m\u001b[1;33m)\u001b[0m\u001b[1;33m]\u001b[0m\u001b[1;33m+\u001b[0m\u001b[1;33m[\u001b[0m\u001b[0mchr\u001b[0m\u001b[1;33m(\u001b[0m\u001b[0mi\u001b[0m\u001b[1;33m)\u001b[0m \u001b[1;32mfor\u001b[0m \u001b[0mi\u001b[0m \u001b[1;32min\u001b[0m \u001b[0mrange\u001b[0m\u001b[1;33m(\u001b[0m\u001b[1;36m58\u001b[0m\u001b[1;33m,\u001b[0m\u001b[1;33m-\u001b[0m\u001b[1;36m65\u001b[0m\u001b[1;33m)\u001b[0m\u001b[1;33m]\u001b[0m\u001b[1;33m+\u001b[0m\u001b[1;33m[\u001b[0m\u001b[0mchr\u001b[0m\u001b[1;33m(\u001b[0m\u001b[0mi\u001b[0m\u001b[1;33m)\u001b[0m \u001b[1;32mfor\u001b[0m \u001b[0mi\u001b[0m \u001b[1;32min\u001b[0m \u001b[0mrange\u001b[0m\u001b[1;33m(\u001b[0m\u001b[1;36m91\u001b[0m\u001b[1;33m,\u001b[0m\u001b[1;36m97\u001b[0m\u001b[1;33m)\u001b[0m\u001b[1;33m]\u001b[0m\u001b[1;33m+\u001b[0m\u001b[1;33m[\u001b[0m\u001b[0mchr\u001b[0m\u001b[1;33m(\u001b[0m\u001b[0mi\u001b[0m\u001b[1;33m)\u001b[0m \u001b[1;32mfor\u001b[0m \u001b[0mi\u001b[0m \u001b[1;32min\u001b[0m \u001b[0mrange\u001b[0m\u001b[1;33m(\u001b[0m\u001b[1;36m32\u001b[0m\u001b[1;33m,\u001b[0m\u001b[1;33m-\u001b[0m\u001b[1;36m31\u001b[0m\u001b[1;33m)\u001b[0m\u001b[1;33m]\u001b[0m\u001b[1;33m]\u001b[0m\u001b[1;33m\u001b[0m\u001b[1;33m\u001b[0m\u001b[0m\n\u001b[0m\u001b[0;32m     30\u001b[0m \u001b[0msymbol_char\u001b[0m\u001b[1;33m=\u001b[0m\u001b[0mget_character\u001b[0m\u001b[1;33m(\u001b[0m\u001b[0msymbols\u001b[0m\u001b[1;33m,\u001b[0m\u001b[0mns\u001b[0m\u001b[1;33m)\u001b[0m\u001b[1;33m\u001b[0m\u001b[1;33m\u001b[0m\u001b[0m\n\u001b[0;32m     31\u001b[0m \u001b[1;33m\u001b[0m\u001b[0m\n",
      "\u001b[1;31mNameError\u001b[0m: name 'symbols' is not defined"
     ]
    }
   ],
   "source": [
    "import random\n",
    "flag=True\n",
    "\n",
    "while flag:\n",
    "     nc=int(input(\"Enter of characters: \"))\n",
    "     nu=int(input(\"At least, how many upper case letters: \"))\n",
    "     nl=int(input(\"At least,how many lower case letters: \"))\n",
    "     nd=int(input(\"At least, how many digits: \"))\n",
    "     ns=int(input(\"At least, how many symbols: \"))\n",
    "\n",
    "     if nu+nl+nd+ns>nc:\n",
    "         print(\"Character numbers do not match\")\n",
    "     else:\n",
    "         flag=False\n",
    "            \n",
    "n_extra=nc-(nu+nl+nd+ns)\n",
    "\n",
    "get_character=lambda cl,n:[random.choice(cl) for i in range(n)]\n",
    "\n",
    "digits=[str(i) for i in range(10)]\n",
    "digit_char=get_character(digits,nd)\n",
    "\n",
    "upper_case_letters=[chr(i) for i in range(65,91)]\n",
    "upper_char=get_character(upper_case_letters,nu)\n",
    "\n",
    "lower_case_letters=[chr(i) for i in range(97,122)]\n",
    "lower_char=get_character(lower_case_letters,nl)\n",
    "\n",
    "symbols[[chr(i) for i in range(32,49)]+[chr(i) for i in range(58,-65)]+[chr(i) for i in range(91,97)]+[chr(i) for i in range(32,-31)]]\n",
    "symbol_char=get_character(symbols,ns)\n",
    "\n",
    "character_list=digits+upper_case_letters+lower_case_letters+symbols\n",
    "extra_chr=get_character(character_list,n_extra)\n",
    "\n",
    "password_chars=digits+upper_case_letters+lower_case_letters+symbol_char+extra_char\n",
    "random.shuffle(password_chars)\n",
    "\n",
    "password=\"\".join(password,chars)\n",
    "\n",
    "return password"
   ]
  },
  {
   "cell_type": "code",
   "execution_count": 1,
   "id": "58a60c41",
   "metadata": {},
   "outputs": [],
   "source": [
    "import random "
   ]
  },
  {
   "cell_type": "code",
   "execution_count": 2,
   "id": "57033940",
   "metadata": {},
   "outputs": [
    {
     "ename": "TypeError",
     "evalue": "object of type 'generator' has no len()",
     "output_type": "error",
     "traceback": [
      "\u001b[1;31m---------------------------------------------------------------------------\u001b[0m",
      "\u001b[1;31mTypeError\u001b[0m                                 Traceback (most recent call last)",
      "\u001b[1;32m<ipython-input-2-045679aa9676>\u001b[0m in \u001b[0;36m<module>\u001b[1;34m\u001b[0m\n\u001b[1;32m----> 1\u001b[1;33m \u001b[0mrandom\u001b[0m\u001b[1;33m.\u001b[0m\u001b[0mchoice\u001b[0m\u001b[1;33m(\u001b[0m\u001b[1;33m[\u001b[0m\u001b[1;36m2\u001b[0m\u001b[1;33m,\u001b[0m\u001b[1;36m3\u001b[0m\u001b[1;33m,\u001b[0m\u001b[1;36m4\u001b[0m\u001b[1;33m,\u001b[0m\u001b[1;36m5\u001b[0m\u001b[1;33m,\u001b[0m\u001b[1;36m6\u001b[0m\u001b[1;33m]\u001b[0m \u001b[1;32mfor\u001b[0m \u001b[0mi\u001b[0m \u001b[1;32min\u001b[0m \u001b[0mrange\u001b[0m\u001b[1;33m(\u001b[0m\u001b[1;36m5\u001b[0m\u001b[1;33m)\u001b[0m\u001b[1;33m)\u001b[0m\u001b[1;33m\u001b[0m\u001b[1;33m\u001b[0m\u001b[0m\n\u001b[0m",
      "\u001b[1;32mD:\\Flutter_Projects\\flutter_app1\\.idea\\Anaconda\\lib\\random.py\u001b[0m in \u001b[0;36mchoice\u001b[1;34m(self, seq)\u001b[0m\n\u001b[0;32m    286\u001b[0m         \u001b[1;34m\"\"\"Choose a random element from a non-empty sequence.\"\"\"\u001b[0m\u001b[1;33m\u001b[0m\u001b[1;33m\u001b[0m\u001b[0m\n\u001b[0;32m    287\u001b[0m         \u001b[1;32mtry\u001b[0m\u001b[1;33m:\u001b[0m\u001b[1;33m\u001b[0m\u001b[1;33m\u001b[0m\u001b[0m\n\u001b[1;32m--> 288\u001b[1;33m             \u001b[0mi\u001b[0m \u001b[1;33m=\u001b[0m \u001b[0mself\u001b[0m\u001b[1;33m.\u001b[0m\u001b[0m_randbelow\u001b[0m\u001b[1;33m(\u001b[0m\u001b[0mlen\u001b[0m\u001b[1;33m(\u001b[0m\u001b[0mseq\u001b[0m\u001b[1;33m)\u001b[0m\u001b[1;33m)\u001b[0m\u001b[1;33m\u001b[0m\u001b[1;33m\u001b[0m\u001b[0m\n\u001b[0m\u001b[0;32m    289\u001b[0m         \u001b[1;32mexcept\u001b[0m \u001b[0mValueError\u001b[0m\u001b[1;33m:\u001b[0m\u001b[1;33m\u001b[0m\u001b[1;33m\u001b[0m\u001b[0m\n\u001b[0;32m    290\u001b[0m             \u001b[1;32mraise\u001b[0m \u001b[0mIndexError\u001b[0m\u001b[1;33m(\u001b[0m\u001b[1;34m'Cannot choose from an empty sequence'\u001b[0m\u001b[1;33m)\u001b[0m \u001b[1;32mfrom\u001b[0m \u001b[1;32mNone\u001b[0m\u001b[1;33m\u001b[0m\u001b[1;33m\u001b[0m\u001b[0m\n",
      "\u001b[1;31mTypeError\u001b[0m: object of type 'generator' has no len()"
     ]
    }
   ],
   "source": [
    "random.choice([2,3,4,5,6] for i in range(5))"
   ]
  },
  {
   "cell_type": "code",
   "execution_count": 10,
   "id": "52c9e2b8",
   "metadata": {},
   "outputs": [
    {
     "name": "stderr",
     "output_type": "stream",
     "text": [
      "WARNING: pip is being invoked by an old script wrapper. This will fail in a future version of pip.\n",
      "Please see https://github.com/pypa/pip/issues/5599 for advice on fixing the underlying issue.\n",
      "To avoid this problem you can invoke Python with '-m pip' instead of running pip directly.\n",
      "WARNING: Retrying (Retry(total=4, connect=None, read=None, redirect=None, status=None)) after connection broken by 'NewConnectionError('<pip._vendor.urllib3.connection.HTTPSConnection object at 0x000001FE392ED280>: Failed to establish a new connection: [Errno 11001] getaddrinfo failed')': /simple/pyttsx3/\n",
      "WARNING: Retrying (Retry(total=3, connect=None, read=None, redirect=None, status=None)) after connection broken by 'NewConnectionError('<pip._vendor.urllib3.connection.HTTPSConnection object at 0x000001FE392ED4F0>: Failed to establish a new connection: [Errno 11001] getaddrinfo failed')': /simple/pyttsx3/\n",
      "WARNING: Retrying (Retry(total=2, connect=None, read=None, redirect=None, status=None)) after connection broken by 'NewConnectionError('<pip._vendor.urllib3.connection.HTTPSConnection object at 0x000001FE392ED5B0>: Failed to establish a new connection: [Errno 11001] getaddrinfo failed')': /simple/pyttsx3/\n",
      "WARNING: Retrying (Retry(total=1, connect=None, read=None, redirect=None, status=None)) after connection broken by 'NewConnectionError('<pip._vendor.urllib3.connection.HTTPSConnection object at 0x000001FE3928CFD0>: Failed to establish a new connection: [Errno 11001] getaddrinfo failed')': /simple/pyttsx3/\n",
      "WARNING: Retrying (Retry(total=0, connect=None, read=None, redirect=None, status=None)) after connection broken by 'NewConnectionError('<pip._vendor.urllib3.connection.HTTPSConnection object at 0x000001FE3928CAF0>: Failed to establish a new connection: [Errno 11001] getaddrinfo failed')': /simple/pyttsx3/\n",
      "ERROR: Could not find a version that satisfies the requirement pyttsx3\n",
      "ERROR: No matching distribution found for pyttsx3\n"
     ]
    },
    {
     "data": {
      "text/plain": [
       "1"
      ]
     },
     "execution_count": 10,
     "metadata": {},
     "output_type": "execute_result"
    }
   ],
   "source": [
    "import pip \n",
    "pip.main([\"install\",\"pyttsx3\"])"
   ]
  },
  {
   "cell_type": "code",
   "execution_count": 11,
   "id": "94688f9d",
   "metadata": {},
   "outputs": [],
   "source": [
    "import numpy as np"
   ]
  },
  {
   "cell_type": "code",
   "execution_count": 12,
   "id": "f725cdd1",
   "metadata": {},
   "outputs": [
    {
     "data": {
      "text/plain": [
       "array([0.19100317, 0.57270229, 0.73527198, 0.49783613, 0.64599489])"
      ]
     },
     "execution_count": 12,
     "metadata": {},
     "output_type": "execute_result"
    }
   ],
   "source": [
    "np.random.random(5)"
   ]
  },
  {
   "cell_type": "code",
   "execution_count": 13,
   "id": "b52d81b1",
   "metadata": {},
   "outputs": [
    {
     "data": {
      "text/plain": [
       "array([[0.58976048, 0.65839398, 0.61081803, 0.22349966, 0.68438353],\n",
       "       [0.84853544, 0.95045837, 0.02483989, 0.86342309, 0.3776305 ],\n",
       "       [0.56382015, 0.34186993, 0.79343669, 0.02530225, 0.98835143],\n",
       "       [0.21788105, 0.17354063, 0.1090097 , 0.42110255, 0.45261658]])"
      ]
     },
     "execution_count": 13,
     "metadata": {},
     "output_type": "execute_result"
    }
   ],
   "source": [
    "np.random.random((4,5))"
   ]
  },
  {
   "cell_type": "code",
   "execution_count": 14,
   "id": "52096ac9",
   "metadata": {},
   "outputs": [
    {
     "data": {
      "text/plain": [
       "array([1.        , 4.77471093, 7.1068928 ])"
      ]
     },
     "execution_count": 14,
     "metadata": {},
     "output_type": "execute_result"
    }
   ],
   "source": [
    "np.random.uniform((1,5,10))"
   ]
  },
  {
   "cell_type": "code",
   "execution_count": 15,
   "id": "02c263b4",
   "metadata": {},
   "outputs": [
    {
     "data": {
      "text/plain": [
       "array([-0.03594517,  4.31002311,  0.96664562])"
      ]
     },
     "execution_count": 15,
     "metadata": {},
     "output_type": "execute_result"
    }
   ],
   "source": [
    "np.random.uniform((-1,5,9/10))"
   ]
  },
  {
   "cell_type": "code",
   "execution_count": 16,
   "id": "814e07c6",
   "metadata": {},
   "outputs": [
    {
     "data": {
      "text/plain": [
       "array([3, 4, 5, 6, 7, 8, 9])"
      ]
     },
     "execution_count": 16,
     "metadata": {},
     "output_type": "execute_result"
    }
   ],
   "source": [
    "np.arange(3,10)"
   ]
  },
  {
   "cell_type": "code",
   "execution_count": 18,
   "id": "cb5cc639",
   "metadata": {},
   "outputs": [
    {
     "data": {
      "text/plain": [
       "array([-3.])"
      ]
     },
     "execution_count": 18,
     "metadata": {},
     "output_type": "execute_result"
    }
   ],
   "source": [
    "np.arange(-3,5/6,4)"
   ]
  },
  {
   "cell_type": "code",
   "execution_count": 19,
   "id": "7c1496e9",
   "metadata": {},
   "outputs": [
    {
     "data": {
      "text/plain": [
       "array([-1.,  0.])"
      ]
     },
     "execution_count": 19,
     "metadata": {},
     "output_type": "execute_result"
    }
   ],
   "source": [
    "np.arange(-1,9/10)"
   ]
  },
  {
   "cell_type": "code",
   "execution_count": 20,
   "id": "76cc4e99",
   "metadata": {},
   "outputs": [],
   "source": [
    "import numpy as np"
   ]
  },
  {
   "cell_type": "code",
   "execution_count": 21,
   "id": "16c3aca2",
   "metadata": {},
   "outputs": [
    {
     "data": {
      "text/plain": [
       "array([-12. ,  34. ,  25. ,  78. ,  65. ,   0.9])"
      ]
     },
     "execution_count": 21,
     "metadata": {},
     "output_type": "execute_result"
    }
   ],
   "source": [
    "a=np.array([-12,34,25,78,65,9/10])\n",
    "a"
   ]
  },
  {
   "cell_type": "code",
   "execution_count": 22,
   "id": "fada273d",
   "metadata": {},
   "outputs": [
    {
     "data": {
      "text/plain": [
       "-12.0"
      ]
     },
     "execution_count": 22,
     "metadata": {},
     "output_type": "execute_result"
    }
   ],
   "source": [
    "a[0]"
   ]
  },
  {
   "cell_type": "code",
   "execution_count": 23,
   "id": "0b3551c1",
   "metadata": {},
   "outputs": [
    {
     "data": {
      "text/plain": [
       "0.9"
      ]
     },
     "execution_count": 23,
     "metadata": {},
     "output_type": "execute_result"
    }
   ],
   "source": [
    "a[5]"
   ]
  },
  {
   "cell_type": "code",
   "execution_count": 24,
   "id": "d2583924",
   "metadata": {},
   "outputs": [
    {
     "data": {
      "text/plain": [
       "78.0"
      ]
     },
     "execution_count": 24,
     "metadata": {},
     "output_type": "execute_result"
    }
   ],
   "source": [
    "a[-3]"
   ]
  },
  {
   "cell_type": "code",
   "execution_count": 25,
   "id": "1b3acd89",
   "metadata": {},
   "outputs": [
    {
     "data": {
      "text/plain": [
       "array([78., 65.])"
      ]
     },
     "execution_count": 25,
     "metadata": {},
     "output_type": "execute_result"
    }
   ],
   "source": [
    "a[3:5]"
   ]
  },
  {
   "cell_type": "code",
   "execution_count": 26,
   "id": "c9a29652",
   "metadata": {},
   "outputs": [
    {
     "data": {
      "text/plain": [
       "array([[ 0,  1,  2,  3,  4],\n",
       "       [ 5,  6,  7,  8,  9],\n",
       "       [10, 11, 12, 13, 14],\n",
       "       [15, 16, 17, 18, 19]])"
      ]
     },
     "execution_count": 26,
     "metadata": {},
     "output_type": "execute_result"
    }
   ],
   "source": [
    "b=np.arange(20).reshape(-4,5)\n",
    "b"
   ]
  },
  {
   "cell_type": "code",
   "execution_count": 27,
   "id": "c57763f6",
   "metadata": {},
   "outputs": [
    {
     "data": {
      "text/plain": [
       "13"
      ]
     },
     "execution_count": 27,
     "metadata": {},
     "output_type": "execute_result"
    }
   ],
   "source": [
    "b[2,3]"
   ]
  },
  {
   "cell_type": "code",
   "execution_count": 28,
   "id": "68dadef7",
   "metadata": {},
   "outputs": [
    {
     "data": {
      "text/plain": [
       "array([5, 6, 7, 8, 9])"
      ]
     },
     "execution_count": 28,
     "metadata": {},
     "output_type": "execute_result"
    }
   ],
   "source": [
    "b[1,:]"
   ]
  },
  {
   "cell_type": "code",
   "execution_count": 29,
   "id": "ba17a2b4",
   "metadata": {},
   "outputs": [
    {
     "data": {
      "text/plain": [
       "array([ 3,  8, 13, 18])"
      ]
     },
     "execution_count": 29,
     "metadata": {},
     "output_type": "execute_result"
    }
   ],
   "source": [
    "b[:,3]"
   ]
  },
  {
   "cell_type": "code",
   "execution_count": 30,
   "id": "de7e248a",
   "metadata": {},
   "outputs": [
    {
     "data": {
      "text/plain": [
       "array([6, 7, 8])"
      ]
     },
     "execution_count": 30,
     "metadata": {},
     "output_type": "execute_result"
    }
   ],
   "source": [
    "b[1,1:4]"
   ]
  },
  {
   "cell_type": "code",
   "execution_count": 31,
   "id": "2be7a91b",
   "metadata": {},
   "outputs": [],
   "source": [
    "import numpy as np"
   ]
  },
  {
   "cell_type": "code",
   "execution_count": 32,
   "id": "5e411d5f",
   "metadata": {},
   "outputs": [],
   "source": [
    "a=np.array([-12,34,25,78,65,9/10])\n",
    "b=np.array([-2,15,15,0.5,54,45])"
   ]
  },
  {
   "cell_type": "code",
   "execution_count": 33,
   "id": "b7fb1dd4",
   "metadata": {},
   "outputs": [
    {
     "data": {
      "text/plain": [
       "array([-14. ,  49. ,  40. ,  78.5, 119. ,  45.9])"
      ]
     },
     "execution_count": 33,
     "metadata": {},
     "output_type": "execute_result"
    }
   ],
   "source": [
    "a+b"
   ]
  },
  {
   "cell_type": "code",
   "execution_count": 34,
   "id": "bf757bfe",
   "metadata": {},
   "outputs": [
    {
     "data": {
      "text/plain": [
       "array([-24. ,  68. ,  50. , 156. , 130. ,   1.8])"
      ]
     },
     "execution_count": 34,
     "metadata": {},
     "output_type": "execute_result"
    }
   ],
   "source": [
    "a*2"
   ]
  },
  {
   "cell_type": "code",
   "execution_count": 35,
   "id": "28fac379",
   "metadata": {},
   "outputs": [
    {
     "data": {
      "text/plain": [
       "array([-1.2 ,  3.4 ,  2.5 ,  7.8 ,  6.5 ,  0.09])"
      ]
     },
     "execution_count": 35,
     "metadata": {},
     "output_type": "execute_result"
    }
   ],
   "source": [
    "a/10"
   ]
  },
  {
   "cell_type": "code",
   "execution_count": 36,
   "id": "8270afce",
   "metadata": {},
   "outputs": [
    {
     "data": {
      "text/plain": [
       "array([1.440e+02, 1.156e+03, 6.250e+02, 6.084e+03, 4.225e+03, 8.100e-01])"
      ]
     },
     "execution_count": 36,
     "metadata": {},
     "output_type": "execute_result"
    }
   ],
   "source": [
    "a**2"
   ]
  },
  {
   "cell_type": "code",
   "execution_count": 37,
   "id": "c83d84f7",
   "metadata": {},
   "outputs": [
    {
     "data": {
      "text/plain": [
       "array([6.94444444e-03, 9.37958786e+22, 9.31322575e+20, 8.83176087e+00,\n",
       "       7.89443873e+97, 8.72796357e-03])"
      ]
     },
     "execution_count": 37,
     "metadata": {},
     "output_type": "execute_result"
    }
   ],
   "source": [
    "a**b"
   ]
  },
  {
   "cell_type": "code",
   "execution_count": 38,
   "id": "34107a0a",
   "metadata": {},
   "outputs": [
    {
     "data": {
      "text/plain": [
       "array([6.00000000e+00, 2.26666667e+00, 1.66666667e+00, 1.56000000e+02,\n",
       "       1.20370370e+00, 2.00000000e-02])"
      ]
     },
     "execution_count": 38,
     "metadata": {},
     "output_type": "execute_result"
    }
   ],
   "source": [
    "a/b"
   ]
  },
  {
   "cell_type": "code",
   "execution_count": 39,
   "id": "5cbceee5",
   "metadata": {},
   "outputs": [
    {
     "data": {
      "text/plain": [
       "array([-10. ,  19. ,  10. ,  77.5,  11. , -44.1])"
      ]
     },
     "execution_count": 39,
     "metadata": {},
     "output_type": "execute_result"
    }
   ],
   "source": [
    "a-b"
   ]
  },
  {
   "cell_type": "code",
   "execution_count": 40,
   "id": "64b4e8c3",
   "metadata": {},
   "outputs": [
    {
     "data": {
      "text/plain": [
       "array([-12. ,  34. ,  25. ,  78. ,  65. ,   0.9])"
      ]
     },
     "execution_count": 40,
     "metadata": {},
     "output_type": "execute_result"
    }
   ],
   "source": [
    "a"
   ]
  },
  {
   "cell_type": "code",
   "execution_count": 41,
   "id": "97273ebb",
   "metadata": {},
   "outputs": [
    {
     "data": {
      "text/plain": [
       "array([-2. , 15. , 15. ,  0.5, 54. , 45. ])"
      ]
     },
     "execution_count": 41,
     "metadata": {},
     "output_type": "execute_result"
    }
   ],
   "source": [
    "b"
   ]
  },
  {
   "cell_type": "code",
   "execution_count": 42,
   "id": "48665b70",
   "metadata": {},
   "outputs": [],
   "source": [
    "import numpy as np"
   ]
  },
  {
   "cell_type": "code",
   "execution_count": 43,
   "id": "287301f1",
   "metadata": {},
   "outputs": [],
   "source": [
    "a=np.array([[-2,3],[-0.5,13]])\n",
    "b=np.array([[-2,3.5],[-0.5,23]])"
   ]
  },
  {
   "cell_type": "code",
   "execution_count": 44,
   "id": "6241eb19",
   "metadata": {},
   "outputs": [
    {
     "data": {
      "text/plain": [
       "array([[-2. ,  3. ],\n",
       "       [-0.5, 13. ]])"
      ]
     },
     "execution_count": 44,
     "metadata": {},
     "output_type": "execute_result"
    }
   ],
   "source": [
    "a"
   ]
  },
  {
   "cell_type": "code",
   "execution_count": 45,
   "id": "d75631c9",
   "metadata": {},
   "outputs": [
    {
     "data": {
      "text/plain": [
       "array([[-2. ,  3.5],\n",
       "       [-0.5, 23. ]])"
      ]
     },
     "execution_count": 45,
     "metadata": {},
     "output_type": "execute_result"
    }
   ],
   "source": [
    "b"
   ]
  },
  {
   "cell_type": "code",
   "execution_count": 46,
   "id": "01fe5ef4",
   "metadata": {},
   "outputs": [
    {
     "data": {
      "text/plain": [
       "array([[4.00e+00, 1.05e+01],\n",
       "       [2.50e-01, 2.99e+02]])"
      ]
     },
     "execution_count": 46,
     "metadata": {},
     "output_type": "execute_result"
    }
   ],
   "source": [
    "a*b"
   ]
  },
  {
   "cell_type": "code",
   "execution_count": 47,
   "id": "f7b47b44",
   "metadata": {},
   "outputs": [
    {
     "data": {
      "text/plain": [
       "array([[  0. ,  -0.5],\n",
       "       [  0. , -10. ]])"
      ]
     },
     "execution_count": 47,
     "metadata": {},
     "output_type": "execute_result"
    }
   ],
   "source": [
    "a-b"
   ]
  },
  {
   "cell_type": "code",
   "execution_count": 48,
   "id": "88423eb6",
   "metadata": {},
   "outputs": [
    {
     "data": {
      "text/plain": [
       "array([[1.        , 0.85714286],\n",
       "       [1.        , 0.56521739]])"
      ]
     },
     "execution_count": 48,
     "metadata": {},
     "output_type": "execute_result"
    }
   ],
   "source": [
    "a/b"
   ]
  },
  {
   "cell_type": "code",
   "execution_count": 49,
   "id": "ca36d04b",
   "metadata": {},
   "outputs": [
    {
     "name": "stderr",
     "output_type": "stream",
     "text": [
      "<ipython-input-49-27166ff49cce>:1: RuntimeWarning: invalid value encountered in power\n",
      "  a**b\n"
     ]
    },
    {
     "data": {
      "text/plain": [
       "array([[2.50000000e-01, 4.67653718e+01],\n",
       "       [           nan, 4.17539054e+25]])"
      ]
     },
     "execution_count": 49,
     "metadata": {},
     "output_type": "execute_result"
    }
   ],
   "source": [
    "a**b"
   ]
  },
  {
   "cell_type": "code",
   "execution_count": 50,
   "id": "fb415264",
   "metadata": {},
   "outputs": [],
   "source": [
    "import numpy as np"
   ]
  },
  {
   "cell_type": "code",
   "execution_count": 51,
   "id": "2c06ca7d",
   "metadata": {},
   "outputs": [],
   "source": [
    "a=np.array([-20,-3.5,25,14,2])"
   ]
  },
  {
   "cell_type": "code",
   "execution_count": 52,
   "id": "51a86dda",
   "metadata": {},
   "outputs": [
    {
     "data": {
      "text/plain": [
       "array([False, False,  True,  True, False])"
      ]
     },
     "execution_count": 52,
     "metadata": {},
     "output_type": "execute_result"
    }
   ],
   "source": [
    "a>=10"
   ]
  },
  {
   "cell_type": "code",
   "execution_count": 53,
   "id": "bb50044a",
   "metadata": {},
   "outputs": [
    {
     "data": {
      "text/plain": [
       "array([ True,  True, False, False,  True])"
      ]
     },
     "execution_count": 53,
     "metadata": {},
     "output_type": "execute_result"
    }
   ],
   "source": [
    "a<=10"
   ]
  },
  {
   "cell_type": "code",
   "execution_count": 54,
   "id": "52e1bfe6",
   "metadata": {},
   "outputs": [
    {
     "data": {
      "text/plain": [
       "array([False, False,  True, False, False])"
      ]
     },
     "execution_count": 54,
     "metadata": {},
     "output_type": "execute_result"
    }
   ],
   "source": [
    "a>=20"
   ]
  },
  {
   "cell_type": "code",
   "execution_count": 55,
   "id": "d054adbf",
   "metadata": {},
   "outputs": [
    {
     "data": {
      "text/plain": [
       "array([ True,  True, False,  True,  True])"
      ]
     },
     "execution_count": 55,
     "metadata": {},
     "output_type": "execute_result"
    }
   ],
   "source": [
    "a<=20"
   ]
  },
  {
   "cell_type": "code",
   "execution_count": 56,
   "id": "498479cb",
   "metadata": {},
   "outputs": [
    {
     "data": {
      "text/plain": [
       "array([25., 14.])"
      ]
     },
     "execution_count": 56,
     "metadata": {},
     "output_type": "execute_result"
    }
   ],
   "source": [
    "a[a>=10]"
   ]
  },
  {
   "cell_type": "code",
   "execution_count": 57,
   "id": "c5724ef6",
   "metadata": {},
   "outputs": [],
   "source": [
    "b=np.array([-20,30,0.5])"
   ]
  },
  {
   "cell_type": "code",
   "execution_count": 60,
   "id": "7349ff93",
   "metadata": {},
   "outputs": [],
   "source": [
    "c=np.array([True,False,True])"
   ]
  },
  {
   "cell_type": "code",
   "execution_count": 61,
   "id": "5ce68f9c",
   "metadata": {},
   "outputs": [
    {
     "data": {
      "text/plain": [
       "array([-20. ,   0.5])"
      ]
     },
     "execution_count": 61,
     "metadata": {},
     "output_type": "execute_result"
    }
   ],
   "source": [
    "b[c]"
   ]
  }
 ],
 "metadata": {
  "kernelspec": {
   "display_name": "Python 3",
   "language": "python",
   "name": "python3"
  },
  "language_info": {
   "codemirror_mode": {
    "name": "ipython",
    "version": 3
   },
   "file_extension": ".py",
   "mimetype": "text/x-python",
   "name": "python",
   "nbconvert_exporter": "python",
   "pygments_lexer": "ipython3",
   "version": "3.8.8"
  }
 },
 "nbformat": 4,
 "nbformat_minor": 5
}
